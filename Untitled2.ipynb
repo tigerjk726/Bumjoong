{
  "nbformat": 4,
  "nbformat_minor": 0,
  "metadata": {
    "colab": {
      "name": "Untitled2.ipynb",
      "provenance": [],
      "authorship_tag": "ABX9TyM2YugcaO/Bj9oTRtFCZrKU",
      "include_colab_link": true
    },
    "kernelspec": {
      "name": "python3",
      "display_name": "Python 3"
    },
    "language_info": {
      "name": "python"
    }
  },
  "cells": [
    {
      "cell_type": "markdown",
      "metadata": {
        "id": "view-in-github",
        "colab_type": "text"
      },
      "source": [
        "<a href=\"https://colab.research.google.com/github/tigerjk726/Bumjoong/blob/main/Untitled2.ipynb\" target=\"_parent\"><img src=\"https://colab.research.google.com/assets/colab-badge.svg\" alt=\"Open In Colab\"/></a>"
      ]
    },
    {
      "cell_type": "markdown",
      "metadata": {
        "id": "lyQYqL5ydx0X"
      },
      "source": [
        "Assignments and Memory\n",
        "들어가기\n",
        "이해를 못해도 추후 Datacamp 강좌를 듣고 실습하는데 아무 문제 X\n",
        "나중에 시행착오를 조금이라도 줄이거나, 파이썬에서의 메모리 이해룰 조금이라도 늘리기 위해\n",
        "잘못 이해해서 틀린 내용이 나올 가능성 충분\n",
        "시각적으로 메모리영역을 나타낸 자료를 포함한 다른 강의나 포스팅을 추후에 더 보는 것 추천\n",
        "Lecutre\n",
        "Manipulating Lists\n",
        "\n",
        "https://campus.datacamp.com/courses/intro-to-python-for-data-science/chapter-2-python-lists?ex=12\n",
        "\n",
        "위 강좌 2분 10초경 부터 보면 다음 장면들이 나온다."
      ]
    },
    {
      "cell_type": "markdown",
      "metadata": {
        "id": "oREiZtt3eKoD"
      },
      "source": [
        "Assignment\n",
        "정의\n",
        "\n",
        "단순 할당 연산자 (=)만 가지고 하는 연산. b = a\n",
        "\n",
        "-> a를 b라고도 부르겠다, b는 a의 또다른 이름이다.\n",
        "\n",
        "변수를 대입(assignment)하는 과정이 '복사'를 하는 것이 아니라 '참조'를 하는 과정임.\n",
        "\n",
        "그저 해당하는 메모리에 이름이 하나 더 생긴 것. (reference)\n",
        "\n",
        "메모리영역 확인\n",
        "한 메모리를 부르는 이름의 개수 확인"
      ]
    },
    {
      "cell_type": "code",
      "metadata": {
        "colab": {
          "base_uri": "https://localhost:8080/"
        },
        "id": "lwmqO-sheOMh",
        "outputId": "0f7d5234-01f4-4d74-f799-0df0d363f844"
      },
      "source": [
        "#getrefcount == get_reference_count == 레퍼런스(이름)의 개수를 세어줌\n",
        "import sys\n",
        "a = ['a','b','c']\n",
        "print(sys.getrefcount(a))\n",
        "b = a\n",
        "print(sys.getrefcount(a))\n",
        "b = list(a[:])\n",
        "print(sys.getrefcount(a))"
      ],
      "execution_count": 2,
      "outputs": [
        {
          "output_type": "stream",
          "name": "stdout",
          "text": [
            "2\n",
            "3\n",
            "2\n"
          ]
        }
      ]
    },
    {
      "cell_type": "code",
      "metadata": {
        "colab": {
          "base_uri": "https://localhost:8080/"
        },
        "id": "zhHhx344eSID",
        "outputId": "2202de7d-c8e6-48af-c72c-47c3d0f8db71"
      },
      "source": [
        "# python help\n",
        "help(id)"
      ],
      "execution_count": 3,
      "outputs": [
        {
          "output_type": "stream",
          "name": "stdout",
          "text": [
            "Help on built-in function id in module builtins:\n",
            "\n",
            "id(obj, /)\n",
            "    Return the identity of an object.\n",
            "    \n",
            "    This is guaranteed to be unique among simultaneously existing objects.\n",
            "    (CPython uses the object's memory address.)\n",
            "\n"
          ]
        }
      ]
    },
    {
      "cell_type": "code",
      "metadata": {
        "colab": {
          "base_uri": "https://localhost:8080/"
        },
        "id": "0FsBhiwReTW_",
        "outputId": "8340c99b-53d7-4ed0-de79-b3aadf827904"
      },
      "source": [
        "x = [\"a\", \"b\", \"c\"]\n",
        "print(id(x))"
      ],
      "execution_count": 4,
      "outputs": [
        {
          "output_type": "stream",
          "name": "stdout",
          "text": [
            "140002177936272\n"
          ]
        }
      ]
    },
    {
      "cell_type": "code",
      "metadata": {
        "colab": {
          "base_uri": "https://localhost:8080/"
        },
        "id": "l9BTnpVfeUwQ",
        "outputId": "740032a3-041d-4245-ffa9-6c3e17a65eea"
      },
      "source": [
        "# x라는 이름 말고도 y라는 이름으로 부를래!\n",
        "y = x\n",
        "print(id(y))"
      ],
      "execution_count": 5,
      "outputs": [
        {
          "output_type": "stream",
          "name": "stdout",
          "text": [
            "140002177936272\n"
          ]
        }
      ]
    },
    {
      "cell_type": "code",
      "metadata": {
        "colab": {
          "base_uri": "https://localhost:8080/"
        },
        "id": "vTKvCry8eV7n",
        "outputId": "235453aa-1dff-4a51-8ff6-21ecd65baa42"
      },
      "source": [
        "\n",
        "# 리스트의 요소하나를 바꾸어도, 리스트 전체의 주소가 변하진 않음\n",
        "y[1] = \"z\"\n",
        "print(id(x))\n",
        "print(id(y))\n",
        "print(x)"
      ],
      "execution_count": 6,
      "outputs": [
        {
          "output_type": "stream",
          "name": "stdout",
          "text": [
            "140002177936272\n",
            "140002177936272\n",
            "['a', 'z', 'c']\n"
          ]
        }
      ]
    },
    {
      "cell_type": "code",
      "metadata": {
        "id": "-Pr8FQBieY_u"
      },
      "source": [
        ""
      ],
      "execution_count": null,
      "outputs": []
    },
    {
      "cell_type": "markdown",
      "metadata": {
        "id": "gLCEyMv_ea_4"
      },
      "source": [
        "copy\n",
        "단일 할당 연산자(=)만 쓰이지 않음"
      ]
    },
    {
      "cell_type": "code",
      "metadata": {
        "colab": {
          "base_uri": "https://localhost:8080/"
        },
        "id": "eswNbGKqebwa",
        "outputId": "b728ddd3-8d1c-433a-f168-52c854dcc05c"
      },
      "source": [
        "# list(x[:])는 x와 같은 값을 복사한 것임\n",
        "print(id(x))\n",
        "print(id(list(x)))"
      ],
      "execution_count": 7,
      "outputs": [
        {
          "output_type": "stream",
          "name": "stdout",
          "text": [
            "140002177936272\n",
            "140002177549488\n"
          ]
        }
      ]
    },
    {
      "cell_type": "code",
      "metadata": {
        "colab": {
          "base_uri": "https://localhost:8080/"
        },
        "id": "diKGl9GleeAo",
        "outputId": "6c4efc7e-6447-477e-8402-a29e8eefab19"
      },
      "source": [
        "# 다른 방법들\n",
        "print(id(x[:]))\n",
        "print(id(x.copy))\n",
        "\n",
        "import copy as cp\n",
        "print(id(cp.copy(x)))"
      ],
      "execution_count": 8,
      "outputs": [
        {
          "output_type": "stream",
          "name": "stdout",
          "text": [
            "140002178016432\n",
            "140002177562736\n",
            "140002347199376\n"
          ]
        }
      ]
    },
    {
      "cell_type": "code",
      "metadata": {
        "colab": {
          "base_uri": "https://localhost:8080/"
        },
        "id": "jNmN0iysefph",
        "outputId": "1a04076a-a1ed-4a08-ac15-99628a9de1fc"
      },
      "source": [
        "# x와 값이 동일하지만 다른 (실제로 다른 메모리에 따로 저장된) 리스트를 만들고 y라 부를래!\n",
        "y = list(x) # x[:], x.copy() 다른 방법들\n",
        "print(id(x))\n",
        "print(id(y))"
      ],
      "execution_count": 9,
      "outputs": [
        {
          "output_type": "stream",
          "name": "stdout",
          "text": [
            "140002177936272\n",
            "140002178017792\n"
          ]
        }
      ]
    },
    {
      "cell_type": "markdown",
      "metadata": {
        "id": "gu5K1SdZ1Z2l"
      },
      "source": [
        "Mutable"
      ]
    },
    {
      "cell_type": "code",
      "metadata": {
        "colab": {
          "base_uri": "https://localhost:8080/"
        },
        "id": "2tVDyvNi1aq_",
        "outputId": "b16d2d2a-737f-4058-eb25-d1e0d507db79"
      },
      "source": [
        "#파이썬의 리터럴 상수\n",
        "\n",
        "z = [\"a\", \"b\", \"c\"]\n",
        "print(id(x[0]), id(x[1]), id(x[2]))\n",
        "print(id(y[0]), id(y[1]), id(y[2]))\n",
        "print(id(z[0]), id(z[1]), id(z[2]))"
      ],
      "execution_count": 11,
      "outputs": [
        {
          "output_type": "stream",
          "name": "stdout",
          "text": [
            "140002811704880 140002810984816 140002811994416\n",
            "140002811704880 140002810984816 140002811994416\n",
            "140002811704880 140002811546352 140002811994416\n"
          ]
        }
      ]
    },
    {
      "cell_type": "code",
      "metadata": {
        "colab": {
          "base_uri": "https://localhost:8080/"
        },
        "id": "f6Q25DlI2FeY",
        "outputId": "2ec1d2d0-3543-4d9e-cbea-f5030a38b873"
      },
      "source": [
        "a = [[1,2,3],(4,5),6]\n",
        "\n",
        "# a와 값이 동일하지만, 엄연히 다른 새로운 변수의 이름 b\n",
        "b = a[:]\n",
        "print(id(a))\n",
        "print(id(b))"
      ],
      "execution_count": 12,
      "outputs": [
        {
          "output_type": "stream",
          "name": "stdout",
          "text": [
            "140002347199376\n",
            "140002177896352\n"
          ]
        }
      ]
    },
    {
      "cell_type": "code",
      "metadata": {
        "colab": {
          "base_uri": "https://localhost:8080/"
        },
        "id": "qBqx3WC92G3m",
        "outputId": "0dac8d22-3e41-4a09-d05c-baeec0676bf0"
      },
      "source": [
        "# 내부 리스트는 이름이 같음!\n",
        "print(id(a[0]), id(a[1]), id(a[2]))\n",
        "print(id(b[0]), id(b[1]), id(b[2]))"
      ],
      "execution_count": 13,
      "outputs": [
        {
          "output_type": "stream",
          "name": "stdout",
          "text": [
            "140002177960768 140002177550688 93888169585312\n",
            "140002177960768 140002177550688 93888169585312\n"
          ]
        }
      ]
    },
    {
      "cell_type": "code",
      "metadata": {
        "colab": {
          "base_uri": "https://localhost:8080/"
        },
        "id": "tw0RaPSm2IM9",
        "outputId": "328737ad-f0ed-435c-b964-26f1f8f0f898"
      },
      "source": [
        "a[0][0] = 4\n",
        "print(id(a[0]))\n",
        "print(id(b[0]))\n",
        "print(a)\n",
        "print(b)"
      ],
      "execution_count": 14,
      "outputs": [
        {
          "output_type": "stream",
          "name": "stdout",
          "text": [
            "140002177960768\n",
            "140002177960768\n",
            "[[4, 2, 3], (4, 5), 6]\n",
            "[[4, 2, 3], (4, 5), 6]\n"
          ]
        }
      ]
    },
    {
      "cell_type": "code",
      "metadata": {
        "colab": {
          "base_uri": "https://localhost:8080/"
        },
        "id": "VgODIlyS2Jqg",
        "outputId": "9aba3e58-b9a6-485d-e095-79f3bbb65122"
      },
      "source": [
        "a = [[1,2,3],[4,5,6]]\n",
        "b = a.copy()\n",
        "\n",
        "b[0][0] = 7\n",
        "print(a)"
      ],
      "execution_count": 15,
      "outputs": [
        {
          "output_type": "stream",
          "name": "stdout",
          "text": [
            "[[7, 2, 3], [4, 5, 6]]\n"
          ]
        }
      ]
    },
    {
      "cell_type": "code",
      "metadata": {
        "id": "CgTsrMrI2LW5"
      },
      "source": [
        "#import copy 위에서 이미함\n",
        "x = [[1,2,3],[4,5,6],[7,8,9]]\n",
        "def is_same_id(a, b):\n",
        "    if id(a) == id(b):\n",
        "        print('메모리 주소(id)가 같습니다.')\n",
        "    else:\n",
        "        print('메모리 주소(id)가 다릅니다.')"
      ],
      "execution_count": 17,
      "outputs": []
    },
    {
      "cell_type": "code",
      "metadata": {
        "colab": {
          "base_uri": "https://localhost:8080/"
        },
        "id": "c7Udy8S92NGg",
        "outputId": "31565c81-166e-4251-aaf7-f2198ba6311c"
      },
      "source": [
        "a = x\n",
        "is_same_id(x, a)\n",
        "is_same_id(x[0], a[0])"
      ],
      "execution_count": 18,
      "outputs": [
        {
          "output_type": "stream",
          "name": "stdout",
          "text": [
            "메모리 주소(id)가 같습니다.\n",
            "메모리 주소(id)가 같습니다.\n"
          ]
        }
      ]
    },
    {
      "cell_type": "code",
      "metadata": {
        "colab": {
          "base_uri": "https://localhost:8080/"
        },
        "id": "RQy_emNl2Oa5",
        "outputId": "1399ed43-6c4a-497d-9543-f25e78470891"
      },
      "source": [
        "b = cp.copy(x) # x.copy(), x[:]\n",
        "is_same_id(x, b)\n",
        "is_same_id(x[0], b[0])"
      ],
      "execution_count": 19,
      "outputs": [
        {
          "output_type": "stream",
          "name": "stdout",
          "text": [
            "메모리 주소(id)가 다릅니다.\n",
            "메모리 주소(id)가 같습니다.\n"
          ]
        }
      ]
    },
    {
      "cell_type": "code",
      "metadata": {
        "colab": {
          "base_uri": "https://localhost:8080/"
        },
        "id": "-F_xZsK52QAV",
        "outputId": "c6436f3d-9fa3-4470-ac9d-04769f0ad475"
      },
      "source": [
        "c = cp.deepcopy(x)\n",
        "is_same_id(x, c)\n",
        "is_same_id(x[0], c[0])"
      ],
      "execution_count": 20,
      "outputs": [
        {
          "output_type": "stream",
          "name": "stdout",
          "text": [
            "메모리 주소(id)가 다릅니다.\n",
            "메모리 주소(id)가 다릅니다.\n"
          ]
        }
      ]
    }
  ]
}