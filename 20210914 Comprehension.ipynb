{
  "nbformat": 4,
  "nbformat_minor": 0,
  "metadata": {
    "colab": {
      "name": "Untitled3.ipynb",
      "provenance": [],
      "authorship_tag": "ABX9TyO8z2K5akF7hm0je8l9b24T",
      "include_colab_link": true
    },
    "kernelspec": {
      "name": "python3",
      "display_name": "Python 3"
    },
    "language_info": {
      "name": "python"
    }
  },
  "cells": [
    {
      "cell_type": "markdown",
      "metadata": {
        "id": "view-in-github",
        "colab_type": "text"
      },
      "source": [
        "<a href=\"https://colab.research.google.com/github/tigerjk726/Bumjoong/blob/main/20210914%20Comprehension.ipynb\" target=\"_parent\"><img src=\"https://colab.research.google.com/assets/colab-badge.svg\" alt=\"Open In Colab\"/></a>"
      ]
    },
    {
      "cell_type": "code",
      "metadata": {
        "colab": {
          "base_uri": "https://localhost:8080/"
        },
        "id": "KtStFl3SdJzY",
        "outputId": "364c7987-bdfd-4332-8d1c-648b843f35db"
      },
      "source": [
        "a = [1,2,3,4,5,6,7,8,9,10]\n",
        "squares = []\n",
        "for x in a: \n",
        "  if x % 2 == 0:\n",
        "\t  squares.append(x**2)\n",
        "print(squares)"
      ],
      "execution_count": 15,
      "outputs": [
        {
          "output_type": "stream",
          "name": "stdout",
          "text": [
            "[4, 16, 36, 64, 100]\n"
          ]
        }
      ]
    },
    {
      "cell_type": "code",
      "metadata": {
        "colab": {
          "base_uri": "https://localhost:8080/"
        },
        "id": "0dmw7VADep1e",
        "outputId": "cb512e7e-a35e-4a4a-c6eb-cdf80e7b45b3"
      },
      "source": [
        "a = [1,2,3,4,5,6,7,8,9,10]\n",
        "squares = [x**2 for x in a if x % 2 == 0]\n",
        "print(squares)"
      ],
      "execution_count": 16,
      "outputs": [
        {
          "output_type": "stream",
          "name": "stdout",
          "text": [
            "[4, 16, 36, 64, 100]\n"
          ]
        }
      ]
    },
    {
      "cell_type": "code",
      "metadata": {
        "colab": {
          "base_uri": "https://localhost:8080/"
        },
        "id": "5DqFztG7gCD6",
        "outputId": "fdafac29-dc16-4834-c33c-7d9a93a5ccda"
      },
      "source": [
        "a = [1,2,3,4,5,6,7,8,9,10]\n",
        "squares = list(map(lambda x: x**2, filter(lambda x: x % 2 == 0, a)))\n",
        "print(squares)\n",
        "\n",
        "# [4, 16, 36, 64, 100]"
      ],
      "execution_count": 19,
      "outputs": [
        {
          "output_type": "stream",
          "name": "stdout",
          "text": [
            "[4, 16, 36, 64, 100]\n"
          ]
        }
      ]
    },
    {
      "cell_type": "code",
      "metadata": {
        "colab": {
          "base_uri": "https://localhost:8080/"
        },
        "id": "6qoQEUwMmu82",
        "outputId": "e9edba84-dfe5-4d94-d4bd-1007ae767224"
      },
      "source": [
        "gen = (x**2 for x in range(10))\n",
        "print(gen)\n",
        "# <generator object <genexpr> at 0x105bde5c8>\n",
        "print(next(gen)) # call 1\n",
        "# 0\n",
        "print(next(gen)) # call 2\n",
        "# 1\n",
        "# 'next' 함수 호출을 10번 반복\n",
        "print(next(gen)) # call 10\n",
        "# 81\n",
        "print(next(gen)) # call 11"
      ],
      "execution_count": 23,
      "outputs": [
        {
          "output_type": "stream",
          "name": "stdout",
          "text": [
            "<generator object <genexpr> at 0x7f7b8f759250>\n",
            "0\n",
            "1\n",
            "4\n",
            "9\n"
          ]
        }
      ]
    }
  ]
}