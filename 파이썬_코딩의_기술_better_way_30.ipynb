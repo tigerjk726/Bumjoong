{
  "nbformat": 4,
  "nbformat_minor": 0,
  "metadata": {
    "colab": {
      "name": "파이썬 코딩의 기술 better way 30.ipynb",
      "provenance": [],
      "collapsed_sections": [],
      "include_colab_link": true
    },
    "kernelspec": {
      "name": "python3",
      "display_name": "Python 3"
    },
    "language_info": {
      "name": "python"
    }
  },
  "cells": [
    {
      "cell_type": "markdown",
      "metadata": {
        "id": "view-in-github",
        "colab_type": "text"
      },
      "source": [
        "<a href=\"https://colab.research.google.com/github/tigerjk726/Bumjoong/blob/main/%ED%8C%8C%EC%9D%B4%EC%8D%AC_%EC%BD%94%EB%94%A9%EC%9D%98_%EA%B8%B0%EC%88%A0_better_way_30.ipynb\" target=\"_parent\"><img src=\"https://colab.research.google.com/assets/colab-badge.svg\" alt=\"Open In Colab\"/></a>"
      ]
    },
    {
      "cell_type": "markdown",
      "metadata": {
        "id": "eZwGUz43Ilpy"
      },
      "source": [
        "# **리스트를 반환하기보다는 제너레이터를 사용하라**\n",
        "\n",
        "*   시퀀스를 결과로 만들어 낼 때 원소들이 모인 리스트를 반환해볼 수 있을텐데\n",
        "*   **제너레이터를 사용하면 더 깔끔하고 메모리를 아낄 수 있다.**"
      ]
    },
    {
      "cell_type": "markdown",
      "metadata": {
        "id": "9KrKTqUkKR1_"
      },
      "source": [
        "예를들어 문자열에서 단어별로 인덱스를 뽑는 예시를 보면...\n",
        "\n",
        "# **1. 제너레이터 X**\n",
        "\n",
        "가장 간단한 방법으로는 **for문과 append메서드**를 활용해 반복하면서 리스트에 하나씩 넣고\n",
        "\n",
        "최종적으로 리스트를 반환 하는 것이다."
      ]
    },
    {
      "cell_type": "code",
      "metadata": {
        "id": "71SrzCJS5ycT"
      },
      "source": [
        "def index_words(text):\n",
        "    result = []\n",
        "    if text:\n",
        "        result.append(0)\n",
        "    for index, letter in enumerate(text):\n",
        "        if letter == ' ':\n",
        "            result.append(index + 1)\n",
        "    return result"
      ],
      "execution_count": null,
      "outputs": []
    },
    {
      "cell_type": "code",
      "metadata": {
        "colab": {
          "base_uri": "https://localhost:8080/"
        },
        "id": "wxmuTMwi6F07",
        "outputId": "65803cc2-fbd2-4fe4-c8a3-b306223f6c0e"
      },
      "source": [
        "address = '컴퓨터(영어: Computer, 문화어: 콤퓨터 , 순화어: 전산기)는 진공관'\n",
        "result = index_words(address)\n",
        "print(result[:10])"
      ],
      "execution_count": null,
      "outputs": [
        {
          "output_type": "stream",
          "name": "stdout",
          "text": [
            "[0, 8, 18, 23, 27, 29, 34, 40]\n"
          ]
        }
      ]
    },
    {
      "cell_type": "markdown",
      "metadata": {
        "id": "jK0iZLouLRxQ"
      },
      "source": [
        "(근데.. 책에 있는 답이랑 다르다)"
      ]
    },
    {
      "cell_type": "markdown",
      "metadata": {
        "id": "ytgpRNn4K_Xr"
      },
      "source": [
        "**직접 간단한 예시를 들어서 다시 보면**"
      ]
    },
    {
      "cell_type": "code",
      "metadata": {
        "colab": {
          "base_uri": "https://localhost:8080/"
        },
        "id": "D0j3G74e6RFn",
        "outputId": "ee453a75-b9f3-47d5-cd5b-68cd16a85ab6"
      },
      "source": [
        "address = '파이썬 코딩의 기술'\n",
        "result = index_words(address)\n",
        "print(result[:10])"
      ],
      "execution_count": null,
      "outputs": [
        {
          "output_type": "stream",
          "name": "stdout",
          "text": [
            "[0, 4, 8]\n"
          ]
        }
      ]
    },
    {
      "cell_type": "markdown",
      "metadata": {
        "id": "uftdY21Y17ck"
      },
      "source": [
        "\n",
        "\n",
        "* **코드에 잡음이 많고 핵심을 알아보기 어렵다. (result.append > index + 1)**\n",
        "* **리스트 만드는 줄과 결과를 반환하는 줄이 따로 있다**\n",
        "\n"
      ]
    },
    {
      "cell_type": "markdown",
      "metadata": {
        "id": "IQ4v8Br51U90"
      },
      "source": [
        "# **2. 제너레이터 O**"
      ]
    },
    {
      "cell_type": "markdown",
      "metadata": {
        "id": "QR8MLwpWx0Nl"
      },
      "source": [
        "**제너레이터 형태**로 써 본다면?\n",
        "\n",
        "여기서 제너레이터란?\n",
        "\n",
        "yield 식을 사용하는 함수에 의해 만들어지는데\n",
        "\n",
        "이 함수가 호출되면 함수가 실제로 다 실행되지 않고 \n",
        "\n",
        "next 내장함수를 호출할 때마다 다음 yield 식까지 진행시킨다 "
      ]
    },
    {
      "cell_type": "code",
      "metadata": {
        "id": "rXuE_D2D67JQ"
      },
      "source": [
        "def index_words_iter(text):\n",
        "    if text:\n",
        "        yield 0\n",
        "    for index, letter in enumerate(text):\n",
        "        if letter == ' ':\n",
        "            yield index + 1"
      ],
      "execution_count": null,
      "outputs": []
    },
    {
      "cell_type": "code",
      "metadata": {
        "id": "8z-sxBCf7ULM"
      },
      "source": [
        "address = '파이썬 코딩의 기술'\n",
        "it = index_words_iter(address)"
      ],
      "execution_count": null,
      "outputs": []
    },
    {
      "cell_type": "code",
      "metadata": {
        "colab": {
          "base_uri": "https://localhost:8080/"
        },
        "id": "5dKRq8CF7XSf",
        "outputId": "6997ba87-fbe1-4df7-f482-b75fd5cd12a4"
      },
      "source": [
        "print(next(it))"
      ],
      "execution_count": null,
      "outputs": [
        {
          "output_type": "stream",
          "name": "stdout",
          "text": [
            "0\n"
          ]
        }
      ]
    },
    {
      "cell_type": "code",
      "metadata": {
        "colab": {
          "base_uri": "https://localhost:8080/"
        },
        "id": "r92C-yaJ7euG",
        "outputId": "2bcbc2a7-13aa-4470-808b-b526389faf69"
      },
      "source": [
        "print(next(it))"
      ],
      "execution_count": null,
      "outputs": [
        {
          "output_type": "stream",
          "name": "stdout",
          "text": [
            "4\n"
          ]
        }
      ]
    },
    {
      "cell_type": "code",
      "metadata": {
        "colab": {
          "base_uri": "https://localhost:8080/"
        },
        "id": "hS2RL2HQ7fqk",
        "outputId": "59880a58-d26a-4470-e668-eae70ca549c7"
      },
      "source": [
        "print(next(it))"
      ],
      "execution_count": null,
      "outputs": [
        {
          "output_type": "stream",
          "name": "stdout",
          "text": [
            "8\n"
          ]
        }
      ]
    },
    {
      "cell_type": "code",
      "metadata": {
        "colab": {
          "base_uri": "https://localhost:8080/",
          "height": 164
        },
        "id": "jm_UqSx6orsS",
        "outputId": "509e5806-39dd-4cdb-d893-1e9a1886b3d3"
      },
      "source": [
        "print(next(it))"
      ],
      "execution_count": null,
      "outputs": [
        {
          "output_type": "error",
          "ename": "StopIteration",
          "evalue": "ignored",
          "traceback": [
            "\u001b[0;31m---------------------------------------------------------------------------\u001b[0m",
            "\u001b[0;31mStopIteration\u001b[0m                             Traceback (most recent call last)",
            "\u001b[0;32m<ipython-input-9-4d0222393be1>\u001b[0m in \u001b[0;36m<module>\u001b[0;34m()\u001b[0m\n\u001b[0;32m----> 1\u001b[0;31m \u001b[0mprint\u001b[0m\u001b[0;34m(\u001b[0m\u001b[0mnext\u001b[0m\u001b[0;34m(\u001b[0m\u001b[0mit\u001b[0m\u001b[0;34m)\u001b[0m\u001b[0;34m)\u001b[0m\u001b[0;34m\u001b[0m\u001b[0;34m\u001b[0m\u001b[0m\n\u001b[0m",
            "\u001b[0;31mStopIteration\u001b[0m: "
          ]
        }
      ]
    },
    {
      "cell_type": "markdown",
      "metadata": {
        "id": "g_pbdtbS4fVb"
      },
      "source": [
        "* **반환하는 리스트와 상호작용하는 코드가 사라져서 훨씬 읽기 쉬워졌다**\n",
        "* **리스트 내장함수에 전달하면 쉽게 리스트로 변환할 수 있다.**\n"
      ]
    },
    {
      "cell_type": "code",
      "metadata": {
        "colab": {
          "base_uri": "https://localhost:8080/"
        },
        "id": "SEQ5_05G7g6k",
        "outputId": "b96f2451-995f-4c90-f629-af4118c480ea"
      },
      "source": [
        "result = list(index_words_iter(address))\n",
        "print(result[:10])"
      ],
      "execution_count": null,
      "outputs": [
        {
          "output_type": "stream",
          "name": "stdout",
          "text": [
            "[0, 4, 8]\n"
          ]
        }
      ]
    },
    {
      "cell_type": "markdown",
      "metadata": {
        "id": "tp9_C7RZ6Wr8"
      },
      "source": [
        "# **3. 제너레이터 O (입력이 큰 경우)**\n",
        "\n",
        "**제너레이터 쓰지 않으면 반환하기 전에 리스트에 모든 결과를 다 저장해야 한다.**\n",
        "\n",
        "입력이 매우 크면 프로그램이 메모리를 소진해서 중단될 수 있다.\n",
        "\n",
        "**같은 함수를 제너레이터 버전으로 만들면 사용하는 메모리 크기를 어느정도 제한할 수 있음 -> 입력이 커도 쉽게 처리할 수 있다.**"
      ]
    },
    {
      "cell_type": "markdown",
      "metadata": {
        "id": "_maE_yHex9Lh"
      },
      "source": [
        "**외부의 텍스트 파일을 가져오는 상황**에 제너레이터를 적용해서 만들어 본다면?"
      ]
    },
    {
      "cell_type": "code",
      "metadata": {
        "id": "1kr3gYr2_F3D"
      },
      "source": [
        "def index_file(handle):\n",
        "    offset = 0\n",
        "    for line in handle:\n",
        "        if line:\n",
        "            yield offset\n",
        "        for letter in line:\n",
        "            offset += 1\n",
        "            if letter == ' ':\n",
        "                yield offset"
      ],
      "execution_count": null,
      "outputs": []
    },
    {
      "cell_type": "code",
      "metadata": {
        "colab": {
          "base_uri": "https://localhost:8080/"
        },
        "id": "YiP38q2fCOxb",
        "outputId": "56b3f058-b8e0-41c6-a5e9-c0301d452fd9"
      },
      "source": [
        "import itertools\n",
        "\n",
        "# adress.txt -> 파이썬 코딩의 기술\n",
        "with open('address.txt', 'r', encoding='utf-8') as f:\n",
        "    it = index_file(f)\n",
        "    results = itertools.islice(it, 0, 10)\n",
        "    print(list(results))"
      ],
      "execution_count": null,
      "outputs": [
        {
          "output_type": "stream",
          "name": "stdout",
          "text": [
            "[0, 4, 8]\n"
          ]
        }
      ]
    },
    {
      "cell_type": "markdown",
      "metadata": {
        "id": "-JFi6SbY9wKG"
      },
      "source": [
        "islice란?\n",
        "\n",
        "islice을 통해 이터레이션을 만드는데 두번째 인자 부터 세번째 인자까지 이터레이션 한다는 뜻\n",
        "\n",
        "https://docs.python.org/ko/3.8/library/itertools.html"
      ]
    },
    {
      "cell_type": "markdown",
      "metadata": {
        "id": "169uYgEI-S-l"
      },
      "source": [
        "# **요약!**\n",
        "* **제너레이터를 사용하면 더 안쓰는 것보다 더 깔끔하다.**\n",
        "* **메모리를 효율적으로 사용할 수 있다. (크기가 큰 데이터 처리 가능)**\n",
        "* **이런 이터레이션 자체가 데이터 사이언스에서 잘 활용됨**"
      ]
    },
    {
      "cell_type": "markdown",
      "metadata": {
        "id": "_tRCcDUFuUMt"
      },
      "source": [
        "데이터 사이언스에서 map 사용하는 예\n",
        "\n",
        "https://www.tensorflow.org/tutorials/images/data_augmentation?hl=ko"
      ]
    },
    {
      "cell_type": "markdown",
      "metadata": {
        "id": "p0chm_y6v1kM"
      },
      "source": [
        "데이터 사이언스에서 iteration를 사용하는 예\n",
        "\n",
        "https://www.tensorflow.org/tutorials/load_data/images?hl=ko\n",
        "\n",
        "https://pytorch.org/tutorials/beginner/basics/data_tutorial.html"
      ]
    },
    {
      "cell_type": "code",
      "metadata": {
        "id": "IJGDSfS-udjV"
      },
      "source": [
        ""
      ],
      "execution_count": null,
      "outputs": []
    }
  ]
}