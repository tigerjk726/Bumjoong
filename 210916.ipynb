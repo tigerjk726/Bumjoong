{
  "nbformat": 4,
  "nbformat_minor": 0,
  "metadata": {
    "colab": {
      "name": "Untitled5.ipynb",
      "provenance": [],
      "authorship_tag": "ABX9TyN6HLm05NAKPoYACQa4FG1M",
      "include_colab_link": true
    },
    "kernelspec": {
      "name": "python3",
      "display_name": "Python 3"
    },
    "language_info": {
      "name": "python"
    }
  },
  "cells": [
    {
      "cell_type": "markdown",
      "metadata": {
        "id": "view-in-github",
        "colab_type": "text"
      },
      "source": [
        "<a href=\"https://colab.research.google.com/github/tigerjk726/Bumjoong/blob/main/210916.ipynb\" target=\"_parent\"><img src=\"https://colab.research.google.com/assets/colab-badge.svg\" alt=\"Open In Colab\"/></a>"
      ]
    },
    {
      "cell_type": "code",
      "metadata": {
        "id": "ZWNdUUitbKxH"
      },
      "source": [
        "class Vector:\n",
        "    # 생성자의 입력값은 벡터 리스트\n",
        "    def __init__(self, vec_list, dtype):\n",
        "        self.dtype = dtype\n",
        "        self.vector = []\n",
        "        for i, item in enumerate(vec_list):\n",
        "            if type(item) != dtype:\n",
        "                print(f\"The item {i} isn't same data type...\")\n",
        "                raise ValueError\n",
        "      \n",
        "            else:\n",
        "                self.vector.append(item)\n",
        "    \n",
        "    def push(self, item):\n",
        "        if self.dtype != type(item):\n",
        "            print(f\"Input item isn't same data type...\")\n",
        "        else:\n",
        "            self.vector.append(item)\n",
        "    \n",
        "    def pop(self):\n",
        "        return self.vector.pop(-1)\n",
        "    \n",
        "    def check_dimension(self, other):\n",
        "        if len(self.vector) != len(other.vector):\n",
        "            print(f\"The dimension of two vectors are not same\")\n",
        "            return False\n",
        "        else:\n",
        "            return True\n",
        "    \n",
        "    # 연산자 오버로딩\n",
        "    def __add__(self, other):\n",
        "        new_vector = []\n",
        "        if self.check_dimension(other):\n",
        "            for elem1, elem2 in zip(self.vector, other.vector):\n",
        "                new_elem = elem1 + elem2\n",
        "                new_vector.append(new_elem)\n",
        "        else:\n",
        "            raise ValueError\n",
        "        new_vec = Vector(new_vector, self.dtype)\n",
        "        return new_vec\n",
        "    \n",
        "    def __sub__(self, other):\n",
        "        new_vector = []\n",
        "        if self.check_dimension(other):\n",
        "            for elem1, elem2 in zip(self.vector, other.vector):\n",
        "                new_elem = elem1 - elem2\n",
        "                new_vector.append(new_elem)\n",
        "        else:\n",
        "            raise ValueError\n",
        "        new_vec = Vector(new_vector, self.dtype)\n",
        "        return new_vec\n",
        "    \n",
        "    def __mul__(self, other):\n",
        "        dot_product = 0\n",
        "        if self.check_dimension(other):\n",
        "            for elem1, elem2 in zip(self.vector, other.vector):\n",
        "                dot_product += elem1 * elem2\n",
        "            return dot_product\n",
        "        else:\n",
        "            raise ValueError\n",
        "            \n",
        "    def __call__(self):\n",
        "        return self.vector\n",
        "    \n",
        "    def __str__(self):\n",
        "        msg = f\"{self.vector}\"\n",
        "        return msg"
      ],
      "execution_count": 6,
      "outputs": []
    },
    {
      "cell_type": "markdown",
      "metadata": {
        "id": "A8dizARlbYIm"
      },
      "source": [
        "https://www.notion.so/modulabs/848db347d00a455f97b3dc024c68988e#6fc11987d17f4c7f92cab9c74d5af202"
      ]
    },
    {
      "cell_type": "code",
      "metadata": {
        "colab": {
          "base_uri": "https://localhost:8080/",
          "height": 299
        },
        "id": "SftuZh0BbsKm",
        "outputId": "10bb3a6b-58d3-4e79-a28c-6dcffd478a70"
      },
      "source": [
        "from Vector import*"
      ],
      "execution_count": 7,
      "outputs": [
        {
          "output_type": "error",
          "ename": "ModuleNotFoundError",
          "evalue": "ignored",
          "traceback": [
            "\u001b[0;31m---------------------------------------------------------------------------\u001b[0m",
            "\u001b[0;31mModuleNotFoundError\u001b[0m                       Traceback (most recent call last)",
            "\u001b[0;32m<ipython-input-7-9fc3f66a1d97>\u001b[0m in \u001b[0;36m<module>\u001b[0;34m()\u001b[0m\n\u001b[0;32m----> 1\u001b[0;31m \u001b[0;32mfrom\u001b[0m \u001b[0mVector\u001b[0m \u001b[0;32mimport\u001b[0m\u001b[0;34m*\u001b[0m\u001b[0;34m\u001b[0m\u001b[0;34m\u001b[0m\u001b[0m\n\u001b[0m",
            "\u001b[0;31mModuleNotFoundError\u001b[0m: No module named 'Vector'",
            "",
            "\u001b[0;31m---------------------------------------------------------------------------\u001b[0;32m\nNOTE: If your import is failing due to a missing package, you can\nmanually install dependencies using either !pip or !apt.\n\nTo view examples of installing some common dependencies, click the\n\"Open Examples\" button below.\n\u001b[0;31m---------------------------------------------------------------------------\u001b[0m\n"
          ],
          "errorDetails": {
            "actions": [
              {
                "action": "open_url",
                "actionText": "Open Examples",
                "url": "/notebooks/snippets/importing_libraries.ipynb"
              }
            ]
          }
        }
      ]
    },
    {
      "cell_type": "code",
      "metadata": {
        "id": "HmXcknhlb3vq"
      },
      "source": [
        "vec1 = Vector([1,1,1], int)\n",
        "vec2 = Vector([-1,-1,-1], int)"
      ],
      "execution_count": null,
      "outputs": []
    },
    {
      "cell_type": "code",
      "metadata": {
        "colab": {
          "base_uri": "https://localhost:8080/"
        },
        "id": "bBriFxHqc8xu",
        "outputId": "86c50899-6b0f-494a-a422-616a96edd980"
      },
      "source": [
        "vec1()"
      ],
      "execution_count": null,
      "outputs": [
        {
          "output_type": "execute_result",
          "data": {
            "text/plain": [
              "[1, 1, 1]"
            ]
          },
          "metadata": {},
          "execution_count": 7
        }
      ]
    },
    {
      "cell_type": "code",
      "metadata": {
        "colab": {
          "base_uri": "https://localhost:8080/",
          "height": 129
        },
        "id": "7_ZLd1ojc__y",
        "outputId": "24668de2-8569-44d1-ba11-f42560173dc1"
      },
      "source": [
        "def similarity(v1, v2):\n",
        "    dot = v1 * v2\n",
        "    v1_l = (v1 * v1) ** 0.5 \n",
        "    v2_l = (v2 * v2) ** 0.5 \n",
        "    return dot/(v1_l * v2_l)\n",
        "\n",
        "def len (vec):\n",
        "    size = 0 \n",
        "    vec.V ector for x in vec.Vector:"
      ],
      "execution_count": 8,
      "outputs": [
        {
          "output_type": "error",
          "ename": "SyntaxError",
          "evalue": "ignored",
          "traceback": [
            "\u001b[0;36m  File \u001b[0;32m\"<ipython-input-8-2ccec523d55f>\"\u001b[0;36m, line \u001b[0;32m9\u001b[0m\n\u001b[0;31m    vec.V ector for x in vec.Vector:\u001b[0m\n\u001b[0m              ^\u001b[0m\n\u001b[0;31mSyntaxError\u001b[0m\u001b[0;31m:\u001b[0m invalid syntax\n"
          ]
        }
      ]
    },
    {
      "cell_type": "code",
      "metadata": {
        "colab": {
          "base_uri": "https://localhost:8080/"
        },
        "id": "onZkobbakuRa",
        "outputId": "c4a6ef61-7178-4115-d460-7b6c8cc3ed83"
      },
      "source": [
        "import math\n",
        "\n",
        "class Transform2D:\n",
        "\n",
        "  def rotation(self, angle, vector):\n",
        "    x, y = vector()\n",
        "    nx = (math.cos(angle)*x - math.sin(angle)*y)\n",
        "    ny = (math.sin(angle)*x + math.cos(angle)*y)\n",
        "    return Vector((nx, ny), vector.dtype)\n",
        "    pass\n",
        "\n",
        "  def scaling(self, scale, vector):\n",
        "    pass\n",
        "\n",
        "  def arbitrary(self, matrix, vector):\n",
        "    pass\n",
        "\n",
        "\n",
        "vec = Vector([1.0, 0.0], float)\n",
        "Pi = math.pi\n",
        "transform = Transform2D()\n",
        "rotated_vec1 = transform.rotation(Pi/4, vec)\n",
        "rotated_vec2 = transform.rotation(Pi/2, vec)\n",
        "rotated_vec3 = transform.rotation(Pi, vec)\n",
        "print(rotated_vec1)\n",
        "print(rotated_vec2)\n",
        "print(rotated_vec3)\n"
      ],
      "execution_count": 23,
      "outputs": [
        {
          "output_type": "stream",
          "name": "stdout",
          "text": [
            "[0.7071067811865476, 0.7071067811865475]\n",
            "[6.123233995736766e-17, 1.0]\n",
            "[-1.0, 1.2246467991473532e-16]\n"
          ]
        }
      ]
    },
    {
      "cell_type": "code",
      "metadata": {
        "colab": {
          "base_uri": "https://localhost:8080/"
        },
        "id": "LmBfAxTVqRCO",
        "outputId": "86e241ab-3933-48f4-f169-69440e7cacf8"
      },
      "source": [
        "import math\n",
        "\n",
        "class Transform2D:\n",
        "\n",
        "  def rotation(self, angle, vector):\n",
        "    sin = math.sin(angle)\n",
        "    cos = math.cos(angle)\n",
        "    row1 = Vector([cos, -sin], float)\n",
        "    row2 = Vector([sin, cos], float)\n",
        "    return Vector([row1 * vector, row2 * vector], float)\n",
        "\n",
        "  def scaling(self, scale, vector):\n",
        "    pass\n",
        "\n",
        "  def arbitrary(self, matrix, vector):\n",
        "    pass\n",
        "\n",
        "\n",
        "vec = Vector([1.0, 0.0], float)\n",
        "Pi = math.pi\n",
        "transform = Transform2D()\n",
        "rotated_vec1 = transform.rotation(Pi/4, vec)\n",
        "rotated_vec2 = transform.rotation(Pi/2, vec)\n",
        "rotated_vec3 = transform.rotation(Pi, vec)\n",
        "print(rotated_vec1)\n",
        "print(rotated_vec2)\n",
        "print(rotated_vec3)\n"
      ],
      "execution_count": 27,
      "outputs": [
        {
          "output_type": "stream",
          "name": "stdout",
          "text": [
            "[0.7071067811865476, 0.7071067811865475]\n",
            "[6.123233995736766e-17, 1.0]\n",
            "[-1.0, 1.2246467991473532e-16]\n"
          ]
        }
      ]
    },
    {
      "cell_type": "code",
      "metadata": {
        "id": "PSQTGaCrqaOI"
      },
      "source": [
        "# 장호님 코드\n",
        "# 틀의 역할을 하는 클래스를 생성\n",
        "class Transform2D:\n",
        "    \n",
        "    def rotation(self, angle, vector):\n",
        "        # hint 1 : math.cos(), math.sin() 활용\n",
        "        # hint 2 : 반복문을 활용해서 행렬과 벡터를 계산\n",
        "        # hint 3 : 행렬과 벡터의 원소들에 인덱스를 통해 접근\n",
        "        transX = math.cos(angle) * vector[0]-math.sin(angle) * vector[1]\n",
        "        transY = math.sin(angle) * vector[0]+math.cos(angle) * vector[1]\n",
        "        trans2D = [transX, transY]\n",
        "        return trans2D\n",
        "\n",
        "#태균\n",
        "def rotation(self, angle, vector):\n",
        "        cos_ang = math.cos(angle)\n",
        "        sin_ang = math.sin(angle)\n",
        "        x,y = vector()\n",
        "        _x = cos_ang*x + -1*sin_ang*y\n",
        "        _y = sin_ang*x + cos_ang*y\n",
        "        return Vector([_x,_y], vector.dtype)\n",
        "\n",
        "#수연\n",
        "#내적 활용한 좋은 예!!\n",
        "def rotation(self, angle, vector):\n",
        "    sin = math.sin(angle)\n",
        "    cos = math.cos(angle)\n",
        "    row1 = Vector(cos, -sin)\n",
        "    row2 = Vector(sin, cos)\n",
        "    return Vector(row1 * vector, row2 * vector)\n",
        "\n",
        "\n",
        "# 정배\n",
        "def rotation(self, angle, vector):\n",
        "    v1 = Vector([math.cos(angle), -math.sin(angle)], float)\n",
        "    v2 = Vector([math.sin(angle), math.cos(angle)], float)\n",
        "    return Vector([v1*vector, v2*vector], float)\n",
        "\n",
        "import numpy as np\n",
        "\n",
        "class Transform2D:\n",
        "\n",
        "    def rotation(self, angle, vector):\n",
        "        size = len(vector)\n",
        "        A = np.zeros((size, size))\n",
        "        A[0,0] = np.cos(angle)\n",
        "        A[0,1] = -1*np.sin(angle)\n",
        "        A[1,0] = np.sin(angle)\n",
        "        A[1,1] = np.cos(angle)\n",
        "\n",
        "        return A\n",
        "\n",
        "    def scaling(self, scale, vector):\n",
        "        size = len(vector)\n",
        "        A = np.zeros((size, size))\n",
        "        A[0,0] = scale\n",
        "        A[1,1] = scale\n",
        "\n",
        "        return A\n",
        "\n",
        "    def arbitrary(self, matrix, vector):\n",
        "\n",
        "        out = matrix @ vector\n",
        "\n",
        "        return out\n",
        "\n",
        "\n",
        "# 범중\n",
        "class Transform2D:\n",
        "\n",
        "  def rotation(self, angle, vector):\n",
        "    x, y = vector()\n",
        "    nx = (math.cos(angle)*x - math.sin(angle)*y)\n",
        "    ny = (math.sin(angle)*x + math.cos(angle)*y)\n",
        "    return Vector((nx, ny), vector.dtype)\n",
        "    pass\n",
        "\n",
        "  def scaling(self, scale, vector):\n",
        "    pass\n",
        "\n",
        "  def arbitrary(self, matrix, vector):\n",
        "    pass"
      ],
      "execution_count": null,
      "outputs": []
    }
  ]
}