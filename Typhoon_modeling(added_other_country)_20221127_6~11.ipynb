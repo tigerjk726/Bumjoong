{
  "nbformat": 4,
  "nbformat_minor": 0,
  "metadata": {
    "colab": {
      "provenance": [],
      "authorship_tag": "ABX9TyPjPNEIc2LeNsxQBDjVhFLS",
      "include_colab_link": true
    },
    "kernelspec": {
      "name": "python3",
      "display_name": "Python 3"
    },
    "language_info": {
      "name": "python"
    }
  },
  "cells": [
    {
      "cell_type": "markdown",
      "metadata": {
        "id": "view-in-github",
        "colab_type": "text"
      },
      "source": [
        "<a href=\"https://colab.research.google.com/github/tigerjk726/Bumjoong/blob/main/Typhoon_modeling(added_other_country)_20221127_6~11.ipynb\" target=\"_parent\"><img src=\"https://colab.research.google.com/assets/colab-badge.svg\" alt=\"Open In Colab\"/></a>"
      ]
    },
    {
      "cell_type": "markdown",
      "source": [
        "# IMPORT DATA"
      ],
      "metadata": {
        "id": "2QbgU6cUum01"
      }
    },
    {
      "cell_type": "code",
      "execution_count": 1,
      "metadata": {
        "id": "CpbByZRippYp",
        "colab": {
          "base_uri": "https://localhost:8080/"
        },
        "outputId": "a5226074-daa1-4515-a1ad-ee36bf9a346b"
      },
      "outputs": [
        {
          "output_type": "stream",
          "name": "stdout",
          "text": [
            "Mounted at /content/drive\n"
          ]
        }
      ],
      "source": [
        "import tensorflow as tf\n",
        "from google.colab import drive\n",
        "drive.mount('/content/drive')             "
      ]
    },
    {
      "cell_type": "code",
      "source": [
        "%cd /content/drive/My Drive/Colab Notebooks/2022.10.10 typhoon"
      ],
      "metadata": {
        "id": "G5TfSj0PfYtT",
        "colab": {
          "base_uri": "https://localhost:8080/"
        },
        "outputId": "92d88d3c-074f-47c0-8603-a14e84542088"
      },
      "execution_count": 2,
      "outputs": [
        {
          "output_type": "stream",
          "name": "stdout",
          "text": [
            "/content/drive/My Drive/Colab Notebooks/2022.10.10 typhoon\n"
          ]
        }
      ]
    },
    {
      "cell_type": "code",
      "source": [
        "import pandas as pd\n",
        "df = pd.read_csv('summary4.csv')\n",
        "df"
      ],
      "metadata": {
        "id": "iVlFBZkefbk2",
        "colab": {
          "base_uri": "https://localhost:8080/",
          "height": 423
        },
        "outputId": "ed11cdce-59e9-4fef-a923-5e15bdcb981b"
      },
      "execution_count": 3,
      "outputs": [
        {
          "output_type": "execute_result",
          "data": {
            "text/plain": [
              "        DATE  YEAR  MON        AAO    AMO         AO    EMI    GMT  NINO3  \\\n",
              "0     198001  1980    1   2468.847 -0.251 -13914.348  0.468 -0.008  0.362   \n",
              "1     198002  1980    2   5287.235 -0.265  -7920.162  0.573  0.048  0.025   \n",
              "2     198003  1980    3  18067.714 -0.343  -9798.327  0.417  0.005 -0.153   \n",
              "3     198004  1980    4  23780.651 -0.064  -4271.158  0.394  0.035 -0.189   \n",
              "4     198005  1980    5   3995.642  0.046  -8602.326  0.369  0.072 -0.155   \n",
              "...      ...   ...  ...        ...    ...        ...    ...    ...    ...   \n",
              "8359  202008  2020    8   8954.542  0.263  -1599.950 -0.229  0.320 -0.558   \n",
              "8360  202009  2020    9   4960.132  0.135   4138.498 -0.207  0.435 -0.918   \n",
              "8361  202010  2020   10 -10689.321  0.129    662.580 -0.377  0.416 -1.043   \n",
              "8362  202011  2020   11 -13940.175  0.026  16778.709 -0.441  0.519 -1.136   \n",
              "8363  202012  2020   12 -17119.479  0.039 -10766.470 -0.641  0.307 -0.805   \n",
              "\n",
              "      NINO4    PDO    PNA     QBO  CNT  FREG  INTEN  \n",
              "0     0.318  0.688 -0.787  -1.147    0     0    0.0  \n",
              "1     0.311  1.233  1.002   3.094    0     0    0.0  \n",
              "2     0.166  1.107 -0.539   5.553    0     0    0.0  \n",
              "3     0.107  1.255  1.457  11.231    0     0    0.0  \n",
              "4     0.201  1.204  0.377  18.477    0     0    0.0  \n",
              "...     ...    ...    ...     ...  ...   ...    ...  \n",
              "8359 -0.237 -1.413 -0.156  20.514   16     0    0.0  \n",
              "8360 -0.463 -1.137  0.402  20.357   16     1   40.0  \n",
              "8361 -0.695 -0.612 -0.943  19.270   16     4   56.0  \n",
              "8362 -0.792 -1.451 -0.402  18.811   16     3   64.0  \n",
              "8363 -0.898 -0.919  0.988  16.446   16     0    0.0  \n",
              "\n",
              "[8364 rows x 16 columns]"
            ],
            "text/html": [
              "\n",
              "  <div id=\"df-d61a7c27-8153-4fff-82c6-70879d351783\">\n",
              "    <div class=\"colab-df-container\">\n",
              "      <div>\n",
              "<style scoped>\n",
              "    .dataframe tbody tr th:only-of-type {\n",
              "        vertical-align: middle;\n",
              "    }\n",
              "\n",
              "    .dataframe tbody tr th {\n",
              "        vertical-align: top;\n",
              "    }\n",
              "\n",
              "    .dataframe thead th {\n",
              "        text-align: right;\n",
              "    }\n",
              "</style>\n",
              "<table border=\"1\" class=\"dataframe\">\n",
              "  <thead>\n",
              "    <tr style=\"text-align: right;\">\n",
              "      <th></th>\n",
              "      <th>DATE</th>\n",
              "      <th>YEAR</th>\n",
              "      <th>MON</th>\n",
              "      <th>AAO</th>\n",
              "      <th>AMO</th>\n",
              "      <th>AO</th>\n",
              "      <th>EMI</th>\n",
              "      <th>GMT</th>\n",
              "      <th>NINO3</th>\n",
              "      <th>NINO4</th>\n",
              "      <th>PDO</th>\n",
              "      <th>PNA</th>\n",
              "      <th>QBO</th>\n",
              "      <th>CNT</th>\n",
              "      <th>FREG</th>\n",
              "      <th>INTEN</th>\n",
              "    </tr>\n",
              "  </thead>\n",
              "  <tbody>\n",
              "    <tr>\n",
              "      <th>0</th>\n",
              "      <td>198001</td>\n",
              "      <td>1980</td>\n",
              "      <td>1</td>\n",
              "      <td>2468.847</td>\n",
              "      <td>-0.251</td>\n",
              "      <td>-13914.348</td>\n",
              "      <td>0.468</td>\n",
              "      <td>-0.008</td>\n",
              "      <td>0.362</td>\n",
              "      <td>0.318</td>\n",
              "      <td>0.688</td>\n",
              "      <td>-0.787</td>\n",
              "      <td>-1.147</td>\n",
              "      <td>0</td>\n",
              "      <td>0</td>\n",
              "      <td>0.0</td>\n",
              "    </tr>\n",
              "    <tr>\n",
              "      <th>1</th>\n",
              "      <td>198002</td>\n",
              "      <td>1980</td>\n",
              "      <td>2</td>\n",
              "      <td>5287.235</td>\n",
              "      <td>-0.265</td>\n",
              "      <td>-7920.162</td>\n",
              "      <td>0.573</td>\n",
              "      <td>0.048</td>\n",
              "      <td>0.025</td>\n",
              "      <td>0.311</td>\n",
              "      <td>1.233</td>\n",
              "      <td>1.002</td>\n",
              "      <td>3.094</td>\n",
              "      <td>0</td>\n",
              "      <td>0</td>\n",
              "      <td>0.0</td>\n",
              "    </tr>\n",
              "    <tr>\n",
              "      <th>2</th>\n",
              "      <td>198003</td>\n",
              "      <td>1980</td>\n",
              "      <td>3</td>\n",
              "      <td>18067.714</td>\n",
              "      <td>-0.343</td>\n",
              "      <td>-9798.327</td>\n",
              "      <td>0.417</td>\n",
              "      <td>0.005</td>\n",
              "      <td>-0.153</td>\n",
              "      <td>0.166</td>\n",
              "      <td>1.107</td>\n",
              "      <td>-0.539</td>\n",
              "      <td>5.553</td>\n",
              "      <td>0</td>\n",
              "      <td>0</td>\n",
              "      <td>0.0</td>\n",
              "    </tr>\n",
              "    <tr>\n",
              "      <th>3</th>\n",
              "      <td>198004</td>\n",
              "      <td>1980</td>\n",
              "      <td>4</td>\n",
              "      <td>23780.651</td>\n",
              "      <td>-0.064</td>\n",
              "      <td>-4271.158</td>\n",
              "      <td>0.394</td>\n",
              "      <td>0.035</td>\n",
              "      <td>-0.189</td>\n",
              "      <td>0.107</td>\n",
              "      <td>1.255</td>\n",
              "      <td>1.457</td>\n",
              "      <td>11.231</td>\n",
              "      <td>0</td>\n",
              "      <td>0</td>\n",
              "      <td>0.0</td>\n",
              "    </tr>\n",
              "    <tr>\n",
              "      <th>4</th>\n",
              "      <td>198005</td>\n",
              "      <td>1980</td>\n",
              "      <td>5</td>\n",
              "      <td>3995.642</td>\n",
              "      <td>0.046</td>\n",
              "      <td>-8602.326</td>\n",
              "      <td>0.369</td>\n",
              "      <td>0.072</td>\n",
              "      <td>-0.155</td>\n",
              "      <td>0.201</td>\n",
              "      <td>1.204</td>\n",
              "      <td>0.377</td>\n",
              "      <td>18.477</td>\n",
              "      <td>0</td>\n",
              "      <td>0</td>\n",
              "      <td>0.0</td>\n",
              "    </tr>\n",
              "    <tr>\n",
              "      <th>...</th>\n",
              "      <td>...</td>\n",
              "      <td>...</td>\n",
              "      <td>...</td>\n",
              "      <td>...</td>\n",
              "      <td>...</td>\n",
              "      <td>...</td>\n",
              "      <td>...</td>\n",
              "      <td>...</td>\n",
              "      <td>...</td>\n",
              "      <td>...</td>\n",
              "      <td>...</td>\n",
              "      <td>...</td>\n",
              "      <td>...</td>\n",
              "      <td>...</td>\n",
              "      <td>...</td>\n",
              "      <td>...</td>\n",
              "    </tr>\n",
              "    <tr>\n",
              "      <th>8359</th>\n",
              "      <td>202008</td>\n",
              "      <td>2020</td>\n",
              "      <td>8</td>\n",
              "      <td>8954.542</td>\n",
              "      <td>0.263</td>\n",
              "      <td>-1599.950</td>\n",
              "      <td>-0.229</td>\n",
              "      <td>0.320</td>\n",
              "      <td>-0.558</td>\n",
              "      <td>-0.237</td>\n",
              "      <td>-1.413</td>\n",
              "      <td>-0.156</td>\n",
              "      <td>20.514</td>\n",
              "      <td>16</td>\n",
              "      <td>0</td>\n",
              "      <td>0.0</td>\n",
              "    </tr>\n",
              "    <tr>\n",
              "      <th>8360</th>\n",
              "      <td>202009</td>\n",
              "      <td>2020</td>\n",
              "      <td>9</td>\n",
              "      <td>4960.132</td>\n",
              "      <td>0.135</td>\n",
              "      <td>4138.498</td>\n",
              "      <td>-0.207</td>\n",
              "      <td>0.435</td>\n",
              "      <td>-0.918</td>\n",
              "      <td>-0.463</td>\n",
              "      <td>-1.137</td>\n",
              "      <td>0.402</td>\n",
              "      <td>20.357</td>\n",
              "      <td>16</td>\n",
              "      <td>1</td>\n",
              "      <td>40.0</td>\n",
              "    </tr>\n",
              "    <tr>\n",
              "      <th>8361</th>\n",
              "      <td>202010</td>\n",
              "      <td>2020</td>\n",
              "      <td>10</td>\n",
              "      <td>-10689.321</td>\n",
              "      <td>0.129</td>\n",
              "      <td>662.580</td>\n",
              "      <td>-0.377</td>\n",
              "      <td>0.416</td>\n",
              "      <td>-1.043</td>\n",
              "      <td>-0.695</td>\n",
              "      <td>-0.612</td>\n",
              "      <td>-0.943</td>\n",
              "      <td>19.270</td>\n",
              "      <td>16</td>\n",
              "      <td>4</td>\n",
              "      <td>56.0</td>\n",
              "    </tr>\n",
              "    <tr>\n",
              "      <th>8362</th>\n",
              "      <td>202011</td>\n",
              "      <td>2020</td>\n",
              "      <td>11</td>\n",
              "      <td>-13940.175</td>\n",
              "      <td>0.026</td>\n",
              "      <td>16778.709</td>\n",
              "      <td>-0.441</td>\n",
              "      <td>0.519</td>\n",
              "      <td>-1.136</td>\n",
              "      <td>-0.792</td>\n",
              "      <td>-1.451</td>\n",
              "      <td>-0.402</td>\n",
              "      <td>18.811</td>\n",
              "      <td>16</td>\n",
              "      <td>3</td>\n",
              "      <td>64.0</td>\n",
              "    </tr>\n",
              "    <tr>\n",
              "      <th>8363</th>\n",
              "      <td>202012</td>\n",
              "      <td>2020</td>\n",
              "      <td>12</td>\n",
              "      <td>-17119.479</td>\n",
              "      <td>0.039</td>\n",
              "      <td>-10766.470</td>\n",
              "      <td>-0.641</td>\n",
              "      <td>0.307</td>\n",
              "      <td>-0.805</td>\n",
              "      <td>-0.898</td>\n",
              "      <td>-0.919</td>\n",
              "      <td>0.988</td>\n",
              "      <td>16.446</td>\n",
              "      <td>16</td>\n",
              "      <td>0</td>\n",
              "      <td>0.0</td>\n",
              "    </tr>\n",
              "  </tbody>\n",
              "</table>\n",
              "<p>8364 rows × 16 columns</p>\n",
              "</div>\n",
              "      <button class=\"colab-df-convert\" onclick=\"convertToInteractive('df-d61a7c27-8153-4fff-82c6-70879d351783')\"\n",
              "              title=\"Convert this dataframe to an interactive table.\"\n",
              "              style=\"display:none;\">\n",
              "        \n",
              "  <svg xmlns=\"http://www.w3.org/2000/svg\" height=\"24px\"viewBox=\"0 0 24 24\"\n",
              "       width=\"24px\">\n",
              "    <path d=\"M0 0h24v24H0V0z\" fill=\"none\"/>\n",
              "    <path d=\"M18.56 5.44l.94 2.06.94-2.06 2.06-.94-2.06-.94-.94-2.06-.94 2.06-2.06.94zm-11 1L8.5 8.5l.94-2.06 2.06-.94-2.06-.94L8.5 2.5l-.94 2.06-2.06.94zm10 10l.94 2.06.94-2.06 2.06-.94-2.06-.94-.94-2.06-.94 2.06-2.06.94z\"/><path d=\"M17.41 7.96l-1.37-1.37c-.4-.4-.92-.59-1.43-.59-.52 0-1.04.2-1.43.59L10.3 9.45l-7.72 7.72c-.78.78-.78 2.05 0 2.83L4 21.41c.39.39.9.59 1.41.59.51 0 1.02-.2 1.41-.59l7.78-7.78 2.81-2.81c.8-.78.8-2.07 0-2.86zM5.41 20L4 18.59l7.72-7.72 1.47 1.35L5.41 20z\"/>\n",
              "  </svg>\n",
              "      </button>\n",
              "      \n",
              "  <style>\n",
              "    .colab-df-container {\n",
              "      display:flex;\n",
              "      flex-wrap:wrap;\n",
              "      gap: 12px;\n",
              "    }\n",
              "\n",
              "    .colab-df-convert {\n",
              "      background-color: #E8F0FE;\n",
              "      border: none;\n",
              "      border-radius: 50%;\n",
              "      cursor: pointer;\n",
              "      display: none;\n",
              "      fill: #1967D2;\n",
              "      height: 32px;\n",
              "      padding: 0 0 0 0;\n",
              "      width: 32px;\n",
              "    }\n",
              "\n",
              "    .colab-df-convert:hover {\n",
              "      background-color: #E2EBFA;\n",
              "      box-shadow: 0px 1px 2px rgba(60, 64, 67, 0.3), 0px 1px 3px 1px rgba(60, 64, 67, 0.15);\n",
              "      fill: #174EA6;\n",
              "    }\n",
              "\n",
              "    [theme=dark] .colab-df-convert {\n",
              "      background-color: #3B4455;\n",
              "      fill: #D2E3FC;\n",
              "    }\n",
              "\n",
              "    [theme=dark] .colab-df-convert:hover {\n",
              "      background-color: #434B5C;\n",
              "      box-shadow: 0px 1px 3px 1px rgba(0, 0, 0, 0.15);\n",
              "      filter: drop-shadow(0px 1px 2px rgba(0, 0, 0, 0.3));\n",
              "      fill: #FFFFFF;\n",
              "    }\n",
              "  </style>\n",
              "\n",
              "      <script>\n",
              "        const buttonEl =\n",
              "          document.querySelector('#df-d61a7c27-8153-4fff-82c6-70879d351783 button.colab-df-convert');\n",
              "        buttonEl.style.display =\n",
              "          google.colab.kernel.accessAllowed ? 'block' : 'none';\n",
              "\n",
              "        async function convertToInteractive(key) {\n",
              "          const element = document.querySelector('#df-d61a7c27-8153-4fff-82c6-70879d351783');\n",
              "          const dataTable =\n",
              "            await google.colab.kernel.invokeFunction('convertToInteractive',\n",
              "                                                     [key], {});\n",
              "          if (!dataTable) return;\n",
              "\n",
              "          const docLinkHtml = 'Like what you see? Visit the ' +\n",
              "            '<a target=\"_blank\" href=https://colab.research.google.com/notebooks/data_table.ipynb>data table notebook</a>'\n",
              "            + ' to learn more about interactive tables.';\n",
              "          element.innerHTML = '';\n",
              "          dataTable['output_type'] = 'display_data';\n",
              "          await google.colab.output.renderOutput(dataTable, element);\n",
              "          const docLink = document.createElement('div');\n",
              "          docLink.innerHTML = docLinkHtml;\n",
              "          element.appendChild(docLink);\n",
              "        }\n",
              "      </script>\n",
              "    </div>\n",
              "  </div>\n",
              "  "
            ]
          },
          "metadata": {},
          "execution_count": 3
        }
      ]
    },
    {
      "cell_type": "markdown",
      "source": [
        "1. 학습(Train, test) 데이터셋 (8364개)  : X Feature(14개), Y Feature(2개)\n",
        "\n",
        "> 들여쓴 블록\n",
        "\n",
        "> 들여쓴 블록\n",
        "\n",
        "\n",
        "\n",
        "\n",
        "\n",
        "2. 변수는 'DATE', 'YEAR' 를 제외한  'MON', 'AAO', 'AMO', 'AO', 'EMI', 'GMT', 'NINO3', 'NINO4', 'PDO', 'PNA', 'QBO', 'CNT' 총 12개를 기준\n",
        "\n",
        "3. 각 나라별 통계치가 일정치 않아서 1980 ~ 2020까지의 데이터를 기준으로 전처리함\n",
        "\n",
        "4. 나라별로 CNT에 코드지정 \n",
        "0 ; korea\n",
        "1 ; Carribean_TC\n",
        "2 ; Bangla_TC\n",
        "3 ; CHINA_TC\n",
        "4 ; East_US\n",
        "5 ; India_TC_\n",
        "6 ; JAPAN_TC\n",
        "7 ; Mexico_TC_freq_NHC-ENP\n",
        "8 ; Mexico_TC_freq_NHC-NAT\n",
        "9 ; Myanmar_TC_freq_JTWC-NIO\n",
        "10 ; Pakistan_TC\n",
        "11 ; PHILI_TC_\n",
        "12 ; Sri_TC\n",
        "13 ; TAIWAN_TC\n",
        "14 ; US_TC_freq_NHC-ENP\n",
        "15 ; US_TC_freq_NHC-NAT\n",
        "16 ; Vietnam_TC_\n",
        "\n",
        "5. 모델링 \n",
        " - 1. 한국데이터만 사용\n",
        " - 2. 전체데이터 사용"
      ],
      "metadata": {
        "id": "5L59jjCpoqfd"
      }
    },
    {
      "cell_type": "markdown",
      "source": [
        "칼럼별 명칭"
      ],
      "metadata": {
        "id": "lkh5ifR7n-fN"
      }
    },
    {
      "cell_type": "code",
      "source": [
        "import pandas as pd\n",
        "import numpy as np\n",
        "import matplotlib.pyplot as plt\n",
        "import seaborn as sns\n",
        "import plotly.express as px"
      ],
      "metadata": {
        "id": "1jXmkD1v-_vh"
      },
      "execution_count": 4,
      "outputs": []
    },
    {
      "cell_type": "code",
      "source": [
        "df.columns"
      ],
      "metadata": {
        "id": "glKsDQFEf1Xf",
        "colab": {
          "base_uri": "https://localhost:8080/"
        },
        "outputId": "1203d2fc-65fa-4592-d902-7164ae284c95"
      },
      "execution_count": 5,
      "outputs": [
        {
          "output_type": "execute_result",
          "data": {
            "text/plain": [
              "Index(['DATE', 'YEAR', 'MON', 'AAO', 'AMO', 'AO', 'EMI', 'GMT', 'NINO3',\n",
              "       'NINO4', 'PDO', 'PNA', 'QBO', 'CNT', 'FREG', 'INTEN'],\n",
              "      dtype='object')"
            ]
          },
          "metadata": {},
          "execution_count": 5
        }
      ]
    },
    {
      "cell_type": "code",
      "source": [
        "df.groupby(\"YEAR\").mean()[\"FREG\"]"
      ],
      "metadata": {
        "id": "IDEtbxCG0ckv"
      },
      "execution_count": null,
      "outputs": []
    },
    {
      "cell_type": "code",
      "source": [
        "df.groupby(\"YEAR\").mean()[\"INTEN\"]"
      ],
      "metadata": {
        "id": "HDVrffu90zaD"
      },
      "execution_count": null,
      "outputs": []
    },
    {
      "cell_type": "code",
      "source": [
        "df['INTEN'] = df['INTEN'].astype(np.int64)\n",
        "df.info()"
      ],
      "metadata": {
        "id": "WdDoa2YsykPb"
      },
      "execution_count": null,
      "outputs": []
    },
    {
      "cell_type": "markdown",
      "source": [
        "# Data Splitting\n"
      ],
      "metadata": {
        "id": "63_4Em4Gv863"
      }
    },
    {
      "cell_type": "code",
      "source": [
        "df1 = df[df[\"MON\"].isin([6,7,8,9,10,11])]\n",
        "\n",
        "# All Conutry 67891011\n",
        "X = df1.iloc[:,2:14]\n",
        "Y = df1.iloc[:,14:]\n",
        "Y1 = df1['FREG']\n",
        "Y2 = df1['INTEN']\n",
        "\n",
        "# Korea 67891011\n",
        "df2 = df1[df1[\"CNT\"].isin([0])]\n",
        "X_korea = df2.iloc[:,2:14]\n",
        "Y_korea1 = df2['FREG']\n",
        "Y_korea2 = df2['INTEN']\n",
        "print(X_korea, Y_korea1, Y_korea2)\n",
        "\n",
        "# Korea \n",
        "df3 = df[df[\"CNT\"].isin([0])]\n",
        "X_korea1 = df3.iloc[:,2:14]\n",
        "Y_korea3 = df3['FREG']\n",
        "Y_korea4 = df3['INTEN']"
      ],
      "metadata": {
        "colab": {
          "base_uri": "https://localhost:8080/"
        },
        "id": "twU6qwFEHhP5",
        "outputId": "aac40a28-9f26-47e4-aa65-8b38bd6a3fc4"
      },
      "execution_count": 44,
      "outputs": [
        {
          "output_type": "stream",
          "name": "stdout",
          "text": [
            "     MON        AAO    AMO         AO    EMI    GMT  NINO3  NINO4    PDO  \\\n",
            "5      6  -5755.125 -0.011   5854.573  0.332 -0.024  0.059  0.104 -0.282   \n",
            "6      7  26895.281 -0.084  -3503.817  0.357  0.009 -0.240 -0.014  0.204   \n",
            "7      8   8098.580 -0.080   -608.816 -0.085 -0.037 -0.335 -0.313  0.219   \n",
            "8      9  15792.082 -0.140   2012.419 -0.041 -0.069 -0.176 -0.290  0.126   \n",
            "9     10  -9940.679 -0.164  -4343.394  0.223 -0.118 -0.410 -0.067  1.358   \n",
            "..   ...        ...    ...        ...    ...    ...    ...    ...    ...   \n",
            "486    7  13366.147  0.180  -2349.840  0.101  0.354 -0.525  0.041 -1.102   \n",
            "487    8   8954.542  0.263  -1599.950 -0.229  0.320 -0.558 -0.237 -1.413   \n",
            "488    9   4960.132  0.135   4138.498 -0.207  0.435 -0.918 -0.463 -1.137   \n",
            "489   10 -10689.321  0.129    662.580 -0.377  0.416 -1.043 -0.695 -0.612   \n",
            "490   11 -13940.175  0.026  16778.709 -0.441  0.519 -1.136 -0.792 -1.451   \n",
            "\n",
            "       PNA     QBO  CNT  \n",
            "5   -0.666  21.490    0  \n",
            "6   -0.559  21.300    0  \n",
            "7   -1.079  19.388    0  \n",
            "8   -0.589  19.886    0  \n",
            "9    1.296  19.961    0  \n",
            "..     ...     ...  ...  \n",
            "486 -0.342  19.156    0  \n",
            "487 -0.156  20.514    0  \n",
            "488  0.402  20.357    0  \n",
            "489 -0.943  19.270    0  \n",
            "490 -0.402  18.811    0  \n",
            "\n",
            "[246 rows x 12 columns] 5      0\n",
            "6      0\n",
            "7      0\n",
            "8      1\n",
            "9      0\n",
            "      ..\n",
            "486    0\n",
            "487    2\n",
            "488    2\n",
            "489    0\n",
            "490    0\n",
            "Name: FREG, Length: 246, dtype: int64 5       0\n",
            "6       0\n",
            "7       0\n",
            "8      55\n",
            "9       0\n",
            "       ..\n",
            "486     0\n",
            "487    67\n",
            "488    90\n",
            "489     0\n",
            "490     0\n",
            "Name: INTEN, Length: 246, dtype: int64\n"
          ]
        }
      ]
    },
    {
      "cell_type": "code",
      "source": [
        "!pip install catboost\n"
      ],
      "metadata": {
        "colab": {
          "base_uri": "https://localhost:8080/"
        },
        "id": "H1de5K7D2RIi",
        "outputId": "e6dab26b-7a80-40b4-ad3e-51889c2c1bfb"
      },
      "execution_count": 12,
      "outputs": [
        {
          "output_type": "stream",
          "name": "stdout",
          "text": [
            "Looking in indexes: https://pypi.org/simple, https://us-python.pkg.dev/colab-wheels/public/simple/\n",
            "Collecting catboost\n",
            "  Downloading catboost-1.1.1-cp37-none-manylinux1_x86_64.whl (76.6 MB)\n",
            "\u001b[K     |████████████████████████████████| 76.6 MB 1.2 MB/s \n",
            "\u001b[?25hRequirement already satisfied: graphviz in /usr/local/lib/python3.7/dist-packages (from catboost) (0.10.1)\n",
            "Requirement already satisfied: six in /usr/local/lib/python3.7/dist-packages (from catboost) (1.15.0)\n",
            "Requirement already satisfied: plotly in /usr/local/lib/python3.7/dist-packages (from catboost) (5.5.0)\n",
            "Requirement already satisfied: numpy>=1.16.0 in /usr/local/lib/python3.7/dist-packages (from catboost) (1.21.6)\n",
            "Requirement already satisfied: matplotlib in /usr/local/lib/python3.7/dist-packages (from catboost) (3.2.2)\n",
            "Requirement already satisfied: pandas>=0.24.0 in /usr/local/lib/python3.7/dist-packages (from catboost) (1.3.5)\n",
            "Requirement already satisfied: scipy in /usr/local/lib/python3.7/dist-packages (from catboost) (1.7.3)\n",
            "Requirement already satisfied: python-dateutil>=2.7.3 in /usr/local/lib/python3.7/dist-packages (from pandas>=0.24.0->catboost) (2.8.2)\n",
            "Requirement already satisfied: pytz>=2017.3 in /usr/local/lib/python3.7/dist-packages (from pandas>=0.24.0->catboost) (2022.6)\n",
            "Requirement already satisfied: kiwisolver>=1.0.1 in /usr/local/lib/python3.7/dist-packages (from matplotlib->catboost) (1.4.4)\n",
            "Requirement already satisfied: pyparsing!=2.0.4,!=2.1.2,!=2.1.6,>=2.0.1 in /usr/local/lib/python3.7/dist-packages (from matplotlib->catboost) (3.0.9)\n",
            "Requirement already satisfied: cycler>=0.10 in /usr/local/lib/python3.7/dist-packages (from matplotlib->catboost) (0.11.0)\n",
            "Requirement already satisfied: typing-extensions in /usr/local/lib/python3.7/dist-packages (from kiwisolver>=1.0.1->matplotlib->catboost) (4.1.1)\n",
            "Requirement already satisfied: tenacity>=6.2.0 in /usr/local/lib/python3.7/dist-packages (from plotly->catboost) (8.1.0)\n",
            "Installing collected packages: catboost\n",
            "Successfully installed catboost-1.1.1\n"
          ]
        }
      ]
    },
    {
      "cell_type": "code",
      "source": [
        "import pandas\n",
        "import numpy as np\n",
        "import pandas as pd\n",
        "import time\n",
        "from tqdm import tqdm\n",
        "import matplotlib.pyplot as plt\n",
        "from sklearn.preprocessing import MinMaxScaler\n",
        "from sklearn.model_selection import train_test_split\n",
        "from tensorflow.keras import Sequential\n",
        "from tensorflow.keras.layers import Dense, GRU, Dropout, LSTM, InputLayer\n",
        "from tensorflow.keras.wrappers.scikit_learn import KerasRegressor\n",
        "from sklearn.ensemble import AdaBoostRegressor\n",
        "from sklearn.model_selection import LeaveOneOut\n",
        "from sklearn.model_selection import cross_val_score\n",
        "from sklearn.ensemble import RandomForestClassifier\n",
        "from pandas.plotting import scatter_matrix\n",
        "import matplotlib.pyplot as plt\n",
        "from sklearn import model_selection\n",
        "from sklearn.metrics import classification_report\n",
        "from sklearn.metrics import confusion_matrix\n",
        "from sklearn.metrics import accuracy_score\n",
        "from sklearn.metrics import mean_squared_error,r2_score\n",
        "from sklearn.linear_model import LogisticRegression\n",
        "from sklearn.tree import DecisionTreeClassifier\n",
        "from sklearn.neighbors import KNeighborsClassifier\n",
        "from sklearn.discriminant_analysis import LinearDiscriminantAnalysis\n",
        "from sklearn.naive_bayes import GaussianNB\n",
        "from sklearn.svm import SVC\n",
        "from xgboost import XGBRegressor\n",
        "from catboost import CatBoostRegressor\n",
        "from lightgbm import LGBMRegressor\n",
        "from sklearn.linear_model import Ridge,Lasso,RidgeCV,LassoCV,ElasticNet,ElasticNetCV,LinearRegression\n",
        "from sklearn.tree import DecisionTreeRegressor\n",
        "from sklearn.neighbors import KNeighborsRegressor\n",
        "from sklearn.neural_network import MLPRegressor\n",
        "from sklearn.ensemble import RandomForestRegressor\n",
        "from sklearn.ensemble import GradientBoostingRegressor\n",
        "from sklearn.ensemble import AdaBoostRegressor\n",
        "from sklearn import neighbors\n",
        "from sklearn.svm import SVR\n",
        "import warnings\n",
        "warnings.filterwarnings(\"ignore\")"
      ],
      "metadata": {
        "id": "89QsCPBO6Wqe"
      },
      "execution_count": 13,
      "outputs": []
    },
    {
      "cell_type": "markdown",
      "source": [
        "# K-Fold Cross-Validation and Leave-One-Out Cross-Validation\n",
        "\n",
        "## : An important factor when choosing between the k-fold and the LOO cross-validation methods is the size of the dataset. https://www.baeldung.com/cs/cross-validation-k-fold-loo"
      ],
      "metadata": {
        "id": "gJVdMH6zlMEB"
      }
    },
    {
      "cell_type": "markdown",
      "source": [
        "# Korea + LeaveoneOut\n",
        "\n",
        "1.   Frequency 예측\n",
        "\n"
      ],
      "metadata": {
        "id": "ZHyyWPMK6a75"
      }
    },
    {
      "cell_type": "code",
      "source": [
        "from sklearn.model_selection import train_test_split\n",
        "from sklearn.metrics import mean_squared_error\n",
        "\n",
        "x_train, x_test, y_train, y_test = train_test_split(X_korea, Y_korea1, test_size=0.2)\n",
        "\n",
        "cv = LeaveOneOut()\n",
        "\n",
        "model = RandomForestClassifier(random_state=1)\n",
        "model.fit(x_train,y_train)\n",
        "\n",
        "# evaluate model\n",
        "scores = cross_val_score(model, x_train, y_train, scoring='accuracy', cv=cv, n_jobs=-1)\n",
        "\n",
        "from numpy import mean\n",
        "from numpy import std\n",
        "# report performance\n",
        "print('Accuracy: %.3f (%.3f)' % (mean(scores), std(scores)))"
      ],
      "metadata": {
        "id": "Z5d6IMxd1mGv",
        "colab": {
          "base_uri": "https://localhost:8080/"
        },
        "outputId": "1ec429eb-1650-48e5-cc5b-3c4ffbf7ae42"
      },
      "execution_count": 14,
      "outputs": [
        {
          "output_type": "stream",
          "name": "stdout",
          "text": [
            "Accuracy: 0.648 (0.478)\n"
          ]
        }
      ]
    },
    {
      "cell_type": "code",
      "source": [
        "prediction = model.predict(x_test)\n",
        "\n",
        "scores = accuracy_score(y_test,prediction)\n",
        "scores"
      ],
      "metadata": {
        "colab": {
          "base_uri": "https://localhost:8080/"
        },
        "id": "2VX_vBBkwD_D",
        "outputId": "6b7876df-f79f-4903-ae11-653d6faf93f9"
      },
      "execution_count": 15,
      "outputs": [
        {
          "output_type": "execute_result",
          "data": {
            "text/plain": [
              "0.7"
            ]
          },
          "metadata": {},
          "execution_count": 15
        }
      ]
    },
    {
      "cell_type": "markdown",
      "source": [
        "2. Intensity 예측"
      ],
      "metadata": {
        "id": "IZOoZBajqJr4"
      }
    },
    {
      "cell_type": "code",
      "source": [
        "from sklearn.model_selection import train_test_split\n",
        "from sklearn.metrics import mean_squared_error\n",
        "\n",
        "x_train, x_test, y_train, y_test = train_test_split(X_korea, Y_korea2, test_size=0.2)\n",
        "\n",
        "cv = LeaveOneOut()\n",
        "\n",
        "model2 = RandomForestClassifier(random_state=1)\n",
        "model2.fit(x_train,y_train)\n",
        "\n",
        "# evaluate model\n",
        "scores = cross_val_score(model2, x_train, y_train, scoring='accuracy', cv=cv, n_jobs=-1)\n",
        "\n",
        "from numpy import mean\n",
        "from numpy import std\n",
        "# report performance\n",
        "print('Accuracy: %.3f (%.3f)' % (mean(scores), std(scores)))"
      ],
      "metadata": {
        "colab": {
          "base_uri": "https://localhost:8080/"
        },
        "id": "HQ-P2rYszN7A",
        "outputId": "36e8f7b1-43df-474f-85f0-c8fc48bd501d"
      },
      "execution_count": 16,
      "outputs": [
        {
          "output_type": "stream",
          "name": "stdout",
          "text": [
            "Accuracy: 0.668 (0.471)\n"
          ]
        }
      ]
    },
    {
      "cell_type": "code",
      "source": [
        "prediction = model2.predict(x_test)\n",
        "\n",
        "scores = accuracy_score(y_test,prediction)\n",
        "scores"
      ],
      "metadata": {
        "colab": {
          "base_uri": "https://localhost:8080/"
        },
        "id": "kLQ-szguzRKC",
        "outputId": "3e37bdaf-bacb-475f-e502-94834aaba381"
      },
      "execution_count": 17,
      "outputs": [
        {
          "output_type": "execute_result",
          "data": {
            "text/plain": [
              "0.64"
            ]
          },
          "metadata": {},
          "execution_count": 17
        }
      ]
    },
    {
      "cell_type": "markdown",
      "source": [
        "# All country + Cross Validation(KFold)\n",
        "## XGBclassifier\n",
        " ## - Freguency\n"
      ],
      "metadata": {
        "id": "uK1kE9NPA-CZ"
      }
    },
    {
      "cell_type": "code",
      "source": [
        "from sklearn.model_selection import train_test_split\n",
        "from sklearn.metrics import mean_squared_error\n",
        "from sklearn.model_selection import StratifiedKFold\n",
        "from sklearn.model_selection import cross_val_score, KFold\n",
        "from sklearn.model_selection import GridSearchCV, train_test_split\n",
        "from sklearn.tree import DecisionTreeClassifier\n",
        "from xgboost import XGBClassifier\n",
        "\n",
        "train_x, test_x, train_y, test_y = train_test_split(X, Y1, test_size=0.3)\n",
        "\n",
        "xgbc = XGBClassifier()\n",
        "xgbc.fit(train_x, train_y)\n",
        "\n",
        "kfold = KFold(n_splits=50, shuffle=True)\n",
        "kf_cv_scores = cross_val_score(xgbc, train_x, train_y, cv=kfold )\n",
        "print(\"K-fold CV average score: %.2f\" % kf_cv_scores.mean())"
      ],
      "metadata": {
        "colab": {
          "base_uri": "https://localhost:8080/"
        },
        "id": "OCTky629aItW",
        "outputId": "924cdc4a-5ff0-46bf-b1c8-9327b597eb07"
      },
      "execution_count": 40,
      "outputs": [
        {
          "output_type": "stream",
          "name": "stdout",
          "text": [
            "K-fold CV average score: 0.63\n"
          ]
        }
      ]
    },
    {
      "cell_type": "code",
      "source": [
        "prediction = xgbc.predict(test_x)\n",
        "\n",
        "scores = accuracy_score(test_y,prediction)\n",
        "scores"
      ],
      "metadata": {
        "id": "-Khy9-VGW4DQ",
        "colab": {
          "base_uri": "https://localhost:8080/"
        },
        "outputId": "9e94d50a-58da-4330-f0d9-cba43a92316a"
      },
      "execution_count": 41,
      "outputs": [
        {
          "output_type": "execute_result",
          "data": {
            "text/plain": [
              "0.6621513944223107"
            ]
          },
          "metadata": {},
          "execution_count": 41
        }
      ]
    },
    {
      "cell_type": "markdown",
      "source": [
        " ## - Intensity"
      ],
      "metadata": {
        "id": "Idk05GKmvSwL"
      }
    },
    {
      "cell_type": "code",
      "source": [
        "from sklearn.model_selection import train_test_split\n",
        "from sklearn.metrics import mean_squared_error\n",
        "from sklearn.model_selection import StratifiedKFold\n",
        "from sklearn.model_selection import cross_val_score, KFold\n",
        "from sklearn.model_selection import GridSearchCV, train_test_split\n",
        "from sklearn.tree import DecisionTreeClassifier\n",
        "from xgboost import XGBClassifier\n",
        "\n",
        "train_x2, test_x2, train_y2, test_y2 = train_test_split(X, Y2, test_size=0.3)\n",
        "\n",
        "xgbc2 = XGBClassifier()\n",
        "xgbc2.fit(train_x2, train_y2)\n",
        "\n",
        "kfold = KFold(n_splits=30, shuffle=True)\n",
        "kf_cv_scores = cross_val_score(xgbc2, train_x2, train_y2, cv=kfold )\n",
        "print(\"K-fold CV average score: %.2f\" % kf_cv_scores.mean())"
      ],
      "metadata": {
        "id": "cdXIcvyeY1mP",
        "colab": {
          "base_uri": "https://localhost:8080/"
        },
        "outputId": "0ea8fec0-403f-40c9-888a-337fc5e1764e"
      },
      "execution_count": 42,
      "outputs": [
        {
          "output_type": "stream",
          "name": "stdout",
          "text": [
            "K-fold CV average score: 0.62\n"
          ]
        }
      ]
    },
    {
      "cell_type": "code",
      "source": [
        "prediction2 = xgbc2.predict(test_x2)\n",
        "\n",
        "scores = accuracy_score(test_y2,prediction2)\n",
        "scores"
      ],
      "metadata": {
        "id": "-gl1CPOnan0S",
        "colab": {
          "base_uri": "https://localhost:8080/"
        },
        "outputId": "de03eea9-b8d0-4cd7-c301-e0c953ea3d04"
      },
      "execution_count": 43,
      "outputs": [
        {
          "output_type": "execute_result",
          "data": {
            "text/plain": [
              "0.6207171314741036"
            ]
          },
          "metadata": {},
          "execution_count": 43
        }
      ]
    },
    {
      "cell_type": "markdown",
      "source": [
        "# predict"
      ],
      "metadata": {
        "id": "uP5k4Ywc6gQS"
      }
    },
    {
      "cell_type": "code",
      "source": [
        "prediction1 = xgbc.predict(X_korea1)\n",
        "scores1 = accuracy_score(Y_korea3,prediction1)\n",
        "\n",
        "prediction2 = xgbc2.predict(X_korea1)\n",
        "scores2 = accuracy_score(Y_korea4,prediction2)\n",
        "\n",
        "print(\"Korea Frequency prediction : %.2f\" % scores1)\n",
        "print(\"Korea Intensity prediction : %.2f\" % scores2)"
      ],
      "metadata": {
        "colab": {
          "base_uri": "https://localhost:8080/"
        },
        "id": "m_4mOo-Bv02y",
        "outputId": "82d6959e-3fb9-4b6c-8ff7-b2bdcf5cfd0a"
      },
      "execution_count": 45,
      "outputs": [
        {
          "output_type": "stream",
          "name": "stdout",
          "text": [
            "Korea Frequency prediction : 0.84\n",
            "Korea Intensity prediction : 0.84\n"
          ]
        }
      ]
    },
    {
      "cell_type": "code",
      "source": [
        "prediction1 = pd.DataFrame(prediction1)\n",
        "prediction2 = pd.DataFrame(prediction2)"
      ],
      "metadata": {
        "id": "snFKEGy30ZJX"
      },
      "execution_count": 46,
      "outputs": []
    },
    {
      "cell_type": "code",
      "source": [
        "plt.figure(figsize=(30,5))\n",
        "\n",
        "ax1=Y_korea1.plot()\n",
        "prediction1.plot(ax=ax1)\n",
        "plt.legend(['test','pred'])"
      ],
      "metadata": {
        "colab": {
          "base_uri": "https://localhost:8080/",
          "height": 325
        },
        "id": "-vmil2trx_PL",
        "outputId": "c66a452f-730a-4711-ecfc-6ed27928d805"
      },
      "execution_count": 47,
      "outputs": [
        {
          "output_type": "execute_result",
          "data": {
            "text/plain": [
              "<matplotlib.legend.Legend at 0x7fd2d9f67ad0>"
            ]
          },
          "metadata": {},
          "execution_count": 47
        },
        {
          "output_type": "display_data",
          "data": {
            "text/plain": [
              "<Figure size 2160x360 with 1 Axes>"
            ],
            "image/png": "[encoded data removed]"
          },
          "metadata": {
            "needs_background": "light"
          }
        }
      ]
    },
    {
      "cell_type": "code",
      "source": [
        "df1 = df[df[\"CNT\"].isin([0])]\n",
        "\n",
        "plt.figure(figsize=(30,8))\n",
        "xlabels = df1['DATE']\n",
        "plt.xticks(ticks=xlabels,labels=xlabels,rotation=45)\n",
        "plt.locator_params(axis='x', nbins=len(xlabels)/2)\n",
        "\n",
        "ax1=Y_korea2.plot()\n",
        "prediction2.plot(ax=ax1)\n",
        "plt.legend(['test','pred'])"
      ],
      "metadata": {
        "colab": {
          "base_uri": "https://localhost:8080/",
          "height": 464
        },
        "id": "9GDKLp7K6Ygg",
        "outputId": "8b5f968b-4d2e-4d4a-a5d3-7557b5d9cf5f"
      },
      "execution_count": 48,
      "outputs": [
        {
          "output_type": "execute_result",
          "data": {
            "text/plain": [
              "<matplotlib.legend.Legend at 0x7fd2da01b950>"
            ]
          },
          "metadata": {},
          "execution_count": 48
        },
        {
          "output_type": "display_data",
          "data": {
            "text/plain": [
              "<Figure size 2160x576 with 1 Axes>"
            ],
            "image/png": "[encoded data removed]"
          },
          "metadata": {
            "needs_background": "light"
          }
        }
      ]
    }
  ]
}