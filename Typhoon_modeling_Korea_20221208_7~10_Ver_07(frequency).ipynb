{
  "cells": [
    {
      "cell_type": "markdown",
      "metadata": {
        "id": "view-in-github",
        "colab_type": "text"
      },
      "source": [
        "<a href=\"https://colab.research.google.com/github/tigerjk726/Bumjoong/blob/main/Typhoon_modeling_Korea_20221208_7~10_Ver_07(frequency).ipynb\" target=\"_parent\"><img src=\"https://colab.research.google.com/assets/colab-badge.svg\" alt=\"Open In Colab\"/></a>"
      ]
    },
    {
      "cell_type": "markdown",
      "metadata": {
        "id": "2QbgU6cUum01"
      },
      "source": [
        "# IMPORT DATA"
      ]
    },
    {
      "cell_type": "code",
      "execution_count": null,
      "metadata": {
        "colab": {
          "base_uri": "https://localhost:8080/"
        },
        "id": "CpbByZRippYp",
        "outputId": "b5b862bf-4757-4064-9e23-3ae63c7971cd"
      },
      "outputs": [
        {
          "output_type": "stream",
          "name": "stdout",
          "text": [
            "Mounted at /content/drive\n"
          ]
        }
      ],
      "source": [
        "import tensorflow as tf\n",
        "from google.colab import drive\n",
        "drive.mount('/content/drive')             "
      ]
    },
    {
      "cell_type": "code",
      "execution_count": null,
      "metadata": {
        "colab": {
          "base_uri": "https://localhost:8080/"
        },
        "id": "G5TfSj0PfYtT",
        "outputId": "e66c042c-76a2-4f93-fda7-dd033566f187"
      },
      "outputs": [
        {
          "output_type": "stream",
          "name": "stdout",
          "text": [
            "/content/drive/My Drive/Colab Notebooks/2022.10.10 typhoon\n"
          ]
        }
      ],
      "source": [
        "%cd /content/drive/My Drive/Colab Notebooks/2022.10.10 typhoon"
      ]
    },
    {
      "cell_type": "code",
      "execution_count": null,
      "metadata": {
        "id": "iVlFBZkefbk2"
      },
      "outputs": [],
      "source": [
        "import pandas as pd\n",
        "df = pd.read_csv('19592021korea(2).csv')\n",
        "df"
      ]
    },
    {
      "cell_type": "markdown",
      "metadata": {
        "id": "lkh5ifR7n-fN"
      },
      "source": [
        "칼럼별 명칭"
      ]
    },
    {
      "cell_type": "code",
      "execution_count": null,
      "metadata": {
        "id": "1jXmkD1v-_vh"
      },
      "outputs": [],
      "source": [
        "import pandas as pd\n",
        "import numpy as np\n",
        "import matplotlib.pyplot as plt\n",
        "import seaborn as sns\n",
        "import plotly.express as px\n",
        "from scipy.stats import norm\n",
        "from sklearn.preprocessing import StandardScaler\n",
        "from scipy import stats\n",
        "import warnings\n",
        "warnings.filterwarnings('ignore')\n",
        "%matplotlib inline"
      ]
    },
    {
      "cell_type": "code",
      "execution_count": null,
      "metadata": {
        "colab": {
          "base_uri": "https://localhost:8080/"
        },
        "id": "glKsDQFEf1Xf",
        "outputId": "a153d9f6-3133-4b2a-96d5-7d87b51064eb"
      },
      "outputs": [
        {
          "output_type": "execute_result",
          "data": {
            "text/plain": [
              "Index(['year', 'mon', 'amo', 'aao', 'ao', 'emi', 'gmo', 'nino3', 'nino4',\n",
              "       'pdo', 'pna', 'qbo', 'freq', 'inten'],\n",
              "      dtype='object')"
            ]
          },
          "metadata": {},
          "execution_count": 5
        }
      ],
      "source": [
        "df.columns"
      ]
    },
    {
      "cell_type": "code",
      "execution_count": null,
      "metadata": {
        "colab": {
          "base_uri": "https://localhost:8080/",
          "height": 233
        },
        "id": "eGwcGLzVbo_s",
        "outputId": "0ffac7f1-26b3-47a2-ac9e-c018cce2719a"
      },
      "outputs": [
        {
          "output_type": "display_data",
          "data": {
            "text/plain": [
              "<Figure size 2304x288 with 1 Axes>"
            ],
            "image/png": "[encoded data removed]"
          },
          "metadata": {
            "needs_background": "light"
          }
        }
      ],
      "source": [
        "var = 'year'\n",
        "data = pd.concat([df['inten'], df[var]], axis=1)\n",
        "f, ax = plt.subplots(figsize=(32, 4))\n",
        "fig = sns.boxplot(x=var, y=\"inten\", data=data)\n",
        "fig.axis(ymin=0, ymax=120);\n",
        "plt.xticks(rotation=45);"
      ]
    },
    {
      "cell_type": "markdown",
      "metadata": {
        "id": "63_4Em4Gv863"
      },
      "source": [
        "# Data Splitting\n"
      ]
    },
    {
      "cell_type": "code",
      "execution_count": null,
      "metadata": {
        "id": "4KnBDqrQd49x"
      },
      "outputs": [],
      "source": [
        "df1 = df[df[\"mon\"].isin([78])]\n",
        "df2 = df[df[\"mon\"].isin([910])]"
      ]
    },
    {
      "cell_type": "code",
      "execution_count": null,
      "metadata": {
        "id": "SN7SPnPLeJYi"
      },
      "outputs": [],
      "source": [
        "#train = df[df[\"year\"].isin(list(range(1959,2019,1)))]"
      ]
    },
    {
      "cell_type": "code",
      "execution_count": null,
      "metadata": {
        "id": "358-k74cdXh1"
      },
      "outputs": [],
      "source": [
        "#test = df[df[\"year\"].isin(list(range(2019,2021,1)))]"
      ]
    },
    {
      "cell_type": "code",
      "execution_count": null,
      "metadata": {
        "id": "twU6qwFEHhP5",
        "colab": {
          "base_uri": "https://localhost:8080/"
        },
        "outputId": "7c5d4ba6-fe65-4661-ca9a-68d667b3f6ad"
      },
      "outputs": [
        {
          "output_type": "stream",
          "name": "stdout",
          "text": [
            "     freq\n",
            "0       2\n",
            "2       2\n",
            "4       2\n",
            "6       2\n",
            "8       1\n",
            "..    ...\n",
            "116     1\n",
            "118     4\n",
            "120     3\n",
            "122     2\n",
            "124     1\n",
            "\n",
            "[63 rows x 1 columns]      inten\n",
            "0     66.5\n",
            "2     26.0\n",
            "4     37.0\n",
            "6     60.0\n",
            "8     28.5\n",
            "..     ...\n",
            "116   28.5\n",
            "118   59.5\n",
            "120   47.0\n",
            "122   33.5\n",
            "124   13.0\n",
            "\n",
            "[63 rows x 1 columns] freq    1.888889\n",
            "dtype: float64 inten    37.587302\n",
            "dtype: float64\n"
          ]
        }
      ],
      "source": [
        "x = df1.iloc[:,2:12]\n",
        "y1 = df1.iloc[:,12:13]\n",
        "y2 = df1.iloc[:,13:]\n",
        "print(y1, y2,np.mean(y1), np.mean(y2))"
      ]
    },
    {
      "cell_type": "code",
      "execution_count": null,
      "metadata": {
        "id": "mTaJJZHRLLSh",
        "colab": {
          "base_uri": "https://localhost:8080/"
        },
        "outputId": "a325dd49-6b35-49cc-f87e-3f9db0ee3453"
      },
      "outputs": [
        {
          "output_type": "stream",
          "name": "stdout",
          "text": [
            "     freq\n",
            "1       2\n",
            "3       0\n",
            "5       0\n",
            "7       1\n",
            "9       0\n",
            "..    ...\n",
            "117     0\n",
            "119     1\n",
            "121     3\n",
            "123     2\n",
            "125     1\n",
            "\n",
            "[63 rows x 1 columns]      inten\n",
            "1     37.0\n",
            "3      0.0\n",
            "5      0.0\n",
            "7     19.5\n",
            "9      0.0\n",
            "..     ...\n",
            "117    0.0\n",
            "119   31.5\n",
            "121   62.5\n",
            "123   46.0\n",
            "125   27.5\n",
            "\n",
            "[63 rows x 1 columns] freq    0.634921\n",
            "dtype: float64 inten    18.920635\n",
            "dtype: float64\n"
          ]
        }
      ],
      "source": [
        "X = df2.iloc[:,2:12]\n",
        "Y1 = df2.iloc[:,12:13]\n",
        "Y2 = df2.iloc[:,13:]\n",
        "print(Y1, Y2, np.mean(Y1), np.mean(Y2))"
      ]
    },
    {
      "cell_type": "markdown",
      "metadata": {
        "id": "mtBffH8_Lz3c"
      },
      "source": [
        "#Modelling\n"
      ]
    },
    {
      "cell_type": "code",
      "execution_count": null,
      "metadata": {
        "id": "7Q0I-B2sL13v"
      },
      "outputs": [],
      "source": [
        "from sklearn.linear_model import ElasticNet, Lasso,  BayesianRidge, LassoLarsIC\n",
        "from sklearn.ensemble import RandomForestRegressor,  GradientBoostingRegressor\n",
        "from sklearn.kernel_ridge import KernelRidge\n",
        "from sklearn.pipeline import make_pipeline\n",
        "from sklearn.preprocessing import RobustScaler\n",
        "from sklearn.base import BaseEstimator, TransformerMixin, RegressorMixin, clone\n",
        "from sklearn.model_selection import KFold, cross_val_score, train_test_split\n",
        "from sklearn.model_selection import LeaveOneOut\n",
        "from sklearn.metrics import mean_squared_error\n",
        "import xgboost as xgb\n",
        "import lightgbm as lgb"
      ]
    },
    {
      "cell_type": "markdown",
      "metadata": {
        "id": "ZeBEWEBlQXmt"
      },
      "source": [
        "## Elastic Net Regression :\n",
        "again made robust to outliers"
      ]
    },
    {
      "cell_type": "code",
      "execution_count": null,
      "metadata": {
        "id": "IspafoCZQVaf"
      },
      "outputs": [],
      "source": [
        "ENet = make_pipeline(RobustScaler(), ElasticNet(alpha=0.0005, l1_ratio=.9, random_state=3))"
      ]
    },
    {
      "cell_type": "markdown",
      "metadata": {
        "id": "wyAlOApFQSWK"
      },
      "source": [
        "## LASSO Regression :\n",
        "This model may be very sensitive to outliers. So we need to made it more robust on them. For that we use the sklearn's Robustscaler() method on pipeline"
      ]
    },
    {
      "cell_type": "code",
      "execution_count": null,
      "metadata": {
        "id": "_4x3USysQI6M"
      },
      "outputs": [],
      "source": [
        "lasso = make_pipeline(RobustScaler(), Lasso(alpha =0.0005, random_state=1))"
      ]
    },
    {
      "cell_type": "markdown",
      "metadata": {
        "id": "5qjhChPlQbRa"
      },
      "source": [
        "## Kernel Ridge Regression :\n"
      ]
    },
    {
      "cell_type": "code",
      "execution_count": null,
      "metadata": {
        "id": "mV1B0spJQc6M"
      },
      "outputs": [],
      "source": [
        "KRR = KernelRidge(alpha=0.6, kernel='polynomial', degree=2, coef0=2.5)\n"
      ]
    },
    {
      "cell_type": "markdown",
      "metadata": {
        "id": "Tpw4jmW5QfHm"
      },
      "source": [
        "## Gradient Boosting Regression :\n",
        "With huber loss that makes it robust to outliers"
      ]
    },
    {
      "cell_type": "code",
      "execution_count": null,
      "metadata": {
        "id": "T0oAd0LjQgE9"
      },
      "outputs": [],
      "source": [
        "GBoost = GradientBoostingRegressor(n_estimators=3000, learning_rate=0.05,\n",
        "                                   max_depth=4, max_features='sqrt',\n",
        "                                   min_samples_leaf=15, min_samples_split=10, \n",
        "                                   loss='huber', random_state =5)"
      ]
    },
    {
      "cell_type": "markdown",
      "metadata": {
        "id": "Iqjm9YLFQivY"
      },
      "source": [
        "## XGBoost :"
      ]
    },
    {
      "cell_type": "code",
      "execution_count": null,
      "metadata": {
        "id": "WYfnhpxWQjuq"
      },
      "outputs": [],
      "source": [
        "model_xgb = xgb.XGBRegressor(colsample_bytree=0.4603, gamma=0.0468, \n",
        "                             learning_rate=0.05, max_depth=3, \n",
        "                             min_child_weight=1.7817, n_estimators=2200,\n",
        "                             reg_alpha=0.4640, reg_lambda=0.8571,\n",
        "                             subsample=0.5213, silent=1,\n",
        "                             random_state =7, nthread = -1)"
      ]
    },
    {
      "cell_type": "markdown",
      "metadata": {
        "id": "KMk8RQFHQllV"
      },
      "source": [
        "## LightGBM :"
      ]
    },
    {
      "cell_type": "code",
      "execution_count": null,
      "metadata": {
        "id": "nkdgAtlaQt2z"
      },
      "outputs": [],
      "source": [
        "model_lgb = lgb.LGBMRegressor(objective='regression',num_leaves=5,\n",
        "                              learning_rate=0.05, n_estimators=720,\n",
        "                              max_bin = 55, bagging_fraction = 0.8,\n",
        "                              bagging_freq = 5, feature_fraction = 0.2319,\n",
        "                              feature_fraction_seed=9, bagging_seed=9,\n",
        "                              min_data_in_leaf =6, min_sum_hessian_in_leaf = 11)"
      ]
    },
    {
      "cell_type": "markdown",
      "metadata": {
        "id": "rHI87H44Qx0y"
      },
      "source": [
        "# Scores : Base model"
      ]
    },
    {
      "cell_type": "code",
      "execution_count": null,
      "metadata": {
        "id": "-YmAWRThL3wV"
      },
      "outputs": [],
      "source": [
        "#Validation function\n",
        "\n",
        "def rmsle_cv_f(model):\n",
        "    cv = LeaveOneOut()\n",
        "    rmse = -cross_val_score(model, x, y1, scoring=\"neg_mean_squared_error\", cv = cv)\n",
        "    return(rmse)\n",
        "\n",
        "def rmsle_cv_i(model):\n",
        "    cv = LeaveOneOut()\n",
        "    rmse = -cross_val_score(model, x, y2, scoring=\"neg_mean_squared_error\", cv = cv)\n",
        "    return(rmse)\n",
        "\n",
        "def rmsle_cv_f2(model):\n",
        "    cv = LeaveOneOut()\n",
        "    rmse = -cross_val_score(model, X, Y1, scoring=\"neg_mean_squared_error\", cv = cv)\n",
        "    return(rmse)    \n",
        "\n",
        "def rmsle_cv_i2(model):\n",
        "    cv = LeaveOneOut()\n",
        "    rmse = -cross_val_score(model, X, Y2, scoring=\"neg_mean_squared_error\", cv = cv)\n",
        "    return(rmse)    \n",
        "\n"
      ]
    },
    {
      "cell_type": "code",
      "source": [
        "from statistics import mean\n",
        "\n",
        "score_l = rmsle_cv_f(lasso)\n",
        "print(\"score: {:.4f}\\n\".format(mean(abs(score_l))))\n",
        "\n",
        "score2_l = rmsle_cv_f2(lasso)\n",
        "print(\"score2: {:.4f}\\n\".format(mean(abs(score2_l))))"
      ],
      "metadata": {
        "colab": {
          "base_uri": "https://localhost:8080/"
        },
        "id": "JwYdch6eLk9w",
        "outputId": "046374b0-08b0-4041-c85b-19420dd79c2d"
      },
      "execution_count": null,
      "outputs": [
        {
          "output_type": "stream",
          "name": "stdout",
          "text": [
            "score: 1.9352\n",
            "\n",
            "score2: 0.5438\n",
            "\n"
          ]
        }
      ]
    },
    {
      "cell_type": "code",
      "execution_count": null,
      "metadata": {
        "colab": {
          "base_uri": "https://localhost:8080/"
        },
        "id": "zzjiiRBxQxOl",
        "outputId": "e218737e-29b2-4e83-b905-931ff0468a20"
      },
      "outputs": [
        {
          "output_type": "stream",
          "name": "stdout",
          "text": [
            "score: 1.9349\n",
            "\n",
            "score2: 0.5439\n",
            "\n"
          ]
        }
      ],
      "source": [
        "score_e = rmsle_cv_f(ENet)\n",
        "print(\"score: {:.4f}\\n\".format(mean(abs(score_e))))\n",
        "\n",
        "score2_e = rmsle_cv_f2(ENet)\n",
        "print(\"score2: {:.4f}\\n\".format(mean(abs(score2_e))))"
      ]
    },
    {
      "cell_type": "code",
      "execution_count": null,
      "metadata": {
        "colab": {
          "base_uri": "https://localhost:8080/"
        },
        "id": "Cue7lFx0Q74M",
        "outputId": "50ceda75-b601-4a86-8e24-5fc4fc6c0798"
      },
      "outputs": [
        {
          "output_type": "stream",
          "name": "stdout",
          "text": [
            "score_x: 2.3151\n",
            "\n",
            "score2_x: 0.5037\n",
            "\n"
          ]
        }
      ],
      "source": [
        "score_x = rmsle_cv_f(model_xgb)\n",
        "print(\"score_x: {:.4f}\\n\".format(mean(abs(score_x))))\n",
        "\n",
        "score2_x = rmsle_cv_f2(model_xgb)\n",
        "print(\"score2_x: {:.4f}\\n\".format(mean(abs(score2_x))))"
      ]
    },
    {
      "cell_type": "code",
      "execution_count": null,
      "metadata": {
        "colab": {
          "base_uri": "https://localhost:8080/"
        },
        "id": "njY9J-cQQ89K",
        "outputId": "f7ce3228-4bff-423c-c1a3-b835f201fcb3"
      },
      "outputs": [
        {
          "output_type": "stream",
          "name": "stdout",
          "text": [
            "score_g: 2.6959\n",
            "\n",
            "score2_g: 0.5718\n",
            "\n"
          ]
        }
      ],
      "source": [
        "score_g = rmsle_cv_f(model_lgb)\n",
        "print(\"score_g: {:.4f}\\n\".format(mean(abs(score_g))))\n",
        "\n",
        "score2_g = rmsle_cv_f2(model_lgb)\n",
        "print(\"score2_g: {:.4f}\\n\".format(mean(abs(score2_g))))"
      ]
    },
    {
      "cell_type": "code",
      "source": [
        "score_l"
      ],
      "metadata": {
        "colab": {
          "base_uri": "https://localhost:8080/"
        },
        "id": "wmFL8Cuz4yu8",
        "outputId": "ebcd7d54-ed80-41ad-fc57-3b039bc068f8"
      },
      "execution_count": null,
      "outputs": [
        {
          "output_type": "execute_result",
          "data": {
            "text/plain": [
              "array([6.38542225e-02, 1.40507146e-04, 9.35932465e-01, 1.15708145e-01,\n",
              "       2.33754193e+00, 1.99694018e+00, 1.25762528e+00, 7.09239458e-01,\n",
              "       4.60651548e+00, 2.08591186e-04, 6.58224542e+00, 4.29404464e+00,\n",
              "       8.83417034e-01, 3.79561118e-01, 2.16462333e-01, 8.93560306e-01,\n",
              "       3.16954055e-01, 3.57873500e+00, 4.54227771e-01, 3.33815743e-02,\n",
              "       7.01415107e-03, 3.22531649e+00, 7.24617990e-01, 5.75041385e-01,\n",
              "       1.12395561e+00, 1.00104580e+00, 9.63759728e+00, 1.33125082e+00,\n",
              "       1.83511467e-02, 3.09985357e+00, 2.02070490e+00, 9.84428190e-01,\n",
              "       6.13393501e-03, 1.00012744e-01, 2.14654768e+00, 5.04969266e+00,\n",
              "       2.28288283e+00, 2.63692160e-01, 2.20166606e+00, 1.01997788e-01,\n",
              "       9.61368064e+00, 2.44898992e+00, 2.40274403e+00, 7.36205532e+00,\n",
              "       5.31840903e+00, 1.17617274e-01, 1.60874533e+00, 2.49499730e-01,\n",
              "       8.40693644e-02, 2.40020812e-01, 5.36846712e-01, 1.51977860e+00,\n",
              "       1.12931076e-02, 1.09043628e+01, 1.66044185e+00, 1.66950512e+00,\n",
              "       1.62916452e+00, 1.76772851e+00, 6.52299042e-01, 3.58479547e+00,\n",
              "       1.48283547e+00, 1.19736441e+00, 2.96078387e-01])"
            ]
          },
          "metadata": {},
          "execution_count": 91
        }
      ]
    },
    {
      "cell_type": "code",
      "execution_count": null,
      "metadata": {
        "id": "67_Cj257lQZZ"
      },
      "outputs": [],
      "source": [
        "#df1[\"Name\"] = df1[\"year\"].apply(str) + ' ' + df1[\"mon\"].apply(str)"
      ]
    },
    {
      "cell_type": "code",
      "execution_count": null,
      "metadata": {
        "id": "nM0uKKYAxsv5"
      },
      "outputs": [],
      "source": [
        "y1 = y1.set_index(df1[\"year\"])"
      ]
    },
    {
      "cell_type": "code",
      "execution_count": null,
      "metadata": {
        "id": "BwYbldJVI2UQ"
      },
      "outputs": [],
      "source": [
        "score_l = pd.DataFrame(score_l)\n",
        "score_l = score_l.set_index(df1[\"year\"])"
      ]
    },
    {
      "cell_type": "code",
      "source": [
        "df1[\"year\"]"
      ],
      "metadata": {
        "id": "7xT5emqMQ2KQ"
      },
      "execution_count": null,
      "outputs": []
    },
    {
      "cell_type": "code",
      "execution_count": null,
      "metadata": {
        "id": "I2dtFtKWkk30"
      },
      "outputs": [],
      "source": [
        "# Y1 = Y1.values.tolist()"
      ]
    },
    {
      "cell_type": "code",
      "execution_count": null,
      "metadata": {
        "id": "USN0HXkra4qA",
        "colab": {
          "base_uri": "https://localhost:8080/",
          "height": 303
        },
        "outputId": "8f2e1dc7-40b1-4b42-edee-79acba68a4ab"
      },
      "outputs": [
        {
          "output_type": "display_data",
          "data": {
            "text/plain": [
              "<Figure size 2160x360 with 1 Axes>"
            ],
            "image/png": "[encoded data removed]"
          },
          "metadata": {
            "needs_background": "light"
          }
        }
      ],
      "source": [
        "plt.figure(figsize=(30, 5))  \n",
        "\n",
        "plt.plot(y1, color='red', label='real')\n",
        "plt.plot(score_l, color='blue', label='predicted')\n",
        "plt.title('July + August')\n",
        "plt.xlabel('time')\n",
        "plt.ylabel('Frequency')\n",
        "plt.xticks(rotation=45)\n",
        "plt.legend()\n",
        "plt.show()"
      ]
    },
    {
      "cell_type": "code",
      "execution_count": null,
      "metadata": {
        "id": "pIkzoSBM33Eo",
        "colab": {
          "base_uri": "https://localhost:8080/",
          "height": 112
        },
        "outputId": "1db2fce0-5457-4ee2-ce0e-5bd3dce7b401"
      },
      "outputs": [
        {
          "output_type": "execute_result",
          "data": {
            "text/plain": [
              "             0      freq\n",
              "0     1.000000  0.432321\n",
              "freq  0.432321  1.000000"
            ],
            "text/html": [
              "\n",
              "  <div id=\"df-d6e382ff-4b46-433e-ac9f-f35f4aadfaea\">\n",
              "    <div class=\"colab-df-container\">\n",
              "      <div>\n",
              "<style scoped>\n",
              "    .dataframe tbody tr th:only-of-type {\n",
              "        vertical-align: middle;\n",
              "    }\n",
              "\n",
              "    .dataframe tbody tr th {\n",
              "        vertical-align: top;\n",
              "    }\n",
              "\n",
              "    .dataframe thead th {\n",
              "        text-align: right;\n",
              "    }\n",
              "</style>\n",
              "<table border=\"1\" class=\"dataframe\">\n",
              "  <thead>\n",
              "    <tr style=\"text-align: right;\">\n",
              "      <th></th>\n",
              "      <th>0</th>\n",
              "      <th>freq</th>\n",
              "    </tr>\n",
              "  </thead>\n",
              "  <tbody>\n",
              "    <tr>\n",
              "      <th>0</th>\n",
              "      <td>1.000000</td>\n",
              "      <td>0.432321</td>\n",
              "    </tr>\n",
              "    <tr>\n",
              "      <th>freq</th>\n",
              "      <td>0.432321</td>\n",
              "      <td>1.000000</td>\n",
              "    </tr>\n",
              "  </tbody>\n",
              "</table>\n",
              "</div>\n",
              "      <button class=\"colab-df-convert\" onclick=\"convertToInteractive('df-d6e382ff-4b46-433e-ac9f-f35f4aadfaea')\"\n",
              "              title=\"Convert this dataframe to an interactive table.\"\n",
              "              style=\"display:none;\">\n",
              "        \n",
              "  <svg xmlns=\"http://www.w3.org/2000/svg\" height=\"24px\"viewBox=\"0 0 24 24\"\n",
              "       width=\"24px\">\n",
              "    <path d=\"M0 0h24v24H0V0z\" fill=\"none\"/>\n",
              "    <path d=\"M18.56 5.44l.94 2.06.94-2.06 2.06-.94-2.06-.94-.94-2.06-.94 2.06-2.06.94zm-11 1L8.5 8.5l.94-2.06 2.06-.94-2.06-.94L8.5 2.5l-.94 2.06-2.06.94zm10 10l.94 2.06.94-2.06 2.06-.94-2.06-.94-.94-2.06-.94 2.06-2.06.94z\"/><path d=\"M17.41 7.96l-1.37-1.37c-.4-.4-.92-.59-1.43-.59-.52 0-1.04.2-1.43.59L10.3 9.45l-7.72 7.72c-.78.78-.78 2.05 0 2.83L4 21.41c.39.39.9.59 1.41.59.51 0 1.02-.2 1.41-.59l7.78-7.78 2.81-2.81c.8-.78.8-2.07 0-2.86zM5.41 20L4 18.59l7.72-7.72 1.47 1.35L5.41 20z\"/>\n",
              "  </svg>\n",
              "      </button>\n",
              "      \n",
              "  <style>\n",
              "    .colab-df-container {\n",
              "      display:flex;\n",
              "      flex-wrap:wrap;\n",
              "      gap: 12px;\n",
              "    }\n",
              "\n",
              "    .colab-df-convert {\n",
              "      background-color: #E8F0FE;\n",
              "      border: none;\n",
              "      border-radius: 50%;\n",
              "      cursor: pointer;\n",
              "      display: none;\n",
              "      fill: #1967D2;\n",
              "      height: 32px;\n",
              "      padding: 0 0 0 0;\n",
              "      width: 32px;\n",
              "    }\n",
              "\n",
              "    .colab-df-convert:hover {\n",
              "      background-color: #E2EBFA;\n",
              "      box-shadow: 0px 1px 2px rgba(60, 64, 67, 0.3), 0px 1px 3px 1px rgba(60, 64, 67, 0.15);\n",
              "      fill: #174EA6;\n",
              "    }\n",
              "\n",
              "    [theme=dark] .colab-df-convert {\n",
              "      background-color: #3B4455;\n",
              "      fill: #D2E3FC;\n",
              "    }\n",
              "\n",
              "    [theme=dark] .colab-df-convert:hover {\n",
              "      background-color: #434B5C;\n",
              "      box-shadow: 0px 1px 3px 1px rgba(0, 0, 0, 0.15);\n",
              "      filter: drop-shadow(0px 1px 2px rgba(0, 0, 0, 0.3));\n",
              "      fill: #FFFFFF;\n",
              "    }\n",
              "  </style>\n",
              "\n",
              "      <script>\n",
              "        const buttonEl =\n",
              "          document.querySelector('#df-d6e382ff-4b46-433e-ac9f-f35f4aadfaea button.colab-df-convert');\n",
              "        buttonEl.style.display =\n",
              "          google.colab.kernel.accessAllowed ? 'block' : 'none';\n",
              "\n",
              "        async function convertToInteractive(key) {\n",
              "          const element = document.querySelector('#df-d6e382ff-4b46-433e-ac9f-f35f4aadfaea');\n",
              "          const dataTable =\n",
              "            await google.colab.kernel.invokeFunction('convertToInteractive',\n",
              "                                                     [key], {});\n",
              "          if (!dataTable) return;\n",
              "\n",
              "          const docLinkHtml = 'Like what you see? Visit the ' +\n",
              "            '<a target=\"_blank\" href=https://colab.research.google.com/notebooks/data_table.ipynb>data table notebook</a>'\n",
              "            + ' to learn more about interactive tables.';\n",
              "          element.innerHTML = '';\n",
              "          dataTable['output_type'] = 'display_data';\n",
              "          await google.colab.output.renderOutput(dataTable, element);\n",
              "          const docLink = document.createElement('div');\n",
              "          docLink.innerHTML = docLinkHtml;\n",
              "          element.appendChild(docLink);\n",
              "        }\n",
              "      </script>\n",
              "    </div>\n",
              "  </div>\n",
              "  "
            ]
          },
          "metadata": {},
          "execution_count": 97
        }
      ],
      "source": [
        "Corr = pd.merge(score_l, y1, on='Name')\n",
        "Corr.corr()"
      ]
    },
    {
      "cell_type": "code",
      "source": [
        "#df2[\"Name\"] = df2[\"year\"].apply(str) + ' ' + df2[\"mon\"].apply(str)"
      ],
      "metadata": {
        "id": "yw4CvoF567UR"
      },
      "execution_count": null,
      "outputs": []
    },
    {
      "cell_type": "code",
      "source": [
        "Y1 = Y1.set_index(df2[\"year\"])"
      ],
      "metadata": {
        "id": "K5D1f7tj7L6L"
      },
      "execution_count": null,
      "outputs": []
    },
    {
      "cell_type": "code",
      "source": [
        "score2_x = pd.DataFrame(score2_x)\n",
        "score2_x = score2_x.set_index(df2[\"year\"])"
      ],
      "metadata": {
        "id": "e5_RphGY7PVs"
      },
      "execution_count": null,
      "outputs": []
    },
    {
      "cell_type": "code",
      "source": [
        "plt.figure(figsize=(30, 5))  \n",
        "\n",
        "plt.plot(Y1, color='red', label='real')\n",
        "plt.plot(score2_x, color='blue', label='predicted')\n",
        "plt.title('September + October')\n",
        "plt.xlabel('time')\n",
        "plt.ylabel('Frequency')\n",
        "plt.xticks(rotation=45)\n",
        "plt.legend()\n",
        "plt.show()"
      ],
      "metadata": {
        "colab": {
          "base_uri": "https://localhost:8080/",
          "height": 304
        },
        "id": "Lcef7WE-7UOI",
        "outputId": "0181076f-61e7-4f4b-91f6-d26075a8e422"
      },
      "execution_count": null,
      "outputs": [
        {
          "output_type": "display_data",
          "data": {
            "text/plain": [
              "<Figure size 2160x360 with 1 Axes>"
            ],
            "image/png": "[encoded data removed]"
          },
          "metadata": {
            "needs_background": "light"
          }
        }
      ]
    },
    {
      "cell_type": "code",
      "source": [
        "Corr = pd.merge(score2_x, Y1, on='year')\n",
        "Corr.corr()"
      ],
      "metadata": {
        "colab": {
          "base_uri": "https://localhost:8080/",
          "height": 112
        },
        "id": "NN_oKR21Qb2i",
        "outputId": "72dae553-fc5c-4753-8d70-c798b9d62421"
      },
      "execution_count": null,
      "outputs": [
        {
          "output_type": "execute_result",
          "data": {
            "text/plain": [
              "            0     freq\n",
              "0     1.00000  0.52802\n",
              "freq  0.52802  1.00000"
            ],
            "text/html": [
              "\n",
              "  <div id=\"df-e3f7a872-fe36-4576-b2bf-e600e1db85bc\">\n",
              "    <div class=\"colab-df-container\">\n",
              "      <div>\n",
              "<style scoped>\n",
              "    .dataframe tbody tr th:only-of-type {\n",
              "        vertical-align: middle;\n",
              "    }\n",
              "\n",
              "    .dataframe tbody tr th {\n",
              "        vertical-align: top;\n",
              "    }\n",
              "\n",
              "    .dataframe thead th {\n",
              "        text-align: right;\n",
              "    }\n",
              "</style>\n",
              "<table border=\"1\" class=\"dataframe\">\n",
              "  <thead>\n",
              "    <tr style=\"text-align: right;\">\n",
              "      <th></th>\n",
              "      <th>0</th>\n",
              "      <th>freq</th>\n",
              "    </tr>\n",
              "  </thead>\n",
              "  <tbody>\n",
              "    <tr>\n",
              "      <th>0</th>\n",
              "      <td>1.00000</td>\n",
              "      <td>0.52802</td>\n",
              "    </tr>\n",
              "    <tr>\n",
              "      <th>freq</th>\n",
              "      <td>0.52802</td>\n",
              "      <td>1.00000</td>\n",
              "    </tr>\n",
              "  </tbody>\n",
              "</table>\n",
              "</div>\n",
              "      <button class=\"colab-df-convert\" onclick=\"convertToInteractive('df-e3f7a872-fe36-4576-b2bf-e600e1db85bc')\"\n",
              "              title=\"Convert this dataframe to an interactive table.\"\n",
              "              style=\"display:none;\">\n",
              "        \n",
              "  <svg xmlns=\"http://www.w3.org/2000/svg\" height=\"24px\"viewBox=\"0 0 24 24\"\n",
              "       width=\"24px\">\n",
              "    <path d=\"M0 0h24v24H0V0z\" fill=\"none\"/>\n",
              "    <path d=\"M18.56 5.44l.94 2.06.94-2.06 2.06-.94-2.06-.94-.94-2.06-.94 2.06-2.06.94zm-11 1L8.5 8.5l.94-2.06 2.06-.94-2.06-.94L8.5 2.5l-.94 2.06-2.06.94zm10 10l.94 2.06.94-2.06 2.06-.94-2.06-.94-.94-2.06-.94 2.06-2.06.94z\"/><path d=\"M17.41 7.96l-1.37-1.37c-.4-.4-.92-.59-1.43-.59-.52 0-1.04.2-1.43.59L10.3 9.45l-7.72 7.72c-.78.78-.78 2.05 0 2.83L4 21.41c.39.39.9.59 1.41.59.51 0 1.02-.2 1.41-.59l7.78-7.78 2.81-2.81c.8-.78.8-2.07 0-2.86zM5.41 20L4 18.59l7.72-7.72 1.47 1.35L5.41 20z\"/>\n",
              "  </svg>\n",
              "      </button>\n",
              "      \n",
              "  <style>\n",
              "    .colab-df-container {\n",
              "      display:flex;\n",
              "      flex-wrap:wrap;\n",
              "      gap: 12px;\n",
              "    }\n",
              "\n",
              "    .colab-df-convert {\n",
              "      background-color: #E8F0FE;\n",
              "      border: none;\n",
              "      border-radius: 50%;\n",
              "      cursor: pointer;\n",
              "      display: none;\n",
              "      fill: #1967D2;\n",
              "      height: 32px;\n",
              "      padding: 0 0 0 0;\n",
              "      width: 32px;\n",
              "    }\n",
              "\n",
              "    .colab-df-convert:hover {\n",
              "      background-color: #E2EBFA;\n",
              "      box-shadow: 0px 1px 2px rgba(60, 64, 67, 0.3), 0px 1px 3px 1px rgba(60, 64, 67, 0.15);\n",
              "      fill: #174EA6;\n",
              "    }\n",
              "\n",
              "    [theme=dark] .colab-df-convert {\n",
              "      background-color: #3B4455;\n",
              "      fill: #D2E3FC;\n",
              "    }\n",
              "\n",
              "    [theme=dark] .colab-df-convert:hover {\n",
              "      background-color: #434B5C;\n",
              "      box-shadow: 0px 1px 3px 1px rgba(0, 0, 0, 0.15);\n",
              "      filter: drop-shadow(0px 1px 2px rgba(0, 0, 0, 0.3));\n",
              "      fill: #FFFFFF;\n",
              "    }\n",
              "  </style>\n",
              "\n",
              "      <script>\n",
              "        const buttonEl =\n",
              "          document.querySelector('#df-e3f7a872-fe36-4576-b2bf-e600e1db85bc button.colab-df-convert');\n",
              "        buttonEl.style.display =\n",
              "          google.colab.kernel.accessAllowed ? 'block' : 'none';\n",
              "\n",
              "        async function convertToInteractive(key) {\n",
              "          const element = document.querySelector('#df-e3f7a872-fe36-4576-b2bf-e600e1db85bc');\n",
              "          const dataTable =\n",
              "            await google.colab.kernel.invokeFunction('convertToInteractive',\n",
              "                                                     [key], {});\n",
              "          if (!dataTable) return;\n",
              "\n",
              "          const docLinkHtml = 'Like what you see? Visit the ' +\n",
              "            '<a target=\"_blank\" href=https://colab.research.google.com/notebooks/data_table.ipynb>data table notebook</a>'\n",
              "            + ' to learn more about interactive tables.';\n",
              "          element.innerHTML = '';\n",
              "          dataTable['output_type'] = 'display_data';\n",
              "          await google.colab.output.renderOutput(dataTable, element);\n",
              "          const docLink = document.createElement('div');\n",
              "          docLink.innerHTML = docLinkHtml;\n",
              "          element.appendChild(docLink);\n",
              "        }\n",
              "      </script>\n",
              "    </div>\n",
              "  </div>\n",
              "  "
            ]
          },
          "metadata": {},
          "execution_count": 113
        }
      ]
    }
  ],
  "metadata": {
    "colab": {
      "provenance": [],
      "collapsed_sections": [
        "ZeBEWEBlQXmt",
        "wyAlOApFQSWK",
        "5qjhChPlQbRa",
        "Tpw4jmW5QfHm",
        "Iqjm9YLFQivY",
        "KMk8RQFHQllV"
      ],
      "authorship_tag": "ABX9TyPnntnxsksTTM2hiwTvzfoV",
      "include_colab_link": true
    },
    "kernelspec": {
      "display_name": "Python 3",
      "name": "python3"
    },
    "language_info": {
      "name": "python"
    }
  },
  "nbformat": 4,
  "nbformat_minor": 0
}