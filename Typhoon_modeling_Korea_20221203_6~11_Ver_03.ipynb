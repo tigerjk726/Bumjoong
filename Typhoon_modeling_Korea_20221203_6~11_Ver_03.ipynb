{
  "cells": [
    {
      "cell_type": "markdown",
      "metadata": {
        "id": "view-in-github",
        "colab_type": "text"
      },
      "source": [
        "<a href=\"https://colab.research.google.com/github/tigerjk726/Bumjoong/blob/main/Typhoon_modeling_Korea_20221203_6~11_Ver_03.ipynb\" target=\"_parent\"><img src=\"https://colab.research.google.com/assets/colab-badge.svg\" alt=\"Open In Colab\"/></a>"
      ]
    },
    {
      "cell_type": "markdown",
      "metadata": {
        "id": "2QbgU6cUum01"
      },
      "source": [
        "# IMPORT DATA"
      ]
    },
    {
      "cell_type": "code",
      "execution_count": 1,
      "metadata": {
        "colab": {
          "base_uri": "https://localhost:8080/"
        },
        "id": "CpbByZRippYp",
        "outputId": "4b4f7eb2-336e-4aff-fe75-1a9f1ff476a7"
      },
      "outputs": [
        {
          "output_type": "stream",
          "name": "stdout",
          "text": [
            "Drive already mounted at /content/drive; to attempt to forcibly remount, call drive.mount(\"/content/drive\", force_remount=True).\n"
          ]
        }
      ],
      "source": [
        "import tensorflow as tf\n",
        "from google.colab import drive\n",
        "drive.mount('/content/drive')             "
      ]
    },
    {
      "cell_type": "code",
      "execution_count": 2,
      "metadata": {
        "colab": {
          "base_uri": "https://localhost:8080/"
        },
        "id": "G5TfSj0PfYtT",
        "outputId": "4a2ee1ff-4dd2-4224-b674-152b6cea0a49"
      },
      "outputs": [
        {
          "output_type": "stream",
          "name": "stdout",
          "text": [
            "/content/drive/My Drive/Colab Notebooks/2022.10.10 typhoon\n"
          ]
        }
      ],
      "source": [
        "%cd /content/drive/My Drive/Colab Notebooks/2022.10.10 typhoon"
      ]
    },
    {
      "cell_type": "code",
      "execution_count": 3,
      "metadata": {
        "colab": {
          "base_uri": "https://localhost:8080/",
          "height": 0
        },
        "id": "iVlFBZkefbk2",
        "outputId": "d95007d9-2e95-4c3e-a7f8-6fbc75abdc1b"
      },
      "outputs": [
        {
          "output_type": "execute_result",
          "data": {
            "text/plain": [
              "     year  mon    amo        aao         ao    emi    gmo  nino3  nino4  \\\n",
              "0    1959    1 -0.006  -4368.947 -11420.598  0.812 -0.138 -0.046  0.014   \n",
              "1    1959    2  0.015   5669.410  23909.777  0.455 -0.160 -0.050 -0.230   \n",
              "2    1959    3 -0.081   4402.402  10543.838  0.300 -0.081 -0.117 -0.331   \n",
              "3    1959    4 -0.106  26736.894    862.876  0.430 -0.108 -0.104 -0.184   \n",
              "4    1959    5 -0.146  15129.227  -1731.295  0.471 -0.153 -0.362 -0.241   \n",
              "..    ...  ...    ...        ...        ...    ...    ...    ...    ...   \n",
              "751  2021    8  0.170  -1268.185    766.893 -0.376  0.348 -0.421 -0.241   \n",
              "752  2021    9  0.261 -16800.218   -650.241 -0.435  0.404 -0.410 -0.469   \n",
              "753  2021   10  0.291 -11055.364    262.031 -0.570  0.431 -0.707 -0.631   \n",
              "754  2021   11  0.276 -21354.890    930.126 -0.466  0.397 -0.942 -0.600   \n",
              "755  2021   12  0.178 -23364.964   4517.414 -0.164  0.352 -1.192 -0.661   \n",
              "\n",
              "       pdo    pna     qbo  freq  inten  \n",
              "0    1.266 -0.973 -27.747     0      0  \n",
              "1    0.711 -0.870 -26.219     0      0  \n",
              "2    0.204  0.654 -20.962     0      0  \n",
              "3    0.301 -0.349 -11.294     0      0  \n",
              "4    0.313 -0.602   4.960     0      0  \n",
              "..     ...    ...     ...   ...    ...  \n",
              "751 -0.832 -0.014 -10.350     1     26  \n",
              "752 -1.794 -0.074 -13.822     1     55  \n",
              "753 -2.565 -0.313 -17.170     0      0  \n",
              "754 -2.215  0.650 -19.507     0      0  \n",
              "755 -2.103 -2.663 -22.080     0      0  \n",
              "\n",
              "[756 rows x 14 columns]"
            ],
            "text/html": [
              "\n",
              "  <div id=\"df-47666895-30fa-4fa1-84c8-9ffb55200b5f\">\n",
              "    <div class=\"colab-df-container\">\n",
              "      <div>\n",
              "<style scoped>\n",
              "    .dataframe tbody tr th:only-of-type {\n",
              "        vertical-align: middle;\n",
              "    }\n",
              "\n",
              "    .dataframe tbody tr th {\n",
              "        vertical-align: top;\n",
              "    }\n",
              "\n",
              "    .dataframe thead th {\n",
              "        text-align: right;\n",
              "    }\n",
              "</style>\n",
              "<table border=\"1\" class=\"dataframe\">\n",
              "  <thead>\n",
              "    <tr style=\"text-align: right;\">\n",
              "      <th></th>\n",
              "      <th>year</th>\n",
              "      <th>mon</th>\n",
              "      <th>amo</th>\n",
              "      <th>aao</th>\n",
              "      <th>ao</th>\n",
              "      <th>emi</th>\n",
              "      <th>gmo</th>\n",
              "      <th>nino3</th>\n",
              "      <th>nino4</th>\n",
              "      <th>pdo</th>\n",
              "      <th>pna</th>\n",
              "      <th>qbo</th>\n",
              "      <th>freq</th>\n",
              "      <th>inten</th>\n",
              "    </tr>\n",
              "  </thead>\n",
              "  <tbody>\n",
              "    <tr>\n",
              "      <th>0</th>\n",
              "      <td>1959</td>\n",
              "      <td>1</td>\n",
              "      <td>-0.006</td>\n",
              "      <td>-4368.947</td>\n",
              "      <td>-11420.598</td>\n",
              "      <td>0.812</td>\n",
              "      <td>-0.138</td>\n",
              "      <td>-0.046</td>\n",
              "      <td>0.014</td>\n",
              "      <td>1.266</td>\n",
              "      <td>-0.973</td>\n",
              "      <td>-27.747</td>\n",
              "      <td>0</td>\n",
              "      <td>0</td>\n",
              "    </tr>\n",
              "    <tr>\n",
              "      <th>1</th>\n",
              "      <td>1959</td>\n",
              "      <td>2</td>\n",
              "      <td>0.015</td>\n",
              "      <td>5669.410</td>\n",
              "      <td>23909.777</td>\n",
              "      <td>0.455</td>\n",
              "      <td>-0.160</td>\n",
              "      <td>-0.050</td>\n",
              "      <td>-0.230</td>\n",
              "      <td>0.711</td>\n",
              "      <td>-0.870</td>\n",
              "      <td>-26.219</td>\n",
              "      <td>0</td>\n",
              "      <td>0</td>\n",
              "    </tr>\n",
              "    <tr>\n",
              "      <th>2</th>\n",
              "      <td>1959</td>\n",
              "      <td>3</td>\n",
              "      <td>-0.081</td>\n",
              "      <td>4402.402</td>\n",
              "      <td>10543.838</td>\n",
              "      <td>0.300</td>\n",
              "      <td>-0.081</td>\n",
              "      <td>-0.117</td>\n",
              "      <td>-0.331</td>\n",
              "      <td>0.204</td>\n",
              "      <td>0.654</td>\n",
              "      <td>-20.962</td>\n",
              "      <td>0</td>\n",
              "      <td>0</td>\n",
              "    </tr>\n",
              "    <tr>\n",
              "      <th>3</th>\n",
              "      <td>1959</td>\n",
              "      <td>4</td>\n",
              "      <td>-0.106</td>\n",
              "      <td>26736.894</td>\n",
              "      <td>862.876</td>\n",
              "      <td>0.430</td>\n",
              "      <td>-0.108</td>\n",
              "      <td>-0.104</td>\n",
              "      <td>-0.184</td>\n",
              "      <td>0.301</td>\n",
              "      <td>-0.349</td>\n",
              "      <td>-11.294</td>\n",
              "      <td>0</td>\n",
              "      <td>0</td>\n",
              "    </tr>\n",
              "    <tr>\n",
              "      <th>4</th>\n",
              "      <td>1959</td>\n",
              "      <td>5</td>\n",
              "      <td>-0.146</td>\n",
              "      <td>15129.227</td>\n",
              "      <td>-1731.295</td>\n",
              "      <td>0.471</td>\n",
              "      <td>-0.153</td>\n",
              "      <td>-0.362</td>\n",
              "      <td>-0.241</td>\n",
              "      <td>0.313</td>\n",
              "      <td>-0.602</td>\n",
              "      <td>4.960</td>\n",
              "      <td>0</td>\n",
              "      <td>0</td>\n",
              "    </tr>\n",
              "    <tr>\n",
              "      <th>...</th>\n",
              "      <td>...</td>\n",
              "      <td>...</td>\n",
              "      <td>...</td>\n",
              "      <td>...</td>\n",
              "      <td>...</td>\n",
              "      <td>...</td>\n",
              "      <td>...</td>\n",
              "      <td>...</td>\n",
              "      <td>...</td>\n",
              "      <td>...</td>\n",
              "      <td>...</td>\n",
              "      <td>...</td>\n",
              "      <td>...</td>\n",
              "      <td>...</td>\n",
              "    </tr>\n",
              "    <tr>\n",
              "      <th>751</th>\n",
              "      <td>2021</td>\n",
              "      <td>8</td>\n",
              "      <td>0.170</td>\n",
              "      <td>-1268.185</td>\n",
              "      <td>766.893</td>\n",
              "      <td>-0.376</td>\n",
              "      <td>0.348</td>\n",
              "      <td>-0.421</td>\n",
              "      <td>-0.241</td>\n",
              "      <td>-0.832</td>\n",
              "      <td>-0.014</td>\n",
              "      <td>-10.350</td>\n",
              "      <td>1</td>\n",
              "      <td>26</td>\n",
              "    </tr>\n",
              "    <tr>\n",
              "      <th>752</th>\n",
              "      <td>2021</td>\n",
              "      <td>9</td>\n",
              "      <td>0.261</td>\n",
              "      <td>-16800.218</td>\n",
              "      <td>-650.241</td>\n",
              "      <td>-0.435</td>\n",
              "      <td>0.404</td>\n",
              "      <td>-0.410</td>\n",
              "      <td>-0.469</td>\n",
              "      <td>-1.794</td>\n",
              "      <td>-0.074</td>\n",
              "      <td>-13.822</td>\n",
              "      <td>1</td>\n",
              "      <td>55</td>\n",
              "    </tr>\n",
              "    <tr>\n",
              "      <th>753</th>\n",
              "      <td>2021</td>\n",
              "      <td>10</td>\n",
              "      <td>0.291</td>\n",
              "      <td>-11055.364</td>\n",
              "      <td>262.031</td>\n",
              "      <td>-0.570</td>\n",
              "      <td>0.431</td>\n",
              "      <td>-0.707</td>\n",
              "      <td>-0.631</td>\n",
              "      <td>-2.565</td>\n",
              "      <td>-0.313</td>\n",
              "      <td>-17.170</td>\n",
              "      <td>0</td>\n",
              "      <td>0</td>\n",
              "    </tr>\n",
              "    <tr>\n",
              "      <th>754</th>\n",
              "      <td>2021</td>\n",
              "      <td>11</td>\n",
              "      <td>0.276</td>\n",
              "      <td>-21354.890</td>\n",
              "      <td>930.126</td>\n",
              "      <td>-0.466</td>\n",
              "      <td>0.397</td>\n",
              "      <td>-0.942</td>\n",
              "      <td>-0.600</td>\n",
              "      <td>-2.215</td>\n",
              "      <td>0.650</td>\n",
              "      <td>-19.507</td>\n",
              "      <td>0</td>\n",
              "      <td>0</td>\n",
              "    </tr>\n",
              "    <tr>\n",
              "      <th>755</th>\n",
              "      <td>2021</td>\n",
              "      <td>12</td>\n",
              "      <td>0.178</td>\n",
              "      <td>-23364.964</td>\n",
              "      <td>4517.414</td>\n",
              "      <td>-0.164</td>\n",
              "      <td>0.352</td>\n",
              "      <td>-1.192</td>\n",
              "      <td>-0.661</td>\n",
              "      <td>-2.103</td>\n",
              "      <td>-2.663</td>\n",
              "      <td>-22.080</td>\n",
              "      <td>0</td>\n",
              "      <td>0</td>\n",
              "    </tr>\n",
              "  </tbody>\n",
              "</table>\n",
              "<p>756 rows × 14 columns</p>\n",
              "</div>\n",
              "      <button class=\"colab-df-convert\" onclick=\"convertToInteractive('df-47666895-30fa-4fa1-84c8-9ffb55200b5f')\"\n",
              "              title=\"Convert this dataframe to an interactive table.\"\n",
              "              style=\"display:none;\">\n",
              "        \n",
              "  <svg xmlns=\"http://www.w3.org/2000/svg\" height=\"24px\"viewBox=\"0 0 24 24\"\n",
              "       width=\"24px\">\n",
              "    <path d=\"M0 0h24v24H0V0z\" fill=\"none\"/>\n",
              "    <path d=\"M18.56 5.44l.94 2.06.94-2.06 2.06-.94-2.06-.94-.94-2.06-.94 2.06-2.06.94zm-11 1L8.5 8.5l.94-2.06 2.06-.94-2.06-.94L8.5 2.5l-.94 2.06-2.06.94zm10 10l.94 2.06.94-2.06 2.06-.94-2.06-.94-.94-2.06-.94 2.06-2.06.94z\"/><path d=\"M17.41 7.96l-1.37-1.37c-.4-.4-.92-.59-1.43-.59-.52 0-1.04.2-1.43.59L10.3 9.45l-7.72 7.72c-.78.78-.78 2.05 0 2.83L4 21.41c.39.39.9.59 1.41.59.51 0 1.02-.2 1.41-.59l7.78-7.78 2.81-2.81c.8-.78.8-2.07 0-2.86zM5.41 20L4 18.59l7.72-7.72 1.47 1.35L5.41 20z\"/>\n",
              "  </svg>\n",
              "      </button>\n",
              "      \n",
              "  <style>\n",
              "    .colab-df-container {\n",
              "      display:flex;\n",
              "      flex-wrap:wrap;\n",
              "      gap: 12px;\n",
              "    }\n",
              "\n",
              "    .colab-df-convert {\n",
              "      background-color: #E8F0FE;\n",
              "      border: none;\n",
              "      border-radius: 50%;\n",
              "      cursor: pointer;\n",
              "      display: none;\n",
              "      fill: #1967D2;\n",
              "      height: 32px;\n",
              "      padding: 0 0 0 0;\n",
              "      width: 32px;\n",
              "    }\n",
              "\n",
              "    .colab-df-convert:hover {\n",
              "      background-color: #E2EBFA;\n",
              "      box-shadow: 0px 1px 2px rgba(60, 64, 67, 0.3), 0px 1px 3px 1px rgba(60, 64, 67, 0.15);\n",
              "      fill: #174EA6;\n",
              "    }\n",
              "\n",
              "    [theme=dark] .colab-df-convert {\n",
              "      background-color: #3B4455;\n",
              "      fill: #D2E3FC;\n",
              "    }\n",
              "\n",
              "    [theme=dark] .colab-df-convert:hover {\n",
              "      background-color: #434B5C;\n",
              "      box-shadow: 0px 1px 3px 1px rgba(0, 0, 0, 0.15);\n",
              "      filter: drop-shadow(0px 1px 2px rgba(0, 0, 0, 0.3));\n",
              "      fill: #FFFFFF;\n",
              "    }\n",
              "  </style>\n",
              "\n",
              "      <script>\n",
              "        const buttonEl =\n",
              "          document.querySelector('#df-47666895-30fa-4fa1-84c8-9ffb55200b5f button.colab-df-convert');\n",
              "        buttonEl.style.display =\n",
              "          google.colab.kernel.accessAllowed ? 'block' : 'none';\n",
              "\n",
              "        async function convertToInteractive(key) {\n",
              "          const element = document.querySelector('#df-47666895-30fa-4fa1-84c8-9ffb55200b5f');\n",
              "          const dataTable =\n",
              "            await google.colab.kernel.invokeFunction('convertToInteractive',\n",
              "                                                     [key], {});\n",
              "          if (!dataTable) return;\n",
              "\n",
              "          const docLinkHtml = 'Like what you see? Visit the ' +\n",
              "            '<a target=\"_blank\" href=https://colab.research.google.com/notebooks/data_table.ipynb>data table notebook</a>'\n",
              "            + ' to learn more about interactive tables.';\n",
              "          element.innerHTML = '';\n",
              "          dataTable['output_type'] = 'display_data';\n",
              "          await google.colab.output.renderOutput(dataTable, element);\n",
              "          const docLink = document.createElement('div');\n",
              "          docLink.innerHTML = docLinkHtml;\n",
              "          element.appendChild(docLink);\n",
              "        }\n",
              "      </script>\n",
              "    </div>\n",
              "  </div>\n",
              "  "
            ]
          },
          "metadata": {},
          "execution_count": 3
        }
      ],
      "source": [
        "import pandas as pd\n",
        "df = pd.read_csv('19592021korea.csv')\n",
        "df"
      ]
    },
    {
      "cell_type": "markdown",
      "metadata": {
        "id": "5L59jjCpoqfd"
      },
      "source": [
        "1. 학습(Train, test) 데이터셋 (756개)  : X Feature(11개), Y Feature(2개)\n",
        "\n",
        "2. 변수는 'YEAR' 를 제외한  'MON', 'AAO', 'AMO', 'AO', 'EMI', 'GMT', 'NINO3', 'NINO4', 'PDO', 'PNA', 'QBO', 총 11개를 기준\n",
        "\n",
        "3. 한국은 1870년부터 자료가 있으나 결과값이 1959년부터로 1959 ~ 2021까지의 데이터를 기준으로 전처리함\n",
        "\n",
        "4. 모델링 \n",
        " - 1. 한국데이터만 사용\n",
        " - 2. 테스트는 2021년 기준"
      ]
    },
    {
      "cell_type": "markdown",
      "metadata": {
        "id": "lkh5ifR7n-fN"
      },
      "source": [
        "칼럼별 명칭"
      ]
    },
    {
      "cell_type": "code",
      "execution_count": 4,
      "metadata": {
        "id": "1jXmkD1v-_vh"
      },
      "outputs": [],
      "source": [
        "import pandas as pd\n",
        "import numpy as np\n",
        "import matplotlib.pyplot as plt\n",
        "import seaborn as sns\n",
        "import plotly.express as px\n",
        "from scipy.stats import norm\n",
        "from sklearn.preprocessing import StandardScaler\n",
        "from scipy import stats\n",
        "import warnings\n",
        "warnings.filterwarnings('ignore')\n",
        "%matplotlib inline"
      ]
    },
    {
      "cell_type": "code",
      "execution_count": 5,
      "metadata": {
        "colab": {
          "base_uri": "https://localhost:8080/"
        },
        "id": "glKsDQFEf1Xf",
        "outputId": "8e01458a-9512-4aba-84ef-171fbcf970c1"
      },
      "outputs": [
        {
          "output_type": "execute_result",
          "data": {
            "text/plain": [
              "Index(['year', 'mon', 'amo', 'aao', 'ao', 'emi', 'gmo', 'nino3', 'nino4',\n",
              "       'pdo', 'pna', 'qbo', 'freq', 'inten'],\n",
              "      dtype='object')"
            ]
          },
          "metadata": {},
          "execution_count": 5
        }
      ],
      "source": [
        "df.columns"
      ]
    },
    {
      "cell_type": "code",
      "execution_count": 6,
      "metadata": {
        "id": "IDEtbxCG0ckv",
        "colab": {
          "base_uri": "https://localhost:8080/"
        },
        "outputId": "d5c7cacf-34d7-4756-ee43-2e4f11df9b46"
      },
      "outputs": [
        {
          "output_type": "execute_result",
          "data": {
            "text/plain": [
              "count    756.000000\n",
              "mean       0.230159\n",
              "std        0.582245\n",
              "min        0.000000\n",
              "25%        0.000000\n",
              "50%        0.000000\n",
              "75%        0.000000\n",
              "max        6.000000\n",
              "Name: freq, dtype: float64"
            ]
          },
          "metadata": {},
          "execution_count": 6
        }
      ],
      "source": [
        "df['freq'].describe()"
      ]
    },
    {
      "cell_type": "code",
      "execution_count": 7,
      "metadata": {
        "id": "HDVrffu90zaD",
        "colab": {
          "base_uri": "https://localhost:8080/"
        },
        "outputId": "b2acb4f1-89e1-4c71-ca54-6ce51d8dc108"
      },
      "outputs": [
        {
          "output_type": "execute_result",
          "data": {
            "text/plain": [
              "count    756.000000\n",
              "mean      10.341270\n",
              "std       24.244067\n",
              "min        0.000000\n",
              "25%        0.000000\n",
              "50%        0.000000\n",
              "75%        0.000000\n",
              "max      120.000000\n",
              "Name: inten, dtype: float64"
            ]
          },
          "metadata": {},
          "execution_count": 7
        }
      ],
      "source": [
        "df['inten'].describe()"
      ]
    },
    {
      "cell_type": "code",
      "execution_count": 8,
      "metadata": {
        "colab": {
          "base_uri": "https://localhost:8080/"
        },
        "id": "WdDoa2YsykPb",
        "outputId": "c60a506d-33a9-46dc-e0cb-8013ddc67f93"
      },
      "outputs": [
        {
          "output_type": "stream",
          "name": "stdout",
          "text": [
            "<class 'pandas.core.frame.DataFrame'>\n",
            "RangeIndex: 756 entries, 0 to 755\n",
            "Data columns (total 14 columns):\n",
            " #   Column  Non-Null Count  Dtype  \n",
            "---  ------  --------------  -----  \n",
            " 0   year    756 non-null    int64  \n",
            " 1   mon     756 non-null    int64  \n",
            " 2   amo     756 non-null    float64\n",
            " 3   aao     756 non-null    float64\n",
            " 4   ao      756 non-null    float64\n",
            " 5   emi     756 non-null    float64\n",
            " 6   gmo     756 non-null    float64\n",
            " 7   nino3   756 non-null    float64\n",
            " 8   nino4   756 non-null    float64\n",
            " 9   pdo     756 non-null    float64\n",
            " 10  pna     756 non-null    float64\n",
            " 11  qbo     756 non-null    float64\n",
            " 12  freq    756 non-null    int64  \n",
            " 13  inten   756 non-null    int64  \n",
            "dtypes: float64(10), int64(4)\n",
            "memory usage: 82.8 KB\n"
          ]
        }
      ],
      "source": [
        "df.info()"
      ]
    },
    {
      "cell_type": "code",
      "source": [
        "sns.distplot(df['freq'])"
      ],
      "metadata": {
        "colab": {
          "base_uri": "https://localhost:8080/",
          "height": 0
        },
        "id": "OxiKB7ZRZxwW",
        "outputId": "0b0baabf-0cdd-494b-83c5-4067b3bb10f3"
      },
      "execution_count": 9,
      "outputs": [
        {
          "output_type": "execute_result",
          "data": {
            "text/plain": [
              "<matplotlib.axes._subplots.AxesSubplot at 0x7f923dfdb640>"
            ]
          },
          "metadata": {},
          "execution_count": 9
        },
        {
          "output_type": "display_data",
          "data": {
            "text/plain": [
              "<Figure size 432x288 with 1 Axes>"
            ],
            "image/png": "[encoded data removed]"
          },
          "metadata": {
            "needs_background": "light"
          }
        }
      ]
    },
    {
      "cell_type": "code",
      "source": [
        "sns.distplot(df['inten'])"
      ],
      "metadata": {
        "colab": {
          "base_uri": "https://localhost:8080/",
          "height": 0
        },
        "id": "KSYWOd_uZ2Zv",
        "outputId": "de3cae4b-04dc-48cd-b482-83e10e31523e"
      },
      "execution_count": 10,
      "outputs": [
        {
          "output_type": "execute_result",
          "data": {
            "text/plain": [
              "<matplotlib.axes._subplots.AxesSubplot at 0x7f923dfbee20>"
            ]
          },
          "metadata": {},
          "execution_count": 10
        },
        {
          "output_type": "display_data",
          "data": {
            "text/plain": [
              "<Figure size 432x288 with 1 Axes>"
            ],
            "image/png": "[encoded data removed]"
          },
          "metadata": {
            "needs_background": "light"
          }
        }
      ]
    },
    {
      "cell_type": "code",
      "source": [
        "var = 'year'\n",
        "data = pd.concat([df['freq'], df[var]], axis=1)\n",
        "f, ax = plt.subplots(figsize=(32, 4))\n",
        "fig = sns.boxplot(x=var, y=\"freq\", data=data)\n",
        "fig.axis(ymin=0, ymax=8);\n",
        "plt.xticks(rotation=45);\n"
      ],
      "metadata": {
        "colab": {
          "base_uri": "https://localhost:8080/",
          "height": 0
        },
        "id": "n5Umg6lRaW4u",
        "outputId": "1ce98cec-c612-4a06-9c83-c7b0775fc158"
      },
      "execution_count": 11,
      "outputs": [
        {
          "output_type": "display_data",
          "data": {
            "text/plain": [
              "<Figure size 2304x288 with 1 Axes>"
            ],
            "image/png": "[encoded data removed]"
          },
          "metadata": {
            "needs_background": "light"
          }
        }
      ]
    },
    {
      "cell_type": "code",
      "source": [
        "var = 'year'\n",
        "data = pd.concat([df['inten'], df[var]], axis=1)\n",
        "f, ax = plt.subplots(figsize=(32, 4))\n",
        "fig = sns.boxplot(x=var, y=\"inten\", data=data)\n",
        "fig.axis(ymin=0, ymax=120);\n",
        "plt.xticks(rotation=45);"
      ],
      "metadata": {
        "colab": {
          "base_uri": "https://localhost:8080/",
          "height": 0
        },
        "id": "eGwcGLzVbo_s",
        "outputId": "33fe9cd0-a772-4d59-d945-93527cdd1c0c"
      },
      "execution_count": 12,
      "outputs": [
        {
          "output_type": "display_data",
          "data": {
            "text/plain": [
              "<Figure size 2304x288 with 1 Axes>"
            ],
            "image/png": "[encoded data removed]"
          },
          "metadata": {
            "needs_background": "light"
          }
        }
      ]
    },
    {
      "cell_type": "markdown",
      "metadata": {
        "id": "63_4Em4Gv863"
      },
      "source": [
        "# Data Splitting\n"
      ]
    },
    {
      "cell_type": "code",
      "source": [
        "df = df[df[\"mon\"].isin([6,7,8,9,10,11])]"
      ],
      "metadata": {
        "id": "4KnBDqrQd49x"
      },
      "execution_count": 13,
      "outputs": []
    },
    {
      "cell_type": "code",
      "source": [
        "train = df[df[\"year\"].isin(list(range(1959,2014,1)))]\n",
        "train"
      ],
      "metadata": {
        "colab": {
          "base_uri": "https://localhost:8080/",
          "height": 424
        },
        "id": "SN7SPnPLeJYi",
        "outputId": "8703b0fb-3e47-41eb-c425-c8ae76e2a453"
      },
      "execution_count": 14,
      "outputs": [
        {
          "output_type": "execute_result",
          "data": {
            "text/plain": [
              "     year  mon    amo        aao         ao    emi    gmo  nino3  nino4  \\\n",
              "5    1959    6 -0.083   2899.151   -623.744  0.275 -0.138 -0.507 -0.434   \n",
              "6    1959    7 -0.130   4616.751   2605.754  0.100 -0.153 -0.786 -0.594   \n",
              "7    1959    8 -0.022  19427.269  -3600.671  0.335 -0.172 -0.790 -0.504   \n",
              "8    1959    9  0.028  -9673.271  -1280.071  0.208 -0.244 -0.666 -0.530   \n",
              "9    1959   10 -0.055   6261.660  -1149.088  0.143 -0.184 -0.414 -0.429   \n",
              "..    ...  ...    ...        ...        ...    ...    ...    ...    ...   \n",
              "654  2013    7  0.063 -13125.939    742.789  0.145  0.111 -0.665 -0.215   \n",
              "655  2013    8  0.065  11294.890   1330.301  0.130  0.193 -0.616 -0.157   \n",
              "656  2013    9  0.150  19588.922  -3508.145  0.021  0.266 -0.326 -0.105   \n",
              "657  2013   10  0.270   2850.287   2629.953  0.185  0.204 -0.202 -0.045   \n",
              "658  2013   11  0.038  -3840.093  14217.371  0.171  0.265 -0.199  0.031   \n",
              "\n",
              "       pdo    pna     qbo  freq  inten  \n",
              "5    0.306 -0.096  15.227     0      0  \n",
              "6   -0.011  0.081  19.241     1     50  \n",
              "7    0.050 -1.743  18.082     1     83  \n",
              "8   -0.126 -0.583  19.050     2     74  \n",
              "9    1.107  0.277  21.443     0      0  \n",
              "..     ...    ...     ...   ...    ...  \n",
              "654 -1.131  0.211  25.441     0      0  \n",
              "655 -1.189  0.167  23.671     1     30  \n",
              "656 -0.628  0.116  21.955     0      0  \n",
              "657 -1.090 -0.143  19.818     1     95  \n",
              "658 -0.839 -0.680  19.315     0      0  \n",
              "\n",
              "[330 rows x 14 columns]"
            ],
            "text/html": [
              "\n",
              "  <div id=\"df-765ac2ee-d9cf-4ed1-b81f-98af56c68148\">\n",
              "    <div class=\"colab-df-container\">\n",
              "      <div>\n",
              "<style scoped>\n",
              "    .dataframe tbody tr th:only-of-type {\n",
              "        vertical-align: middle;\n",
              "    }\n",
              "\n",
              "    .dataframe tbody tr th {\n",
              "        vertical-align: top;\n",
              "    }\n",
              "\n",
              "    .dataframe thead th {\n",
              "        text-align: right;\n",
              "    }\n",
              "</style>\n",
              "<table border=\"1\" class=\"dataframe\">\n",
              "  <thead>\n",
              "    <tr style=\"text-align: right;\">\n",
              "      <th></th>\n",
              "      <th>year</th>\n",
              "      <th>mon</th>\n",
              "      <th>amo</th>\n",
              "      <th>aao</th>\n",
              "      <th>ao</th>\n",
              "      <th>emi</th>\n",
              "      <th>gmo</th>\n",
              "      <th>nino3</th>\n",
              "      <th>nino4</th>\n",
              "      <th>pdo</th>\n",
              "      <th>pna</th>\n",
              "      <th>qbo</th>\n",
              "      <th>freq</th>\n",
              "      <th>inten</th>\n",
              "    </tr>\n",
              "  </thead>\n",
              "  <tbody>\n",
              "    <tr>\n",
              "      <th>5</th>\n",
              "      <td>1959</td>\n",
              "      <td>6</td>\n",
              "      <td>-0.083</td>\n",
              "      <td>2899.151</td>\n",
              "      <td>-623.744</td>\n",
              "      <td>0.275</td>\n",
              "      <td>-0.138</td>\n",
              "      <td>-0.507</td>\n",
              "      <td>-0.434</td>\n",
              "      <td>0.306</td>\n",
              "      <td>-0.096</td>\n",
              "      <td>15.227</td>\n",
              "      <td>0</td>\n",
              "      <td>0</td>\n",
              "    </tr>\n",
              "    <tr>\n",
              "      <th>6</th>\n",
              "      <td>1959</td>\n",
              "      <td>7</td>\n",
              "      <td>-0.130</td>\n",
              "      <td>4616.751</td>\n",
              "      <td>2605.754</td>\n",
              "      <td>0.100</td>\n",
              "      <td>-0.153</td>\n",
              "      <td>-0.786</td>\n",
              "      <td>-0.594</td>\n",
              "      <td>-0.011</td>\n",
              "      <td>0.081</td>\n",
              "      <td>19.241</td>\n",
              "      <td>1</td>\n",
              "      <td>50</td>\n",
              "    </tr>\n",
              "    <tr>\n",
              "      <th>7</th>\n",
              "      <td>1959</td>\n",
              "      <td>8</td>\n",
              "      <td>-0.022</td>\n",
              "      <td>19427.269</td>\n",
              "      <td>-3600.671</td>\n",
              "      <td>0.335</td>\n",
              "      <td>-0.172</td>\n",
              "      <td>-0.790</td>\n",
              "      <td>-0.504</td>\n",
              "      <td>0.050</td>\n",
              "      <td>-1.743</td>\n",
              "      <td>18.082</td>\n",
              "      <td>1</td>\n",
              "      <td>83</td>\n",
              "    </tr>\n",
              "    <tr>\n",
              "      <th>8</th>\n",
              "      <td>1959</td>\n",
              "      <td>9</td>\n",
              "      <td>0.028</td>\n",
              "      <td>-9673.271</td>\n",
              "      <td>-1280.071</td>\n",
              "      <td>0.208</td>\n",
              "      <td>-0.244</td>\n",
              "      <td>-0.666</td>\n",
              "      <td>-0.530</td>\n",
              "      <td>-0.126</td>\n",
              "      <td>-0.583</td>\n",
              "      <td>19.050</td>\n",
              "      <td>2</td>\n",
              "      <td>74</td>\n",
              "    </tr>\n",
              "    <tr>\n",
              "      <th>9</th>\n",
              "      <td>1959</td>\n",
              "      <td>10</td>\n",
              "      <td>-0.055</td>\n",
              "      <td>6261.660</td>\n",
              "      <td>-1149.088</td>\n",
              "      <td>0.143</td>\n",
              "      <td>-0.184</td>\n",
              "      <td>-0.414</td>\n",
              "      <td>-0.429</td>\n",
              "      <td>1.107</td>\n",
              "      <td>0.277</td>\n",
              "      <td>21.443</td>\n",
              "      <td>0</td>\n",
              "      <td>0</td>\n",
              "    </tr>\n",
              "    <tr>\n",
              "      <th>...</th>\n",
              "      <td>...</td>\n",
              "      <td>...</td>\n",
              "      <td>...</td>\n",
              "      <td>...</td>\n",
              "      <td>...</td>\n",
              "      <td>...</td>\n",
              "      <td>...</td>\n",
              "      <td>...</td>\n",
              "      <td>...</td>\n",
              "      <td>...</td>\n",
              "      <td>...</td>\n",
              "      <td>...</td>\n",
              "      <td>...</td>\n",
              "      <td>...</td>\n",
              "    </tr>\n",
              "    <tr>\n",
              "      <th>654</th>\n",
              "      <td>2013</td>\n",
              "      <td>7</td>\n",
              "      <td>0.063</td>\n",
              "      <td>-13125.939</td>\n",
              "      <td>742.789</td>\n",
              "      <td>0.145</td>\n",
              "      <td>0.111</td>\n",
              "      <td>-0.665</td>\n",
              "      <td>-0.215</td>\n",
              "      <td>-1.131</td>\n",
              "      <td>0.211</td>\n",
              "      <td>25.441</td>\n",
              "      <td>0</td>\n",
              "      <td>0</td>\n",
              "    </tr>\n",
              "    <tr>\n",
              "      <th>655</th>\n",
              "      <td>2013</td>\n",
              "      <td>8</td>\n",
              "      <td>0.065</td>\n",
              "      <td>11294.890</td>\n",
              "      <td>1330.301</td>\n",
              "      <td>0.130</td>\n",
              "      <td>0.193</td>\n",
              "      <td>-0.616</td>\n",
              "      <td>-0.157</td>\n",
              "      <td>-1.189</td>\n",
              "      <td>0.167</td>\n",
              "      <td>23.671</td>\n",
              "      <td>1</td>\n",
              "      <td>30</td>\n",
              "    </tr>\n",
              "    <tr>\n",
              "      <th>656</th>\n",
              "      <td>2013</td>\n",
              "      <td>9</td>\n",
              "      <td>0.150</td>\n",
              "      <td>19588.922</td>\n",
              "      <td>-3508.145</td>\n",
              "      <td>0.021</td>\n",
              "      <td>0.266</td>\n",
              "      <td>-0.326</td>\n",
              "      <td>-0.105</td>\n",
              "      <td>-0.628</td>\n",
              "      <td>0.116</td>\n",
              "      <td>21.955</td>\n",
              "      <td>0</td>\n",
              "      <td>0</td>\n",
              "    </tr>\n",
              "    <tr>\n",
              "      <th>657</th>\n",
              "      <td>2013</td>\n",
              "      <td>10</td>\n",
              "      <td>0.270</td>\n",
              "      <td>2850.287</td>\n",
              "      <td>2629.953</td>\n",
              "      <td>0.185</td>\n",
              "      <td>0.204</td>\n",
              "      <td>-0.202</td>\n",
              "      <td>-0.045</td>\n",
              "      <td>-1.090</td>\n",
              "      <td>-0.143</td>\n",
              "      <td>19.818</td>\n",
              "      <td>1</td>\n",
              "      <td>95</td>\n",
              "    </tr>\n",
              "    <tr>\n",
              "      <th>658</th>\n",
              "      <td>2013</td>\n",
              "      <td>11</td>\n",
              "      <td>0.038</td>\n",
              "      <td>-3840.093</td>\n",
              "      <td>14217.371</td>\n",
              "      <td>0.171</td>\n",
              "      <td>0.265</td>\n",
              "      <td>-0.199</td>\n",
              "      <td>0.031</td>\n",
              "      <td>-0.839</td>\n",
              "      <td>-0.680</td>\n",
              "      <td>19.315</td>\n",
              "      <td>0</td>\n",
              "      <td>0</td>\n",
              "    </tr>\n",
              "  </tbody>\n",
              "</table>\n",
              "<p>330 rows × 14 columns</p>\n",
              "</div>\n",
              "      <button class=\"colab-df-convert\" onclick=\"convertToInteractive('df-765ac2ee-d9cf-4ed1-b81f-98af56c68148')\"\n",
              "              title=\"Convert this dataframe to an interactive table.\"\n",
              "              style=\"display:none;\">\n",
              "        \n",
              "  <svg xmlns=\"http://www.w3.org/2000/svg\" height=\"24px\"viewBox=\"0 0 24 24\"\n",
              "       width=\"24px\">\n",
              "    <path d=\"M0 0h24v24H0V0z\" fill=\"none\"/>\n",
              "    <path d=\"M18.56 5.44l.94 2.06.94-2.06 2.06-.94-2.06-.94-.94-2.06-.94 2.06-2.06.94zm-11 1L8.5 8.5l.94-2.06 2.06-.94-2.06-.94L8.5 2.5l-.94 2.06-2.06.94zm10 10l.94 2.06.94-2.06 2.06-.94-2.06-.94-.94-2.06-.94 2.06-2.06.94z\"/><path d=\"M17.41 7.96l-1.37-1.37c-.4-.4-.92-.59-1.43-.59-.52 0-1.04.2-1.43.59L10.3 9.45l-7.72 7.72c-.78.78-.78 2.05 0 2.83L4 21.41c.39.39.9.59 1.41.59.51 0 1.02-.2 1.41-.59l7.78-7.78 2.81-2.81c.8-.78.8-2.07 0-2.86zM5.41 20L4 18.59l7.72-7.72 1.47 1.35L5.41 20z\"/>\n",
              "  </svg>\n",
              "      </button>\n",
              "      \n",
              "  <style>\n",
              "    .colab-df-container {\n",
              "      display:flex;\n",
              "      flex-wrap:wrap;\n",
              "      gap: 12px;\n",
              "    }\n",
              "\n",
              "    .colab-df-convert {\n",
              "      background-color: #E8F0FE;\n",
              "      border: none;\n",
              "      border-radius: 50%;\n",
              "      cursor: pointer;\n",
              "      display: none;\n",
              "      fill: #1967D2;\n",
              "      height: 32px;\n",
              "      padding: 0 0 0 0;\n",
              "      width: 32px;\n",
              "    }\n",
              "\n",
              "    .colab-df-convert:hover {\n",
              "      background-color: #E2EBFA;\n",
              "      box-shadow: 0px 1px 2px rgba(60, 64, 67, 0.3), 0px 1px 3px 1px rgba(60, 64, 67, 0.15);\n",
              "      fill: #174EA6;\n",
              "    }\n",
              "\n",
              "    [theme=dark] .colab-df-convert {\n",
              "      background-color: #3B4455;\n",
              "      fill: #D2E3FC;\n",
              "    }\n",
              "\n",
              "    [theme=dark] .colab-df-convert:hover {\n",
              "      background-color: #434B5C;\n",
              "      box-shadow: 0px 1px 3px 1px rgba(0, 0, 0, 0.15);\n",
              "      filter: drop-shadow(0px 1px 2px rgba(0, 0, 0, 0.3));\n",
              "      fill: #FFFFFF;\n",
              "    }\n",
              "  </style>\n",
              "\n",
              "      <script>\n",
              "        const buttonEl =\n",
              "          document.querySelector('#df-765ac2ee-d9cf-4ed1-b81f-98af56c68148 button.colab-df-convert');\n",
              "        buttonEl.style.display =\n",
              "          google.colab.kernel.accessAllowed ? 'block' : 'none';\n",
              "\n",
              "        async function convertToInteractive(key) {\n",
              "          const element = document.querySelector('#df-765ac2ee-d9cf-4ed1-b81f-98af56c68148');\n",
              "          const dataTable =\n",
              "            await google.colab.kernel.invokeFunction('convertToInteractive',\n",
              "                                                     [key], {});\n",
              "          if (!dataTable) return;\n",
              "\n",
              "          const docLinkHtml = 'Like what you see? Visit the ' +\n",
              "            '<a target=\"_blank\" href=https://colab.research.google.com/notebooks/data_table.ipynb>data table notebook</a>'\n",
              "            + ' to learn more about interactive tables.';\n",
              "          element.innerHTML = '';\n",
              "          dataTable['output_type'] = 'display_data';\n",
              "          await google.colab.output.renderOutput(dataTable, element);\n",
              "          const docLink = document.createElement('div');\n",
              "          docLink.innerHTML = docLinkHtml;\n",
              "          element.appendChild(docLink);\n",
              "        }\n",
              "      </script>\n",
              "    </div>\n",
              "  </div>\n",
              "  "
            ]
          },
          "metadata": {},
          "execution_count": 14
        }
      ]
    },
    {
      "cell_type": "code",
      "source": [
        "test = df[df[\"year\"].isin([2015,2016,2017,2018,2019,2020,2021])]\n",
        "test"
      ],
      "metadata": {
        "colab": {
          "base_uri": "https://localhost:8080/",
          "height": 1000
        },
        "id": "358-k74cdXh1",
        "outputId": "ff9ab850-5bb6-4b46-abc0-f37f6248f815"
      },
      "execution_count": 15,
      "outputs": [
        {
          "output_type": "execute_result",
          "data": {
            "text/plain": [
              "     year  mon    amo        aao         ao    emi    gmo  nino3  nino4  \\\n",
              "677  2015    6 -0.301  -4881.335   2117.451  0.081  0.241  1.334  0.832   \n",
              "678  2015    7 -0.298 -19013.072  -7180.162  0.093  0.219  1.714  0.791   \n",
              "679  2015    8 -0.218 -11149.100  -4162.624  0.257  0.307  1.930  0.883   \n",
              "680  2015    9 -0.070   7617.823  -1593.603  0.080  0.338  2.324  0.953   \n",
              "681  2015   10 -0.149   8278.162  -2399.029  0.210  0.462  2.443  0.977   \n",
              "682  2015   11 -0.265  -8587.062  15358.227  0.357  0.418  2.636  1.315   \n",
              "689  2016    6 -0.027 -29226.408   2066.744 -0.154  0.299 -0.011  0.382   \n",
              "690  2016    7  0.014    -61.726   1450.235 -0.256  0.356 -0.461  0.165   \n",
              "691  2016    8  0.157  11831.443   3957.715 -0.385  0.398 -0.414 -0.024   \n",
              "692  2016    9  0.088 -25293.612   6389.186 -0.619  0.369 -0.186 -0.201   \n",
              "693  2016   10 -0.012   3069.158 -12860.067 -0.651  0.383 -0.461 -0.362   \n",
              "694  2016   11  0.108  14020.814  -4405.300 -0.600  0.431 -0.497 -0.374   \n",
              "701  2017    6  0.061  -5500.249   2100.840  0.092  0.266  0.067  0.329   \n",
              "702  2017    7  0.089 -12606.698   5627.873  0.003  0.295  0.059  0.276   \n",
              "703  2017    8  0.153 -13628.146   1421.902 -0.194  0.340 -0.204  0.104   \n",
              "704  2017    9  0.199 -14315.106  -3633.297 -0.118  0.331 -0.630 -0.014   \n",
              "705  2017   10  0.157   7312.914   6623.373 -0.185  0.387 -0.642 -0.157   \n",
              "706  2017   11  0.256  -9061.727     27.117 -0.129  0.345 -0.958 -0.336   \n",
              "713  2018    6 -0.345  -1749.018   2026.209  0.304  0.283 -0.019  0.255   \n",
              "714  2018    7 -0.201  -3471.989   6094.473  0.280  0.286  0.101  0.238   \n",
              "715  2018    8 -0.047  -5515.001   7096.305  0.420  0.275 -0.045  0.438   \n",
              "716  2018    9 -0.049 -13279.542   4123.635  0.482  0.294  0.327  0.561   \n",
              "717  2018   10 -0.219   1415.393   3170.440  0.541  0.415  0.679  0.901   \n",
              "718  2018   11 -0.342 -15462.055  -8316.105  0.373  0.313  0.809  0.867   \n",
              "725  2019    6 -0.089 -13739.018  -4455.999  0.444  0.364  0.218  0.590   \n",
              "726  2019    7  0.027    210.125  -5892.624  0.729  0.385 -0.045  0.736   \n",
              "727  2019    8  0.119  17988.347  -5018.752  0.778  0.367 -0.246  0.641   \n",
              "728  2019    9  0.057   2771.053   2926.685  0.744  0.394 -0.203  0.563   \n",
              "729  2019   10 -0.077  10848.884    514.994  0.727  0.488  0.144  0.718   \n",
              "730  2019   11 -0.112  12199.790  -8829.006  0.609  0.447  0.309  0.709   \n",
              "737  2020    6  0.062 -10920.847  -1143.018  0.181  0.367 -0.599  0.156   \n",
              "738  2020    7  0.180  13366.147  -2349.840  0.101  0.354 -0.525  0.041   \n",
              "739  2020    8  0.263   8954.542  -1599.950 -0.229  0.320 -0.558 -0.237   \n",
              "740  2020    9  0.135   4960.132   4138.498 -0.207  0.435 -0.918 -0.463   \n",
              "741  2020   10  0.129 -10689.321    662.580 -0.377  0.416 -1.043 -0.695   \n",
              "742  2020   11  0.026 -13940.175  16778.709 -0.441  0.519 -1.136 -0.792   \n",
              "749  2021    6  0.019 -20189.570   5769.699 -0.041  0.274 -0.321 -0.131   \n",
              "750  2021    7  0.083  -5085.878   6431.609 -0.241  0.331 -0.306 -0.203   \n",
              "751  2021    8  0.170  -1268.185    766.893 -0.376  0.348 -0.421 -0.241   \n",
              "752  2021    9  0.261 -16800.218   -650.241 -0.435  0.404 -0.410 -0.469   \n",
              "753  2021   10  0.291 -11055.364    262.031 -0.570  0.431 -0.707 -0.631   \n",
              "754  2021   11  0.276 -21354.890    930.126 -0.466  0.397 -0.942 -0.600   \n",
              "\n",
              "       pdo    pna     qbo  freq  inten  \n",
              "677  0.613  0.389  15.380     0      0  \n",
              "678  1.142  0.185  22.278     1     46  \n",
              "679  0.897 -0.426  23.283     1    101  \n",
              "680  1.048 -0.554  23.171     0      0  \n",
              "681  0.856  1.299  22.111     0      0  \n",
              "682  0.140 -0.451  19.873     0      0  \n",
              "689  0.612 -0.438  17.134     0      0  \n",
              "690  0.379 -0.507  22.093     0      0  \n",
              "691 -0.148  0.308  23.762     0      0  \n",
              "692 -0.474 -0.182  23.507     1     46  \n",
              "693 -0.441 -0.075  23.312     1     98  \n",
              "694  0.641  0.814  23.589     0      0  \n",
              "701  0.251  0.593  -2.353     0      0  \n",
              "702 -0.333  0.076  -9.151     1     57  \n",
              "703 -0.252  0.688 -11.684     0      0  \n",
              "704  0.089  0.745 -13.007     0      0  \n",
              "705 -0.400 -0.736 -15.403     0      0  \n",
              "706 -0.423 -1.055 -17.271     0      0  \n",
              "713 -0.651  0.044 -23.345     0      0  \n",
              "714  0.012  0.220 -24.265     2     57  \n",
              "715  0.027 -0.589 -18.096     2     62  \n",
              "716 -0.156 -1.225  -5.114     0      0  \n",
              "717 -0.535  0.184   7.811     1     63  \n",
              "718 -0.564  0.612  17.667     0      0  \n",
              "725 -0.060 -0.021  23.157     0      0  \n",
              "726  0.348  0.240  21.672     1     40  \n",
              "727 -0.009  0.234  18.851     2     54  \n",
              "728 -0.022 -0.618  15.897     2     80  \n",
              "729 -0.744 -0.597  14.342     1     45  \n",
              "730 -0.385  0.290  10.786     0      0  \n",
              "737 -0.874  0.101  12.184     0      0  \n",
              "738 -1.102 -0.342  19.156     0      0  \n",
              "739 -1.413 -0.156  20.514     2     67  \n",
              "740 -1.137  0.402  20.357     2     92  \n",
              "741 -0.612 -0.943  19.270     0      0  \n",
              "742 -1.451 -0.402  18.811     0      0  \n",
              "749 -1.636  0.744  -3.581     0      0  \n",
              "750 -1.532  0.326  -9.695     0      0  \n",
              "751 -0.832 -0.014 -10.350     1     26  \n",
              "752 -1.794 -0.074 -13.822     1     55  \n",
              "753 -2.565 -0.313 -17.170     0      0  \n",
              "754 -2.215  0.650 -19.507     0      0  "
            ],
            "text/html": [
              "\n",
              "  <div id=\"df-41d15008-a17f-4ae5-96b2-6061b4b9127a\">\n",
              "    <div class=\"colab-df-container\">\n",
              "      <div>\n",
              "<style scoped>\n",
              "    .dataframe tbody tr th:only-of-type {\n",
              "        vertical-align: middle;\n",
              "    }\n",
              "\n",
              "    .dataframe tbody tr th {\n",
              "        vertical-align: top;\n",
              "    }\n",
              "\n",
              "    .dataframe thead th {\n",
              "        text-align: right;\n",
              "    }\n",
              "</style>\n",
              "<table border=\"1\" class=\"dataframe\">\n",
              "  <thead>\n",
              "    <tr style=\"text-align: right;\">\n",
              "      <th></th>\n",
              "      <th>year</th>\n",
              "      <th>mon</th>\n",
              "      <th>amo</th>\n",
              "      <th>aao</th>\n",
              "      <th>ao</th>\n",
              "      <th>emi</th>\n",
              "      <th>gmo</th>\n",
              "      <th>nino3</th>\n",
              "      <th>nino4</th>\n",
              "      <th>pdo</th>\n",
              "      <th>pna</th>\n",
              "      <th>qbo</th>\n",
              "      <th>freq</th>\n",
              "      <th>inten</th>\n",
              "    </tr>\n",
              "  </thead>\n",
              "  <tbody>\n",
              "    <tr>\n",
              "      <th>677</th>\n",
              "      <td>2015</td>\n",
              "      <td>6</td>\n",
              "      <td>-0.301</td>\n",
              "      <td>-4881.335</td>\n",
              "      <td>2117.451</td>\n",
              "      <td>0.081</td>\n",
              "      <td>0.241</td>\n",
              "      <td>1.334</td>\n",
              "      <td>0.832</td>\n",
              "      <td>0.613</td>\n",
              "      <td>0.389</td>\n",
              "      <td>15.380</td>\n",
              "      <td>0</td>\n",
              "      <td>0</td>\n",
              "    </tr>\n",
              "    <tr>\n",
              "      <th>678</th>\n",
              "      <td>2015</td>\n",
              "      <td>7</td>\n",
              "      <td>-0.298</td>\n",
              "      <td>-19013.072</td>\n",
              "      <td>-7180.162</td>\n",
              "      <td>0.093</td>\n",
              "      <td>0.219</td>\n",
              "      <td>1.714</td>\n",
              "      <td>0.791</td>\n",
              "      <td>1.142</td>\n",
              "      <td>0.185</td>\n",
              "      <td>22.278</td>\n",
              "      <td>1</td>\n",
              "      <td>46</td>\n",
              "    </tr>\n",
              "    <tr>\n",
              "      <th>679</th>\n",
              "      <td>2015</td>\n",
              "      <td>8</td>\n",
              "      <td>-0.218</td>\n",
              "      <td>-11149.100</td>\n",
              "      <td>-4162.624</td>\n",
              "      <td>0.257</td>\n",
              "      <td>0.307</td>\n",
              "      <td>1.930</td>\n",
              "      <td>0.883</td>\n",
              "      <td>0.897</td>\n",
              "      <td>-0.426</td>\n",
              "      <td>23.283</td>\n",
              "      <td>1</td>\n",
              "      <td>101</td>\n",
              "    </tr>\n",
              "    <tr>\n",
              "      <th>680</th>\n",
              "      <td>2015</td>\n",
              "      <td>9</td>\n",
              "      <td>-0.070</td>\n",
              "      <td>7617.823</td>\n",
              "      <td>-1593.603</td>\n",
              "      <td>0.080</td>\n",
              "      <td>0.338</td>\n",
              "      <td>2.324</td>\n",
              "      <td>0.953</td>\n",
              "      <td>1.048</td>\n",
              "      <td>-0.554</td>\n",
              "      <td>23.171</td>\n",
              "      <td>0</td>\n",
              "      <td>0</td>\n",
              "    </tr>\n",
              "    <tr>\n",
              "      <th>681</th>\n",
              "      <td>2015</td>\n",
              "      <td>10</td>\n",
              "      <td>-0.149</td>\n",
              "      <td>8278.162</td>\n",
              "      <td>-2399.029</td>\n",
              "      <td>0.210</td>\n",
              "      <td>0.462</td>\n",
              "      <td>2.443</td>\n",
              "      <td>0.977</td>\n",
              "      <td>0.856</td>\n",
              "      <td>1.299</td>\n",
              "      <td>22.111</td>\n",
              "      <td>0</td>\n",
              "      <td>0</td>\n",
              "    </tr>\n",
              "    <tr>\n",
              "      <th>682</th>\n",
              "      <td>2015</td>\n",
              "      <td>11</td>\n",
              "      <td>-0.265</td>\n",
              "      <td>-8587.062</td>\n",
              "      <td>15358.227</td>\n",
              "      <td>0.357</td>\n",
              "      <td>0.418</td>\n",
              "      <td>2.636</td>\n",
              "      <td>1.315</td>\n",
              "      <td>0.140</td>\n",
              "      <td>-0.451</td>\n",
              "      <td>19.873</td>\n",
              "      <td>0</td>\n",
              "      <td>0</td>\n",
              "    </tr>\n",
              "    <tr>\n",
              "      <th>689</th>\n",
              "      <td>2016</td>\n",
              "      <td>6</td>\n",
              "      <td>-0.027</td>\n",
              "      <td>-29226.408</td>\n",
              "      <td>2066.744</td>\n",
              "      <td>-0.154</td>\n",
              "      <td>0.299</td>\n",
              "      <td>-0.011</td>\n",
              "      <td>0.382</td>\n",
              "      <td>0.612</td>\n",
              "      <td>-0.438</td>\n",
              "      <td>17.134</td>\n",
              "      <td>0</td>\n",
              "      <td>0</td>\n",
              "    </tr>\n",
              "    <tr>\n",
              "      <th>690</th>\n",
              "      <td>2016</td>\n",
              "      <td>7</td>\n",
              "      <td>0.014</td>\n",
              "      <td>-61.726</td>\n",
              "      <td>1450.235</td>\n",
              "      <td>-0.256</td>\n",
              "      <td>0.356</td>\n",
              "      <td>-0.461</td>\n",
              "      <td>0.165</td>\n",
              "      <td>0.379</td>\n",
              "      <td>-0.507</td>\n",
              "      <td>22.093</td>\n",
              "      <td>0</td>\n",
              "      <td>0</td>\n",
              "    </tr>\n",
              "    <tr>\n",
              "      <th>691</th>\n",
              "      <td>2016</td>\n",
              "      <td>8</td>\n",
              "      <td>0.157</td>\n",
              "      <td>11831.443</td>\n",
              "      <td>3957.715</td>\n",
              "      <td>-0.385</td>\n",
              "      <td>0.398</td>\n",
              "      <td>-0.414</td>\n",
              "      <td>-0.024</td>\n",
              "      <td>-0.148</td>\n",
              "      <td>0.308</td>\n",
              "      <td>23.762</td>\n",
              "      <td>0</td>\n",
              "      <td>0</td>\n",
              "    </tr>\n",
              "    <tr>\n",
              "      <th>692</th>\n",
              "      <td>2016</td>\n",
              "      <td>9</td>\n",
              "      <td>0.088</td>\n",
              "      <td>-25293.612</td>\n",
              "      <td>6389.186</td>\n",
              "      <td>-0.619</td>\n",
              "      <td>0.369</td>\n",
              "      <td>-0.186</td>\n",
              "      <td>-0.201</td>\n",
              "      <td>-0.474</td>\n",
              "      <td>-0.182</td>\n",
              "      <td>23.507</td>\n",
              "      <td>1</td>\n",
              "      <td>46</td>\n",
              "    </tr>\n",
              "    <tr>\n",
              "      <th>693</th>\n",
              "      <td>2016</td>\n",
              "      <td>10</td>\n",
              "      <td>-0.012</td>\n",
              "      <td>3069.158</td>\n",
              "      <td>-12860.067</td>\n",
              "      <td>-0.651</td>\n",
              "      <td>0.383</td>\n",
              "      <td>-0.461</td>\n",
              "      <td>-0.362</td>\n",
              "      <td>-0.441</td>\n",
              "      <td>-0.075</td>\n",
              "      <td>23.312</td>\n",
              "      <td>1</td>\n",
              "      <td>98</td>\n",
              "    </tr>\n",
              "    <tr>\n",
              "      <th>694</th>\n",
              "      <td>2016</td>\n",
              "      <td>11</td>\n",
              "      <td>0.108</td>\n",
              "      <td>14020.814</td>\n",
              "      <td>-4405.300</td>\n",
              "      <td>-0.600</td>\n",
              "      <td>0.431</td>\n",
              "      <td>-0.497</td>\n",
              "      <td>-0.374</td>\n",
              "      <td>0.641</td>\n",
              "      <td>0.814</td>\n",
              "      <td>23.589</td>\n",
              "      <td>0</td>\n",
              "      <td>0</td>\n",
              "    </tr>\n",
              "    <tr>\n",
              "      <th>701</th>\n",
              "      <td>2017</td>\n",
              "      <td>6</td>\n",
              "      <td>0.061</td>\n",
              "      <td>-5500.249</td>\n",
              "      <td>2100.840</td>\n",
              "      <td>0.092</td>\n",
              "      <td>0.266</td>\n",
              "      <td>0.067</td>\n",
              "      <td>0.329</td>\n",
              "      <td>0.251</td>\n",
              "      <td>0.593</td>\n",
              "      <td>-2.353</td>\n",
              "      <td>0</td>\n",
              "      <td>0</td>\n",
              "    </tr>\n",
              "    <tr>\n",
              "      <th>702</th>\n",
              "      <td>2017</td>\n",
              "      <td>7</td>\n",
              "      <td>0.089</td>\n",
              "      <td>-12606.698</td>\n",
              "      <td>5627.873</td>\n",
              "      <td>0.003</td>\n",
              "      <td>0.295</td>\n",
              "      <td>0.059</td>\n",
              "      <td>0.276</td>\n",
              "      <td>-0.333</td>\n",
              "      <td>0.076</td>\n",
              "      <td>-9.151</td>\n",
              "      <td>1</td>\n",
              "      <td>57</td>\n",
              "    </tr>\n",
              "    <tr>\n",
              "      <th>703</th>\n",
              "      <td>2017</td>\n",
              "      <td>8</td>\n",
              "      <td>0.153</td>\n",
              "      <td>-13628.146</td>\n",
              "      <td>1421.902</td>\n",
              "      <td>-0.194</td>\n",
              "      <td>0.340</td>\n",
              "      <td>-0.204</td>\n",
              "      <td>0.104</td>\n",
              "      <td>-0.252</td>\n",
              "      <td>0.688</td>\n",
              "      <td>-11.684</td>\n",
              "      <td>0</td>\n",
              "      <td>0</td>\n",
              "    </tr>\n",
              "    <tr>\n",
              "      <th>704</th>\n",
              "      <td>2017</td>\n",
              "      <td>9</td>\n",
              "      <td>0.199</td>\n",
              "      <td>-14315.106</td>\n",
              "      <td>-3633.297</td>\n",
              "      <td>-0.118</td>\n",
              "      <td>0.331</td>\n",
              "      <td>-0.630</td>\n",
              "      <td>-0.014</td>\n",
              "      <td>0.089</td>\n",
              "      <td>0.745</td>\n",
              "      <td>-13.007</td>\n",
              "      <td>0</td>\n",
              "      <td>0</td>\n",
              "    </tr>\n",
              "    <tr>\n",
              "      <th>705</th>\n",
              "      <td>2017</td>\n",
              "      <td>10</td>\n",
              "      <td>0.157</td>\n",
              "      <td>7312.914</td>\n",
              "      <td>6623.373</td>\n",
              "      <td>-0.185</td>\n",
              "      <td>0.387</td>\n",
              "      <td>-0.642</td>\n",
              "      <td>-0.157</td>\n",
              "      <td>-0.400</td>\n",
              "      <td>-0.736</td>\n",
              "      <td>-15.403</td>\n",
              "      <td>0</td>\n",
              "      <td>0</td>\n",
              "    </tr>\n",
              "    <tr>\n",
              "      <th>706</th>\n",
              "      <td>2017</td>\n",
              "      <td>11</td>\n",
              "      <td>0.256</td>\n",
              "      <td>-9061.727</td>\n",
              "      <td>27.117</td>\n",
              "      <td>-0.129</td>\n",
              "      <td>0.345</td>\n",
              "      <td>-0.958</td>\n",
              "      <td>-0.336</td>\n",
              "      <td>-0.423</td>\n",
              "      <td>-1.055</td>\n",
              "      <td>-17.271</td>\n",
              "      <td>0</td>\n",
              "      <td>0</td>\n",
              "    </tr>\n",
              "    <tr>\n",
              "      <th>713</th>\n",
              "      <td>2018</td>\n",
              "      <td>6</td>\n",
              "      <td>-0.345</td>\n",
              "      <td>-1749.018</td>\n",
              "      <td>2026.209</td>\n",
              "      <td>0.304</td>\n",
              "      <td>0.283</td>\n",
              "      <td>-0.019</td>\n",
              "      <td>0.255</td>\n",
              "      <td>-0.651</td>\n",
              "      <td>0.044</td>\n",
              "      <td>-23.345</td>\n",
              "      <td>0</td>\n",
              "      <td>0</td>\n",
              "    </tr>\n",
              "    <tr>\n",
              "      <th>714</th>\n",
              "      <td>2018</td>\n",
              "      <td>7</td>\n",
              "      <td>-0.201</td>\n",
              "      <td>-3471.989</td>\n",
              "      <td>6094.473</td>\n",
              "      <td>0.280</td>\n",
              "      <td>0.286</td>\n",
              "      <td>0.101</td>\n",
              "      <td>0.238</td>\n",
              "      <td>0.012</td>\n",
              "      <td>0.220</td>\n",
              "      <td>-24.265</td>\n",
              "      <td>2</td>\n",
              "      <td>57</td>\n",
              "    </tr>\n",
              "    <tr>\n",
              "      <th>715</th>\n",
              "      <td>2018</td>\n",
              "      <td>8</td>\n",
              "      <td>-0.047</td>\n",
              "      <td>-5515.001</td>\n",
              "      <td>7096.305</td>\n",
              "      <td>0.420</td>\n",
              "      <td>0.275</td>\n",
              "      <td>-0.045</td>\n",
              "      <td>0.438</td>\n",
              "      <td>0.027</td>\n",
              "      <td>-0.589</td>\n",
              "      <td>-18.096</td>\n",
              "      <td>2</td>\n",
              "      <td>62</td>\n",
              "    </tr>\n",
              "    <tr>\n",
              "      <th>716</th>\n",
              "      <td>2018</td>\n",
              "      <td>9</td>\n",
              "      <td>-0.049</td>\n",
              "      <td>-13279.542</td>\n",
              "      <td>4123.635</td>\n",
              "      <td>0.482</td>\n",
              "      <td>0.294</td>\n",
              "      <td>0.327</td>\n",
              "      <td>0.561</td>\n",
              "      <td>-0.156</td>\n",
              "      <td>-1.225</td>\n",
              "      <td>-5.114</td>\n",
              "      <td>0</td>\n",
              "      <td>0</td>\n",
              "    </tr>\n",
              "    <tr>\n",
              "      <th>717</th>\n",
              "      <td>2018</td>\n",
              "      <td>10</td>\n",
              "      <td>-0.219</td>\n",
              "      <td>1415.393</td>\n",
              "      <td>3170.440</td>\n",
              "      <td>0.541</td>\n",
              "      <td>0.415</td>\n",
              "      <td>0.679</td>\n",
              "      <td>0.901</td>\n",
              "      <td>-0.535</td>\n",
              "      <td>0.184</td>\n",
              "      <td>7.811</td>\n",
              "      <td>1</td>\n",
              "      <td>63</td>\n",
              "    </tr>\n",
              "    <tr>\n",
              "      <th>718</th>\n",
              "      <td>2018</td>\n",
              "      <td>11</td>\n",
              "      <td>-0.342</td>\n",
              "      <td>-15462.055</td>\n",
              "      <td>-8316.105</td>\n",
              "      <td>0.373</td>\n",
              "      <td>0.313</td>\n",
              "      <td>0.809</td>\n",
              "      <td>0.867</td>\n",
              "      <td>-0.564</td>\n",
              "      <td>0.612</td>\n",
              "      <td>17.667</td>\n",
              "      <td>0</td>\n",
              "      <td>0</td>\n",
              "    </tr>\n",
              "    <tr>\n",
              "      <th>725</th>\n",
              "      <td>2019</td>\n",
              "      <td>6</td>\n",
              "      <td>-0.089</td>\n",
              "      <td>-13739.018</td>\n",
              "      <td>-4455.999</td>\n",
              "      <td>0.444</td>\n",
              "      <td>0.364</td>\n",
              "      <td>0.218</td>\n",
              "      <td>0.590</td>\n",
              "      <td>-0.060</td>\n",
              "      <td>-0.021</td>\n",
              "      <td>23.157</td>\n",
              "      <td>0</td>\n",
              "      <td>0</td>\n",
              "    </tr>\n",
              "    <tr>\n",
              "      <th>726</th>\n",
              "      <td>2019</td>\n",
              "      <td>7</td>\n",
              "      <td>0.027</td>\n",
              "      <td>210.125</td>\n",
              "      <td>-5892.624</td>\n",
              "      <td>0.729</td>\n",
              "      <td>0.385</td>\n",
              "      <td>-0.045</td>\n",
              "      <td>0.736</td>\n",
              "      <td>0.348</td>\n",
              "      <td>0.240</td>\n",
              "      <td>21.672</td>\n",
              "      <td>1</td>\n",
              "      <td>40</td>\n",
              "    </tr>\n",
              "    <tr>\n",
              "      <th>727</th>\n",
              "      <td>2019</td>\n",
              "      <td>8</td>\n",
              "      <td>0.119</td>\n",
              "      <td>17988.347</td>\n",
              "      <td>-5018.752</td>\n",
              "      <td>0.778</td>\n",
              "      <td>0.367</td>\n",
              "      <td>-0.246</td>\n",
              "      <td>0.641</td>\n",
              "      <td>-0.009</td>\n",
              "      <td>0.234</td>\n",
              "      <td>18.851</td>\n",
              "      <td>2</td>\n",
              "      <td>54</td>\n",
              "    </tr>\n",
              "    <tr>\n",
              "      <th>728</th>\n",
              "      <td>2019</td>\n",
              "      <td>9</td>\n",
              "      <td>0.057</td>\n",
              "      <td>2771.053</td>\n",
              "      <td>2926.685</td>\n",
              "      <td>0.744</td>\n",
              "      <td>0.394</td>\n",
              "      <td>-0.203</td>\n",
              "      <td>0.563</td>\n",
              "      <td>-0.022</td>\n",
              "      <td>-0.618</td>\n",
              "      <td>15.897</td>\n",
              "      <td>2</td>\n",
              "      <td>80</td>\n",
              "    </tr>\n",
              "    <tr>\n",
              "      <th>729</th>\n",
              "      <td>2019</td>\n",
              "      <td>10</td>\n",
              "      <td>-0.077</td>\n",
              "      <td>10848.884</td>\n",
              "      <td>514.994</td>\n",
              "      <td>0.727</td>\n",
              "      <td>0.488</td>\n",
              "      <td>0.144</td>\n",
              "      <td>0.718</td>\n",
              "      <td>-0.744</td>\n",
              "      <td>-0.597</td>\n",
              "      <td>14.342</td>\n",
              "      <td>1</td>\n",
              "      <td>45</td>\n",
              "    </tr>\n",
              "    <tr>\n",
              "      <th>730</th>\n",
              "      <td>2019</td>\n",
              "      <td>11</td>\n",
              "      <td>-0.112</td>\n",
              "      <td>12199.790</td>\n",
              "      <td>-8829.006</td>\n",
              "      <td>0.609</td>\n",
              "      <td>0.447</td>\n",
              "      <td>0.309</td>\n",
              "      <td>0.709</td>\n",
              "      <td>-0.385</td>\n",
              "      <td>0.290</td>\n",
              "      <td>10.786</td>\n",
              "      <td>0</td>\n",
              "      <td>0</td>\n",
              "    </tr>\n",
              "    <tr>\n",
              "      <th>737</th>\n",
              "      <td>2020</td>\n",
              "      <td>6</td>\n",
              "      <td>0.062</td>\n",
              "      <td>-10920.847</td>\n",
              "      <td>-1143.018</td>\n",
              "      <td>0.181</td>\n",
              "      <td>0.367</td>\n",
              "      <td>-0.599</td>\n",
              "      <td>0.156</td>\n",
              "      <td>-0.874</td>\n",
              "      <td>0.101</td>\n",
              "      <td>12.184</td>\n",
              "      <td>0</td>\n",
              "      <td>0</td>\n",
              "    </tr>\n",
              "    <tr>\n",
              "      <th>738</th>\n",
              "      <td>2020</td>\n",
              "      <td>7</td>\n",
              "      <td>0.180</td>\n",
              "      <td>13366.147</td>\n",
              "      <td>-2349.840</td>\n",
              "      <td>0.101</td>\n",
              "      <td>0.354</td>\n",
              "      <td>-0.525</td>\n",
              "      <td>0.041</td>\n",
              "      <td>-1.102</td>\n",
              "      <td>-0.342</td>\n",
              "      <td>19.156</td>\n",
              "      <td>0</td>\n",
              "      <td>0</td>\n",
              "    </tr>\n",
              "    <tr>\n",
              "      <th>739</th>\n",
              "      <td>2020</td>\n",
              "      <td>8</td>\n",
              "      <td>0.263</td>\n",
              "      <td>8954.542</td>\n",
              "      <td>-1599.950</td>\n",
              "      <td>-0.229</td>\n",
              "      <td>0.320</td>\n",
              "      <td>-0.558</td>\n",
              "      <td>-0.237</td>\n",
              "      <td>-1.413</td>\n",
              "      <td>-0.156</td>\n",
              "      <td>20.514</td>\n",
              "      <td>2</td>\n",
              "      <td>67</td>\n",
              "    </tr>\n",
              "    <tr>\n",
              "      <th>740</th>\n",
              "      <td>2020</td>\n",
              "      <td>9</td>\n",
              "      <td>0.135</td>\n",
              "      <td>4960.132</td>\n",
              "      <td>4138.498</td>\n",
              "      <td>-0.207</td>\n",
              "      <td>0.435</td>\n",
              "      <td>-0.918</td>\n",
              "      <td>-0.463</td>\n",
              "      <td>-1.137</td>\n",
              "      <td>0.402</td>\n",
              "      <td>20.357</td>\n",
              "      <td>2</td>\n",
              "      <td>92</td>\n",
              "    </tr>\n",
              "    <tr>\n",
              "      <th>741</th>\n",
              "      <td>2020</td>\n",
              "      <td>10</td>\n",
              "      <td>0.129</td>\n",
              "      <td>-10689.321</td>\n",
              "      <td>662.580</td>\n",
              "      <td>-0.377</td>\n",
              "      <td>0.416</td>\n",
              "      <td>-1.043</td>\n",
              "      <td>-0.695</td>\n",
              "      <td>-0.612</td>\n",
              "      <td>-0.943</td>\n",
              "      <td>19.270</td>\n",
              "      <td>0</td>\n",
              "      <td>0</td>\n",
              "    </tr>\n",
              "    <tr>\n",
              "      <th>742</th>\n",
              "      <td>2020</td>\n",
              "      <td>11</td>\n",
              "      <td>0.026</td>\n",
              "      <td>-13940.175</td>\n",
              "      <td>16778.709</td>\n",
              "      <td>-0.441</td>\n",
              "      <td>0.519</td>\n",
              "      <td>-1.136</td>\n",
              "      <td>-0.792</td>\n",
              "      <td>-1.451</td>\n",
              "      <td>-0.402</td>\n",
              "      <td>18.811</td>\n",
              "      <td>0</td>\n",
              "      <td>0</td>\n",
              "    </tr>\n",
              "    <tr>\n",
              "      <th>749</th>\n",
              "      <td>2021</td>\n",
              "      <td>6</td>\n",
              "      <td>0.019</td>\n",
              "      <td>-20189.570</td>\n",
              "      <td>5769.699</td>\n",
              "      <td>-0.041</td>\n",
              "      <td>0.274</td>\n",
              "      <td>-0.321</td>\n",
              "      <td>-0.131</td>\n",
              "      <td>-1.636</td>\n",
              "      <td>0.744</td>\n",
              "      <td>-3.581</td>\n",
              "      <td>0</td>\n",
              "      <td>0</td>\n",
              "    </tr>\n",
              "    <tr>\n",
              "      <th>750</th>\n",
              "      <td>2021</td>\n",
              "      <td>7</td>\n",
              "      <td>0.083</td>\n",
              "      <td>-5085.878</td>\n",
              "      <td>6431.609</td>\n",
              "      <td>-0.241</td>\n",
              "      <td>0.331</td>\n",
              "      <td>-0.306</td>\n",
              "      <td>-0.203</td>\n",
              "      <td>-1.532</td>\n",
              "      <td>0.326</td>\n",
              "      <td>-9.695</td>\n",
              "      <td>0</td>\n",
              "      <td>0</td>\n",
              "    </tr>\n",
              "    <tr>\n",
              "      <th>751</th>\n",
              "      <td>2021</td>\n",
              "      <td>8</td>\n",
              "      <td>0.170</td>\n",
              "      <td>-1268.185</td>\n",
              "      <td>766.893</td>\n",
              "      <td>-0.376</td>\n",
              "      <td>0.348</td>\n",
              "      <td>-0.421</td>\n",
              "      <td>-0.241</td>\n",
              "      <td>-0.832</td>\n",
              "      <td>-0.014</td>\n",
              "      <td>-10.350</td>\n",
              "      <td>1</td>\n",
              "      <td>26</td>\n",
              "    </tr>\n",
              "    <tr>\n",
              "      <th>752</th>\n",
              "      <td>2021</td>\n",
              "      <td>9</td>\n",
              "      <td>0.261</td>\n",
              "      <td>-16800.218</td>\n",
              "      <td>-650.241</td>\n",
              "      <td>-0.435</td>\n",
              "      <td>0.404</td>\n",
              "      <td>-0.410</td>\n",
              "      <td>-0.469</td>\n",
              "      <td>-1.794</td>\n",
              "      <td>-0.074</td>\n",
              "      <td>-13.822</td>\n",
              "      <td>1</td>\n",
              "      <td>55</td>\n",
              "    </tr>\n",
              "    <tr>\n",
              "      <th>753</th>\n",
              "      <td>2021</td>\n",
              "      <td>10</td>\n",
              "      <td>0.291</td>\n",
              "      <td>-11055.364</td>\n",
              "      <td>262.031</td>\n",
              "      <td>-0.570</td>\n",
              "      <td>0.431</td>\n",
              "      <td>-0.707</td>\n",
              "      <td>-0.631</td>\n",
              "      <td>-2.565</td>\n",
              "      <td>-0.313</td>\n",
              "      <td>-17.170</td>\n",
              "      <td>0</td>\n",
              "      <td>0</td>\n",
              "    </tr>\n",
              "    <tr>\n",
              "      <th>754</th>\n",
              "      <td>2021</td>\n",
              "      <td>11</td>\n",
              "      <td>0.276</td>\n",
              "      <td>-21354.890</td>\n",
              "      <td>930.126</td>\n",
              "      <td>-0.466</td>\n",
              "      <td>0.397</td>\n",
              "      <td>-0.942</td>\n",
              "      <td>-0.600</td>\n",
              "      <td>-2.215</td>\n",
              "      <td>0.650</td>\n",
              "      <td>-19.507</td>\n",
              "      <td>0</td>\n",
              "      <td>0</td>\n",
              "    </tr>\n",
              "  </tbody>\n",
              "</table>\n",
              "</div>\n",
              "      <button class=\"colab-df-convert\" onclick=\"convertToInteractive('df-41d15008-a17f-4ae5-96b2-6061b4b9127a')\"\n",
              "              title=\"Convert this dataframe to an interactive table.\"\n",
              "              style=\"display:none;\">\n",
              "        \n",
              "  <svg xmlns=\"http://www.w3.org/2000/svg\" height=\"24px\"viewBox=\"0 0 24 24\"\n",
              "       width=\"24px\">\n",
              "    <path d=\"M0 0h24v24H0V0z\" fill=\"none\"/>\n",
              "    <path d=\"M18.56 5.44l.94 2.06.94-2.06 2.06-.94-2.06-.94-.94-2.06-.94 2.06-2.06.94zm-11 1L8.5 8.5l.94-2.06 2.06-.94-2.06-.94L8.5 2.5l-.94 2.06-2.06.94zm10 10l.94 2.06.94-2.06 2.06-.94-2.06-.94-.94-2.06-.94 2.06-2.06.94z\"/><path d=\"M17.41 7.96l-1.37-1.37c-.4-.4-.92-.59-1.43-.59-.52 0-1.04.2-1.43.59L10.3 9.45l-7.72 7.72c-.78.78-.78 2.05 0 2.83L4 21.41c.39.39.9.59 1.41.59.51 0 1.02-.2 1.41-.59l7.78-7.78 2.81-2.81c.8-.78.8-2.07 0-2.86zM5.41 20L4 18.59l7.72-7.72 1.47 1.35L5.41 20z\"/>\n",
              "  </svg>\n",
              "      </button>\n",
              "      \n",
              "  <style>\n",
              "    .colab-df-container {\n",
              "      display:flex;\n",
              "      flex-wrap:wrap;\n",
              "      gap: 12px;\n",
              "    }\n",
              "\n",
              "    .colab-df-convert {\n",
              "      background-color: #E8F0FE;\n",
              "      border: none;\n",
              "      border-radius: 50%;\n",
              "      cursor: pointer;\n",
              "      display: none;\n",
              "      fill: #1967D2;\n",
              "      height: 32px;\n",
              "      padding: 0 0 0 0;\n",
              "      width: 32px;\n",
              "    }\n",
              "\n",
              "    .colab-df-convert:hover {\n",
              "      background-color: #E2EBFA;\n",
              "      box-shadow: 0px 1px 2px rgba(60, 64, 67, 0.3), 0px 1px 3px 1px rgba(60, 64, 67, 0.15);\n",
              "      fill: #174EA6;\n",
              "    }\n",
              "\n",
              "    [theme=dark] .colab-df-convert {\n",
              "      background-color: #3B4455;\n",
              "      fill: #D2E3FC;\n",
              "    }\n",
              "\n",
              "    [theme=dark] .colab-df-convert:hover {\n",
              "      background-color: #434B5C;\n",
              "      box-shadow: 0px 1px 3px 1px rgba(0, 0, 0, 0.15);\n",
              "      filter: drop-shadow(0px 1px 2px rgba(0, 0, 0, 0.3));\n",
              "      fill: #FFFFFF;\n",
              "    }\n",
              "  </style>\n",
              "\n",
              "      <script>\n",
              "        const buttonEl =\n",
              "          document.querySelector('#df-41d15008-a17f-4ae5-96b2-6061b4b9127a button.colab-df-convert');\n",
              "        buttonEl.style.display =\n",
              "          google.colab.kernel.accessAllowed ? 'block' : 'none';\n",
              "\n",
              "        async function convertToInteractive(key) {\n",
              "          const element = document.querySelector('#df-41d15008-a17f-4ae5-96b2-6061b4b9127a');\n",
              "          const dataTable =\n",
              "            await google.colab.kernel.invokeFunction('convertToInteractive',\n",
              "                                                     [key], {});\n",
              "          if (!dataTable) return;\n",
              "\n",
              "          const docLinkHtml = 'Like what you see? Visit the ' +\n",
              "            '<a target=\"_blank\" href=https://colab.research.google.com/notebooks/data_table.ipynb>data table notebook</a>'\n",
              "            + ' to learn more about interactive tables.';\n",
              "          element.innerHTML = '';\n",
              "          dataTable['output_type'] = 'display_data';\n",
              "          await google.colab.output.renderOutput(dataTable, element);\n",
              "          const docLink = document.createElement('div');\n",
              "          docLink.innerHTML = docLinkHtml;\n",
              "          element.appendChild(docLink);\n",
              "        }\n",
              "      </script>\n",
              "    </div>\n",
              "  </div>\n",
              "  "
            ]
          },
          "metadata": {},
          "execution_count": 15
        }
      ]
    },
    {
      "cell_type": "code",
      "execution_count": 16,
      "metadata": {
        "id": "twU6qwFEHhP5",
        "colab": {
          "base_uri": "https://localhost:8080/"
        },
        "outputId": "71448c5e-74da-4065-fed4-583816e2a146"
      },
      "outputs": [
        {
          "output_type": "execute_result",
          "data": {
            "text/plain": [
              "(     freq\n",
              " 5       0\n",
              " 6       1\n",
              " 7       1\n",
              " 8       2\n",
              " 9       0\n",
              " ..    ...\n",
              " 654     0\n",
              " 655     1\n",
              " 656     0\n",
              " 657     1\n",
              " 658     0\n",
              " \n",
              " [330 rows x 1 columns],      inten\n",
              " 5        0\n",
              " 6       50\n",
              " 7       83\n",
              " 8       74\n",
              " 9        0\n",
              " ..     ...\n",
              " 654      0\n",
              " 655     30\n",
              " 656      0\n",
              " 657     95\n",
              " 658      0\n",
              " \n",
              " [330 rows x 1 columns])"
            ]
          },
          "metadata": {},
          "execution_count": 16
        }
      ],
      "source": [
        "x = train.iloc[:,1:12]\n",
        "y1 = train.iloc[:,12:13]\n",
        "y2 = train.iloc[:,13:]\n",
        "y1, y2"
      ]
    },
    {
      "cell_type": "code",
      "source": [
        "X = test.iloc[:,1:12]\n",
        "Y1 = test.iloc[:,12:13]\n",
        "Y2 = test.iloc[:,13:]\n",
        "Y1, Y2"
      ],
      "metadata": {
        "id": "mTaJJZHRLLSh",
        "colab": {
          "base_uri": "https://localhost:8080/"
        },
        "outputId": "fd1d4223-f951-4283-86c4-86e1c373863d"
      },
      "execution_count": 17,
      "outputs": [
        {
          "output_type": "execute_result",
          "data": {
            "text/plain": [
              "(     freq\n",
              " 677     0\n",
              " 678     1\n",
              " 679     1\n",
              " 680     0\n",
              " 681     0\n",
              " 682     0\n",
              " 689     0\n",
              " 690     0\n",
              " 691     0\n",
              " 692     1\n",
              " 693     1\n",
              " 694     0\n",
              " 701     0\n",
              " 702     1\n",
              " 703     0\n",
              " 704     0\n",
              " 705     0\n",
              " 706     0\n",
              " 713     0\n",
              " 714     2\n",
              " 715     2\n",
              " 716     0\n",
              " 717     1\n",
              " 718     0\n",
              " 725     0\n",
              " 726     1\n",
              " 727     2\n",
              " 728     2\n",
              " 729     1\n",
              " 730     0\n",
              " 737     0\n",
              " 738     0\n",
              " 739     2\n",
              " 740     2\n",
              " 741     0\n",
              " 742     0\n",
              " 749     0\n",
              " 750     0\n",
              " 751     1\n",
              " 752     1\n",
              " 753     0\n",
              " 754     0,      inten\n",
              " 677      0\n",
              " 678     46\n",
              " 679    101\n",
              " 680      0\n",
              " 681      0\n",
              " 682      0\n",
              " 689      0\n",
              " 690      0\n",
              " 691      0\n",
              " 692     46\n",
              " 693     98\n",
              " 694      0\n",
              " 701      0\n",
              " 702     57\n",
              " 703      0\n",
              " 704      0\n",
              " 705      0\n",
              " 706      0\n",
              " 713      0\n",
              " 714     57\n",
              " 715     62\n",
              " 716      0\n",
              " 717     63\n",
              " 718      0\n",
              " 725      0\n",
              " 726     40\n",
              " 727     54\n",
              " 728     80\n",
              " 729     45\n",
              " 730      0\n",
              " 737      0\n",
              " 738      0\n",
              " 739     67\n",
              " 740     92\n",
              " 741      0\n",
              " 742      0\n",
              " 749      0\n",
              " 750      0\n",
              " 751     26\n",
              " 752     55\n",
              " 753      0\n",
              " 754      0)"
            ]
          },
          "metadata": {},
          "execution_count": 17
        }
      ]
    },
    {
      "cell_type": "markdown",
      "source": [
        "#Modelling\n"
      ],
      "metadata": {
        "id": "mtBffH8_Lz3c"
      }
    },
    {
      "cell_type": "code",
      "source": [
        "from sklearn.linear_model import ElasticNet, Lasso,  BayesianRidge, LassoLarsIC\n",
        "from sklearn.ensemble import RandomForestRegressor,  GradientBoostingRegressor\n",
        "from sklearn.kernel_ridge import KernelRidge\n",
        "from sklearn.pipeline import make_pipeline\n",
        "from sklearn.preprocessing import RobustScaler\n",
        "from sklearn.base import BaseEstimator, TransformerMixin, RegressorMixin, clone\n",
        "from sklearn.model_selection import KFold, cross_val_score, train_test_split\n",
        "from sklearn.metrics import mean_squared_error\n",
        "import xgboost as xgb\n",
        "import lightgbm as lgb"
      ],
      "metadata": {
        "id": "7Q0I-B2sL13v"
      },
      "execution_count": 18,
      "outputs": []
    },
    {
      "cell_type": "code",
      "source": [
        "#Validation function\n",
        "n_folds = 5\n",
        "\n",
        "def rmsle_cv(model):\n",
        "    kf = KFold(n_folds, shuffle=True, random_state=42).get_n_splits(train.values)\n",
        "    rmse= np.sqrt(-cross_val_score(model, x.values, y1, scoring=\"neg_mean_squared_error\", cv = kf))\n",
        "    return(rmse)"
      ],
      "metadata": {
        "id": "-YmAWRThL3wV"
      },
      "execution_count": 19,
      "outputs": []
    },
    {
      "cell_type": "markdown",
      "source": [
        "## LASSO Regression :\n",
        "This model may be very sensitive to outliers. So we need to made it more robust on them. For that we use the sklearn's Robustscaler() method on pipeline"
      ],
      "metadata": {
        "id": "wyAlOApFQSWK"
      }
    },
    {
      "cell_type": "code",
      "source": [
        "lasso = make_pipeline(RobustScaler(), Lasso(alpha =0.0005, random_state=1))"
      ],
      "metadata": {
        "id": "_4x3USysQI6M"
      },
      "execution_count": 20,
      "outputs": []
    },
    {
      "cell_type": "markdown",
      "source": [
        "## Elastic Net Regression :\n",
        "again made robust to outliers"
      ],
      "metadata": {
        "id": "ZeBEWEBlQXmt"
      }
    },
    {
      "cell_type": "code",
      "source": [
        "ENet = make_pipeline(RobustScaler(), ElasticNet(alpha=0.0005, l1_ratio=.9, random_state=3))"
      ],
      "metadata": {
        "id": "IspafoCZQVaf"
      },
      "execution_count": 21,
      "outputs": []
    },
    {
      "cell_type": "markdown",
      "source": [
        "## Kernel Ridge Regression :\n"
      ],
      "metadata": {
        "id": "5qjhChPlQbRa"
      }
    },
    {
      "cell_type": "code",
      "source": [
        "KRR = KernelRidge(alpha=0.6, kernel='polynomial', degree=2, coef0=2.5)\n"
      ],
      "metadata": {
        "id": "mV1B0spJQc6M"
      },
      "execution_count": 22,
      "outputs": []
    },
    {
      "cell_type": "markdown",
      "source": [
        "## Gradient Boosting Regression :\n",
        "With huber loss that makes it robust to outliers"
      ],
      "metadata": {
        "id": "Tpw4jmW5QfHm"
      }
    },
    {
      "cell_type": "code",
      "source": [
        "GBoost = GradientBoostingRegressor(n_estimators=3000, learning_rate=0.05,\n",
        "                                   max_depth=4, max_features='sqrt',\n",
        "                                   min_samples_leaf=15, min_samples_split=10, \n",
        "                                   loss='huber', random_state =5)"
      ],
      "metadata": {
        "id": "T0oAd0LjQgE9"
      },
      "execution_count": 23,
      "outputs": []
    },
    {
      "cell_type": "markdown",
      "source": [
        "## XGBoost :"
      ],
      "metadata": {
        "id": "Iqjm9YLFQivY"
      }
    },
    {
      "cell_type": "code",
      "source": [
        "model_xgb = xgb.XGBRegressor(colsample_bytree=0.4603, gamma=0.0468, \n",
        "                             learning_rate=0.05, max_depth=3, \n",
        "                             min_child_weight=1.7817, n_estimators=2200,\n",
        "                             reg_alpha=0.4640, reg_lambda=0.8571,\n",
        "                             subsample=0.5213, silent=1,\n",
        "                             random_state =7, nthread = -1)"
      ],
      "metadata": {
        "id": "WYfnhpxWQjuq"
      },
      "execution_count": 24,
      "outputs": []
    },
    {
      "cell_type": "markdown",
      "source": [
        "## LightGBM :"
      ],
      "metadata": {
        "id": "KMk8RQFHQllV"
      }
    },
    {
      "cell_type": "code",
      "source": [
        "model_lgb = lgb.LGBMRegressor(objective='regression',num_leaves=5,\n",
        "                              learning_rate=0.05, n_estimators=720,\n",
        "                              max_bin = 55, bagging_fraction = 0.8,\n",
        "                              bagging_freq = 5, feature_fraction = 0.2319,\n",
        "                              feature_fraction_seed=9, bagging_seed=9,\n",
        "                              min_data_in_leaf =6, min_sum_hessian_in_leaf = 11)"
      ],
      "metadata": {
        "id": "nkdgAtlaQt2z"
      },
      "execution_count": 25,
      "outputs": []
    },
    {
      "cell_type": "markdown",
      "source": [
        "# Scores : Base model"
      ],
      "metadata": {
        "id": "rHI87H44Qx0y"
      }
    },
    {
      "cell_type": "code",
      "source": [
        "score = rmsle_cv(lasso)\n",
        "print(\"Lasso score: {:.4f} ({:.4f})\\n\".format(score.mean(), score.std()))"
      ],
      "metadata": {
        "colab": {
          "base_uri": "https://localhost:8080/"
        },
        "id": "zzjiiRBxQxOl",
        "outputId": "6aca38de-5d30-4bd4-ac70-d9e735f61ccd"
      },
      "execution_count": 26,
      "outputs": [
        {
          "output_type": "stream",
          "name": "stdout",
          "text": [
            "Lasso score: 0.7459 (0.1228)\n",
            "\n"
          ]
        }
      ]
    },
    {
      "cell_type": "code",
      "source": [
        "score = rmsle_cv(ENet)\n",
        "print(\"ElasticNet score: {:.4f} ({:.4f})\\n\".format(score.mean(), score.std()))"
      ],
      "metadata": {
        "colab": {
          "base_uri": "https://localhost:8080/"
        },
        "id": "89Z_kvzzQ5EW",
        "outputId": "9a8e4276-2d14-44ac-a151-92eb56f3121a"
      },
      "execution_count": 27,
      "outputs": [
        {
          "output_type": "stream",
          "name": "stdout",
          "text": [
            "ElasticNet score: 0.7461 (0.1228)\n",
            "\n"
          ]
        }
      ]
    },
    {
      "cell_type": "code",
      "source": [
        "score = rmsle_cv(KRR)\n",
        "print(\"Kernel Ridge score: {:.4f} ({:.4f})\\n\".format(score.mean(), score.std()))"
      ],
      "metadata": {
        "colab": {
          "base_uri": "https://localhost:8080/"
        },
        "id": "HYjHodCBQ6Lu",
        "outputId": "c106a1c6-4a11-4483-dce9-8d2ed94e1229"
      },
      "execution_count": 28,
      "outputs": [
        {
          "output_type": "stream",
          "name": "stdout",
          "text": [
            "Kernel Ridge score: 0.7694 (0.0858)\n",
            "\n"
          ]
        }
      ]
    },
    {
      "cell_type": "code",
      "source": [
        "score = rmsle_cv(GBoost)\n",
        "print(\"Gradient Boosting score: {:.4f} ({:.4f})\\n\".format(score.mean(), score.std()))"
      ],
      "metadata": {
        "colab": {
          "base_uri": "https://localhost:8080/"
        },
        "id": "Cue7lFx0Q74M",
        "outputId": "0b7d68d9-cc16-4fb9-82ac-9f71d4fd084c"
      },
      "execution_count": 29,
      "outputs": [
        {
          "output_type": "stream",
          "name": "stdout",
          "text": [
            "Gradient Boosting score: 0.7225 (0.1216)\n",
            "\n"
          ]
        }
      ]
    },
    {
      "cell_type": "code",
      "source": [
        "score = rmsle_cv(model_xgb)\n",
        "print(\"Xgboost score: {:.4f} ({:.4f})\\n\".format(score.mean(), score.std()))"
      ],
      "metadata": {
        "colab": {
          "base_uri": "https://localhost:8080/"
        },
        "id": "njY9J-cQQ89K",
        "outputId": "81c330e3-efd2-41de-b3b5-cab7ea558520"
      },
      "execution_count": 30,
      "outputs": [
        {
          "output_type": "stream",
          "name": "stdout",
          "text": [
            "Xgboost score: 0.7185 (0.1012)\n",
            "\n"
          ]
        }
      ]
    },
    {
      "cell_type": "code",
      "source": [
        "core = rmsle_cv(model_lgb)\n",
        "print(\"LGBM score: {:.4f} ({:.4f})\\n\" .format(score.mean(), score.std()))"
      ],
      "metadata": {
        "colab": {
          "base_uri": "https://localhost:8080/"
        },
        "id": "NzH536_0Q99o",
        "outputId": "66230df9-49bf-4bd2-eb39-98a1fc3e589b"
      },
      "execution_count": 31,
      "outputs": [
        {
          "output_type": "stream",
          "name": "stdout",
          "text": [
            "LGBM score: 0.7185 (0.1012)\n",
            "\n"
          ]
        }
      ]
    },
    {
      "cell_type": "markdown",
      "source": [
        "## Stacking averaged Models Class"
      ],
      "metadata": {
        "id": "03SbYulASMEX"
      }
    },
    {
      "cell_type": "code",
      "source": [
        "class AveragingModels(BaseEstimator, RegressorMixin, TransformerMixin):\n",
        "    def __init__(self, models):\n",
        "        self.models = models\n",
        "        \n",
        "    # we define clones of the original models to fit the data in\n",
        "    def fit(self, X, y):\n",
        "        self.models_ = [clone(x) for x in self.models]\n",
        "        \n",
        "        # Train cloned base models\n",
        "        for model in self.models_:\n",
        "            model.fit(X, y)\n",
        "\n",
        "        return self\n",
        "    \n",
        "    #Now we do the predictions for cloned models and average them\n",
        "    def predict(self, X):\n",
        "        predictions = np.column_stack([\n",
        "            model.predict(X) for model in self.models_\n",
        "        ])\n",
        "        return np.mean(predictions, axis=1)  "
      ],
      "metadata": {
        "id": "FSW8umGVSgqj"
      },
      "execution_count": 32,
      "outputs": []
    },
    {
      "cell_type": "code",
      "source": [
        "averaged_models = AveragingModels(models = (ENet, GBoost, KRR, lasso))\n",
        "\n",
        "score = rmsle_cv(averaged_models)\n",
        "print(\" Averaged base models score: {:.4f} ({:.4f})\\n\".format(score.mean(), score.std()))"
      ],
      "metadata": {
        "colab": {
          "base_uri": "https://localhost:8080/"
        },
        "id": "E3URCi09SlKd",
        "outputId": "195027b5-e900-40b8-8052-5152a7e9ede8"
      },
      "execution_count": 33,
      "outputs": [
        {
          "output_type": "stream",
          "name": "stdout",
          "text": [
            " Averaged base models score: 0.7137 (0.1197)\n",
            "\n"
          ]
        }
      ]
    },
    {
      "cell_type": "code",
      "source": [
        "averaged_models = AveragingModels(models = (ENet, GBoost, KRR))\n",
        "\n",
        "score = rmsle_cv(averaged_models)\n",
        "print(\"Averaged models score: {:.4f} ({:.4f})\".format(score.mean(), score.std()))"
      ],
      "metadata": {
        "colab": {
          "base_uri": "https://localhost:8080/"
        },
        "id": "NJs8mkwdSUfe",
        "outputId": "163f1517-8257-4b20-fbbe-eb6c087aa1cf"
      },
      "execution_count": 34,
      "outputs": [
        {
          "output_type": "stream",
          "name": "stdout",
          "text": [
            "Averaged models score: 0.7088 (0.1173)\n"
          ]
        }
      ]
    },
    {
      "cell_type": "code",
      "source": [
        "def rmsle(y, y_pred):\n",
        "    return np.sqrt(mean_squared_error(y, y_pred))"
      ],
      "metadata": {
        "id": "G6JTOnsbVFmd"
      },
      "execution_count": 35,
      "outputs": []
    },
    {
      "cell_type": "code",
      "source": [
        "averaged_models.fit(x, y1)\n",
        "av_train_pred = averaged_models.predict(X)\n",
        "print(rmsle(Y1, av_train_pred))"
      ],
      "metadata": {
        "colab": {
          "base_uri": "https://localhost:8080/"
        },
        "id": "kJfNSACaWX2M",
        "outputId": "efc19ef5-3c0a-4d84-d05b-d3aed58b1618"
      },
      "execution_count": 36,
      "outputs": [
        {
          "output_type": "stream",
          "name": "stdout",
          "text": [
            "0.7098716051264861\n"
          ]
        }
      ]
    },
    {
      "cell_type": "code",
      "source": [
        "model_xgb.fit(x, y1)\n",
        "xgb_train_pred = model_xgb.predict(X)\n",
        "print(rmsle(Y1, xgb_train_pred))"
      ],
      "metadata": {
        "colab": {
          "base_uri": "https://localhost:8080/"
        },
        "id": "xkxv1RoTVUrl",
        "outputId": "dcb76db8-4356-470e-fd14-f27af54efd80"
      },
      "execution_count": 37,
      "outputs": [
        {
          "output_type": "stream",
          "name": "stdout",
          "text": [
            "0.6705469350072691\n"
          ]
        }
      ]
    },
    {
      "cell_type": "code",
      "source": [
        "model_lgb.fit(x, y1)\n",
        "lgb_train_pred = model_lgb.predict(X)\n",
        "print(rmsle(Y1, lgb_train_pred))"
      ],
      "metadata": {
        "colab": {
          "base_uri": "https://localhost:8080/"
        },
        "id": "n2aN-ZlyVmvN",
        "outputId": "162f93b6-0b65-4656-e21c-be1e8e9df85c"
      },
      "execution_count": 38,
      "outputs": [
        {
          "output_type": "stream",
          "name": "stdout",
          "text": [
            "0.6482126320487424\n"
          ]
        }
      ]
    },
    {
      "cell_type": "code",
      "source": [
        "xgb_train_pred"
      ],
      "metadata": {
        "colab": {
          "base_uri": "https://localhost:8080/"
        },
        "id": "WP2-2yDFW2nX",
        "outputId": "5605b97b-5b31-4dd0-efcc-85702e326b18"
      },
      "execution_count": 39,
      "outputs": [
        {
          "output_type": "execute_result",
          "data": {
            "text/plain": [
              "array([ 0.83442616,  1.1682924 ,  1.0079159 ,  0.34194416,  0.08145279,\n",
              "        0.41238707,  0.42766392,  0.5885949 ,  0.5633592 , -0.05872875,\n",
              "        0.16827032,  0.25814092,  0.31147623, -0.04117745,  0.19831166,\n",
              "        0.03149739, -0.04447073, -0.07249248,  0.67171216,  0.68546647,\n",
              "        0.71752375,  0.13805887,  0.3623324 ,  0.18405035,  0.19411126,\n",
              "        1.1136107 ,  0.6507272 ,  0.9474439 ,  0.18780306,  0.46699673,\n",
              "       -0.17238116,  0.7820288 ,  0.70051265,  0.45069006, -0.16417414,\n",
              "       -0.06424773, -0.19399005,  0.08607975,  0.5008315 ,  0.1685088 ,\n",
              "       -0.12362504,  0.09569469], dtype=float32)"
            ]
          },
          "metadata": {},
          "execution_count": 39
        }
      ]
    },
    {
      "cell_type": "code",
      "source": [
        "test[\"Name\"] = test[\"year\"].apply(str) + ' ' + test[\"mon\"].apply(str)\n",
        "test"
      ],
      "metadata": {
        "id": "67_Cj257lQZZ"
      },
      "execution_count": null,
      "outputs": []
    },
    {
      "cell_type": "code",
      "source": [
        "Y1 = Y1.set_index(test[\"Name\"])"
      ],
      "metadata": {
        "id": "nM0uKKYAxsv5"
      },
      "execution_count": 41,
      "outputs": []
    },
    {
      "cell_type": "code",
      "source": [
        "lgb_train_pred = pd.DataFrame(lgb_train_pred)\n",
        "lgb_train_pred = lgb_train_pred.set_index(test[\"Name\"])"
      ],
      "metadata": {
        "id": "BwYbldJVI2UQ"
      },
      "execution_count": 42,
      "outputs": []
    },
    {
      "cell_type": "code",
      "source": [
        "# Y1 = Y1.values.tolist()"
      ],
      "metadata": {
        "id": "I2dtFtKWkk30"
      },
      "execution_count": 43,
      "outputs": []
    },
    {
      "cell_type": "code",
      "source": [
        "plt.figure(figsize=(30, 5))  \n",
        "\n",
        "plt.plot(Y1, color='red', label='real')\n",
        "plt.plot(lgb_train_pred, color='blue', label='predicted')\n",
        "plt.title('Prediction')\n",
        "plt.xlabel('time')\n",
        "plt.ylabel('Frequency')\n",
        "plt.legend()\n",
        "plt.show()"
      ],
      "metadata": {
        "colab": {
          "base_uri": "https://localhost:8080/",
          "height": 290
        },
        "id": "USN0HXkra4qA",
        "outputId": "1c8dd053-6709-49e2-d949-e7e8aa954579"
      },
      "execution_count": 44,
      "outputs": [
        {
          "output_type": "display_data",
          "data": {
            "text/plain": [
              "<Figure size 2160x360 with 1 Axes>"
            ],
            "image/png": "[encoded data removed]"
          },
          "metadata": {
            "needs_background": "light"
          }
        }
      ]
    },
    {
      "cell_type": "markdown",
      "source": [
        "https://han-py.tistory.com/330\n",
        "https://d2.naver.com/helloworld/0065813\n",
        "https://romg2.github.io/mlguide/10_%EB%A8%B8%EC%8B%A0%EB%9F%AC%EB%8B%9D-%EC%99%84%EB%B2%BD%EA%B0%80%EC%9D%B4%EB%93%9C-05.-%ED%9A%8C%EA%B7%80-%EC%8B%A4%EC%8A%B5/"
      ],
      "metadata": {
        "id": "lJSTSseTdCOX"
      }
    },
    {
      "cell_type": "code",
      "source": [],
      "metadata": {
        "id": "dIdqL8Arn7Cn"
      },
      "execution_count": 44,
      "outputs": []
    },
    {
      "cell_type": "markdown",
      "source": [
        "#Modelling\n"
      ],
      "metadata": {
        "id": "ZVt_uPO7oIRt"
      }
    },
    {
      "cell_type": "code",
      "source": [
        "#Validation function\n",
        "n_folds = 5\n",
        "\n",
        "def rmsle_cv(model):\n",
        "    kf = KFold(n_folds, shuffle=True, random_state=42).get_n_splits(train.values)\n",
        "    rmse= np.sqrt(-cross_val_score(model, x.values, y2, scoring=\"neg_mean_squared_error\", cv = kf))\n",
        "    return(rmse)"
      ],
      "metadata": {
        "id": "GyvnxhdmoIRz"
      },
      "execution_count": 45,
      "outputs": []
    },
    {
      "cell_type": "markdown",
      "source": [
        "# Scores : Base model"
      ],
      "metadata": {
        "id": "IUOS9Qp7oIR1"
      }
    },
    {
      "cell_type": "code",
      "source": [
        "score = rmsle_cv(lasso)\n",
        "print(\"Lasso score: {:.4f} ({:.4f})\\n\".format(score.mean(), score.std()))"
      ],
      "metadata": {
        "colab": {
          "base_uri": "https://localhost:8080/"
        },
        "outputId": "a226414c-9ade-4411-f2c5-bd94e61148fb",
        "id": "n3N69jVdoIR1"
      },
      "execution_count": 46,
      "outputs": [
        {
          "output_type": "stream",
          "name": "stdout",
          "text": [
            "Lasso score: 30.6443 (2.0763)\n",
            "\n"
          ]
        }
      ]
    },
    {
      "cell_type": "code",
      "source": [
        "score = rmsle_cv(ENet)\n",
        "print(\"ElasticNet score: {:.4f} ({:.4f})\\n\".format(score.mean(), score.std()))"
      ],
      "metadata": {
        "colab": {
          "base_uri": "https://localhost:8080/"
        },
        "outputId": "f9739fec-9659-47a7-90e5-36c7b143fb1f",
        "id": "w1mG5r1voIR1"
      },
      "execution_count": 47,
      "outputs": [
        {
          "output_type": "stream",
          "name": "stdout",
          "text": [
            "ElasticNet score: 30.6434 (2.0764)\n",
            "\n"
          ]
        }
      ]
    },
    {
      "cell_type": "code",
      "source": [
        "score = rmsle_cv(KRR)\n",
        "print(\"Kernel Ridge score: {:.4f} ({:.4f})\\n\".format(score.mean(), score.std()))"
      ],
      "metadata": {
        "colab": {
          "base_uri": "https://localhost:8080/"
        },
        "outputId": "26b459b7-2224-4657-cb4c-5cea4db2ac79",
        "id": "bxLGJXfYoIR1"
      },
      "execution_count": 48,
      "outputs": [
        {
          "output_type": "stream",
          "name": "stdout",
          "text": [
            "Kernel Ridge score: 31.8428 (3.0925)\n",
            "\n"
          ]
        }
      ]
    },
    {
      "cell_type": "code",
      "source": [
        "score = rmsle_cv(GBoost)\n",
        "print(\"Gradient Boosting score: {:.4f} ({:.4f})\\n\".format(score.mean(), score.std()))"
      ],
      "metadata": {
        "colab": {
          "base_uri": "https://localhost:8080/"
        },
        "outputId": "b50c01ae-6f24-42bd-ee42-286121948c1e",
        "id": "Gh8UbZvfoIR1"
      },
      "execution_count": 49,
      "outputs": [
        {
          "output_type": "stream",
          "name": "stdout",
          "text": [
            "Gradient Boosting score: 30.5727 (3.8422)\n",
            "\n"
          ]
        }
      ]
    },
    {
      "cell_type": "code",
      "source": [
        "score = rmsle_cv(model_xgb)\n",
        "print(\"Xgboost score: {:.4f} ({:.4f})\\n\".format(score.mean(), score.std()))"
      ],
      "metadata": {
        "colab": {
          "base_uri": "https://localhost:8080/"
        },
        "outputId": "5d263671-349e-46fd-f399-2d32ff16f548",
        "id": "jX9lRWj2oIR2"
      },
      "execution_count": 50,
      "outputs": [
        {
          "output_type": "stream",
          "name": "stdout",
          "text": [
            "Xgboost score: 30.7470 (3.3424)\n",
            "\n"
          ]
        }
      ]
    },
    {
      "cell_type": "code",
      "source": [
        "core = rmsle_cv(model_lgb)\n",
        "print(\"LGBM score: {:.4f} ({:.4f})\\n\" .format(score.mean(), score.std()))"
      ],
      "metadata": {
        "colab": {
          "base_uri": "https://localhost:8080/"
        },
        "outputId": "b55d57e3-a0cb-479f-df70-37aae43dfadd",
        "id": "_j6xWFBroIR2"
      },
      "execution_count": 51,
      "outputs": [
        {
          "output_type": "stream",
          "name": "stdout",
          "text": [
            "LGBM score: 30.7470 (3.3424)\n",
            "\n"
          ]
        }
      ]
    },
    {
      "cell_type": "markdown",
      "source": [
        "## Stacking averaged Models Class"
      ],
      "metadata": {
        "id": "CmCLe32coIR2"
      }
    },
    {
      "cell_type": "code",
      "source": [
        "class AveragingModels(BaseEstimator, RegressorMixin, TransformerMixin):\n",
        "    def __init__(self, models):\n",
        "        self.models = models\n",
        "        \n",
        "    # we define clones of the original models to fit the data in\n",
        "    def fit(self, X, y):\n",
        "        self.models_ = [clone(x) for x in self.models]\n",
        "        \n",
        "        # Train cloned base models\n",
        "        for model in self.models_:\n",
        "            model.fit(X, y)\n",
        "\n",
        "        return self\n",
        "    \n",
        "    #Now we do the predictions for cloned models and average them\n",
        "    def predict(self, X):\n",
        "        predictions = np.column_stack([\n",
        "            model.predict(X) for model in self.models_\n",
        "        ])\n",
        "        return np.mean(predictions, axis=1)  "
      ],
      "metadata": {
        "id": "BVRnztQToIR2"
      },
      "execution_count": 52,
      "outputs": []
    },
    {
      "cell_type": "code",
      "source": [
        "averaged_models = AveragingModels(models = (ENet, GBoost, KRR, lasso))\n",
        "\n",
        "score = rmsle_cv(averaged_models)\n",
        "print(\" Averaged base models score: {:.4f} ({:.4f})\\n\".format(score.mean(), score.std()))"
      ],
      "metadata": {
        "colab": {
          "base_uri": "https://localhost:8080/"
        },
        "outputId": "d7cdd96f-84f2-466e-d274-25078cdf843a",
        "id": "P4YMa8AXoIR2"
      },
      "execution_count": 53,
      "outputs": [
        {
          "output_type": "stream",
          "name": "stdout",
          "text": [
            " Averaged base models score: 29.5380 (2.5413)\n",
            "\n"
          ]
        }
      ]
    },
    {
      "cell_type": "code",
      "source": [
        "averaged_models = AveragingModels(models = (ENet, GBoost, KRR))\n",
        "\n",
        "score = rmsle_cv(averaged_models)\n",
        "print(\"Averaged models score: {:.4f} ({:.4f})\".format(score.mean(), score.std()))"
      ],
      "metadata": {
        "colab": {
          "base_uri": "https://localhost:8080/"
        },
        "outputId": "5776d8b9-ad6c-446a-f4c4-358c4098993b",
        "id": "xTZNpSxGoIR2"
      },
      "execution_count": 54,
      "outputs": [
        {
          "output_type": "stream",
          "name": "stdout",
          "text": [
            "Averaged models score: 29.4312 (2.7621)\n"
          ]
        }
      ]
    },
    {
      "cell_type": "code",
      "source": [
        "def rmsle(y, y_pred):\n",
        "    return np.sqrt(mean_squared_error(y, y_pred))"
      ],
      "metadata": {
        "id": "Ql13TLeeoIR2"
      },
      "execution_count": 55,
      "outputs": []
    },
    {
      "cell_type": "code",
      "source": [
        "averaged_models.fit(x, y2)\n",
        "av_train_pred = averaged_models.predict(X)\n",
        "print(rmsle(Y2, av_train_pred))"
      ],
      "metadata": {
        "colab": {
          "base_uri": "https://localhost:8080/"
        },
        "outputId": "a6a694ca-c6a6-4d76-9c1b-12a96083c4cb",
        "id": "dtwPFy4voIR2"
      },
      "execution_count": 56,
      "outputs": [
        {
          "output_type": "stream",
          "name": "stdout",
          "text": [
            "30.84269631691149\n"
          ]
        }
      ]
    },
    {
      "cell_type": "code",
      "source": [
        "model_xgb.fit(x, y2)\n",
        "xgb_train_pred = model_xgb.predict(X)\n",
        "print(rmsle(Y2, xgb_train_pred))"
      ],
      "metadata": {
        "colab": {
          "base_uri": "https://localhost:8080/"
        },
        "outputId": "b67116cb-3f52-4ba7-db84-8033ad6e12d9",
        "id": "gIMGYi2NoIR2"
      },
      "execution_count": 57,
      "outputs": [
        {
          "output_type": "stream",
          "name": "stdout",
          "text": [
            "30.17159713577992\n"
          ]
        }
      ]
    },
    {
      "cell_type": "code",
      "source": [
        "model_lgb.fit(x, y2)\n",
        "lgb_train_pred = model_lgb.predict(X)\n",
        "print(rmsle(Y2, lgb_train_pred))"
      ],
      "metadata": {
        "colab": {
          "base_uri": "https://localhost:8080/"
        },
        "outputId": "52c265c2-f094-4140-953c-5d781b7d8269",
        "id": "xMJpdtRioIR2"
      },
      "execution_count": 58,
      "outputs": [
        {
          "output_type": "stream",
          "name": "stdout",
          "text": [
            "31.235832902080663\n"
          ]
        }
      ]
    },
    {
      "cell_type": "code",
      "source": [
        "xgb_train_pred"
      ],
      "metadata": {
        "id": "ZQ1aHnbxoIR3"
      },
      "execution_count": null,
      "outputs": []
    },
    {
      "cell_type": "code",
      "source": [
        "#Y2 = Y2.values.tolist()"
      ],
      "metadata": {
        "id": "ultWQMMfoIR3"
      },
      "execution_count": 60,
      "outputs": []
    },
    {
      "cell_type": "code",
      "source": [
        "Y2 = Y2.set_index(test[\"Name\"])\n",
        "xgb_train_pred = pd.DataFrame(xgb_train_pred)\n",
        "xgb_train_pred = xgb_train_pred.set_index(test[\"Name\"])"
      ],
      "metadata": {
        "id": "IPDNFAsHoIR3"
      },
      "execution_count": 63,
      "outputs": []
    },
    {
      "cell_type": "code",
      "source": [
        "plt.figure(figsize=(30, 5))  \n",
        "plt.plot(Y2, color='red', label='real')\n",
        "plt.plot(xgb_train_pred, color='blue', label='predicted')\n",
        "plt.title('Prediction')\n",
        "plt.xlabel('time')\n",
        "plt.ylabel('Frequency')\n",
        "plt.legend()\n",
        "plt.show()"
      ],
      "metadata": {
        "colab": {
          "base_uri": "https://localhost:8080/",
          "height": 290
        },
        "outputId": "9d922209-3c36-4bcb-e5c4-07791a4cf19a",
        "id": "Ebj8Ws9foIR3"
      },
      "execution_count": 64,
      "outputs": [
        {
          "output_type": "display_data",
          "data": {
            "text/plain": [
              "<Figure size 2160x360 with 1 Axes>"
            ],
            "image/png": "[encoded data removed]"
          },
          "metadata": {
            "needs_background": "light"
          }
        }
      ]
    }
  ],
  "metadata": {
    "colab": {
      "provenance": [],
      "collapsed_sections": [
        "2QbgU6cUum01",
        "mtBffH8_Lz3c",
        "wyAlOApFQSWK",
        "ZeBEWEBlQXmt",
        "5qjhChPlQbRa",
        "Tpw4jmW5QfHm",
        "Iqjm9YLFQivY",
        "KMk8RQFHQllV",
        "ZVt_uPO7oIRt"
      ],
      "authorship_tag": "ABX9TyN4xgNZ9oZZRo1ql0VR2gIg",
      "include_colab_link": true
    },
    "kernelspec": {
      "display_name": "Python 3",
      "name": "python3"
    },
    "language_info": {
      "name": "python"
    }
  },
  "nbformat": 4,
  "nbformat_minor": 0
}