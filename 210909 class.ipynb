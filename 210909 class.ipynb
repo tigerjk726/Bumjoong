{
 "cells": [
  {
   "cell_type": "markdown",
   "id": "d9ec5435",
   "metadata": {},
   "source": [
    "# Class\n",
    "\n",
    "클래스는 재사용성, 틀"
   ]
  },
  {
   "cell_type": "code",
   "execution_count": 5,
   "id": "55ca3f74",
   "metadata": {},
   "outputs": [],
   "source": [
    "class Student:\n",
    "    #멤버변수 : 클래스의 내부변수\n",
    "    # 멤버변수의 속성에는 public, protected, private\n",
    "    _id = None\n",
    "    name = None\n",
    "    __age = None   #__은 프라이빗속성\n",
    "    \n",
    "    #생성자 : 생성자는 객체가 생성될때 최초로 호출되는 함수, 멤버변수를 초기화할때 상요\n",
    "    def __init__(self, _id, name, age):\n",
    "        self._id = _id\n",
    "        self.name = name\n",
    "        self.__age = age\n",
    "    # 메소드 : 클래스 내부의 함수\n",
    "    \n",
    "    # 멤버접근 연산자\n",
    "    # id 멤버변수를 변경한다.\n",
    "    \n",
    "    def set_id(self, _id):\n",
    "        self._id = _id\n",
    "        \n",
    "    # age 멤버변수를 반환한다.\n",
    "    def get_age(self):\n",
    "        return self.__age\n",
    "        \n",
    "# stu는 Student 클래스의 인스턴스\n",
    "\n",
    "stu = Student(2021, \"범중\", 40)"
   ]
  },
  {
   "cell_type": "code",
   "execution_count": 6,
   "id": "9bda8f0e",
   "metadata": {},
   "outputs": [
    {
     "data": {
      "text/plain": [
       "2021"
      ]
     },
     "execution_count": 6,
     "metadata": {},
     "output_type": "execute_result"
    }
   ],
   "source": [
    "stu._id"
   ]
  },
  {
   "cell_type": "code",
   "execution_count": 11,
   "id": "d2764a99",
   "metadata": {},
   "outputs": [
    {
     "data": {
      "text/plain": [
       "40"
      ]
     },
     "execution_count": 11,
     "metadata": {},
     "output_type": "execute_result"
    }
   ],
   "source": [
    "stu.get_age()"
   ]
  },
  {
   "cell_type": "code",
   "execution_count": 45,
   "id": "ab69f005",
   "metadata": {},
   "outputs": [
    {
     "name": "stdout",
     "output_type": "stream",
     "text": [
      "True\n"
     ]
    }
   ],
   "source": [
    "class DoorLock:\n",
    "\n",
    "    def __init__(self, name, pw):\n",
    "        self.name = name\n",
    "        self.pw = pw\n",
    "        \n",
    "    def open_door(self, name, pw):\n",
    "            if (self.name == name and self.pw == pw):\n",
    "            return True\n",
    "        else:\n",
    "            return False\n",
    "        pass\n",
    "    \n",
    "door = DoorLock(\"김범중\", 123)\n",
    "\n",
    "print(door.open_door(\"김범중\", 123))"
   ]
  },
  {
   "cell_type": "code",
   "execution_count": 42,
   "id": "e86bbb56",
   "metadata": {},
   "outputs": [
    {
     "name": "stdout",
     "output_type": "stream",
     "text": [
      "False\n"
     ]
    }
   ],
   "source": []
  }
 ],
 "metadata": {
  "kernelspec": {
   "display_name": "Python 3",
   "language": "python",
   "name": "python3"
  },
  "language_info": {
   "codemirror_mode": {
    "name": "ipython",
    "version": 3
   },
   "file_extension": ".py",
   "mimetype": "text/x-python",
   "name": "python",
   "nbconvert_exporter": "python",
   "pygments_lexer": "ipython3",
   "version": "3.8.8"
  }
 },
 "nbformat": 4,
 "nbformat_minor": 5
}
